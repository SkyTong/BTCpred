{
 "cells": [
  {
   "cell_type": "code",
   "execution_count": null,
   "id": "initial_id",
   "metadata": {
    "collapsed": true
   },
   "outputs": [],
   "source": [
    ""
   ]
  },
  {
   "metadata": {
    "ExecuteTime": {
     "end_time": "2024-04-22T22:48:15.281761Z",
     "start_time": "2024-04-22T22:48:14.356663Z"
    }
   },
   "cell_type": "code",
   "source": [
    "import yfinance as yf\n",
    "\n",
    "# Define the tickers for the cryptocurrencies you're interested in\n",
    "tickers = ['BTC-USD', 'ETH-USD', 'LTC-USD']\n",
    "\n",
    "# Define the start and end dates\n",
    "start_date = '2014-1-1'\n",
    "end_date = '2024-01-01'\n",
    "\n",
    "# Loop through each ticker and download the data\n",
    "for ticker in tickers:\n",
    "    print(f\"Downloading {ticker} data...\")\n",
    "    data = yf.download(ticker, start=start_date, end=end_date,interval=\"1d\")\n",
    "    filename = f\"{ticker}_data_from_{start_date}_to_{end_date}.csv\"\n",
    "    data.to_csv(filename)\n",
    "    print(f\"{ticker} data saved to {filename}\")"
   ],
   "id": "85a861d6deb68c35",
   "outputs": [
    {
     "name": "stdout",
     "output_type": "stream",
     "text": [
      "Downloading BTC-USD data...\n"
     ]
    },
    {
     "name": "stderr",
     "output_type": "stream",
     "text": [
      "E:\\DS440proj\\BTCpred\\.venv\\lib\\site-packages\\yfinance\\utils.py:775: FutureWarning: The 'unit' keyword in TimedeltaIndex construction is deprecated and will be removed in a future version. Use pd.to_timedelta instead.\n",
      "  df.index += _pd.TimedeltaIndex(dst_error_hours, 'h')\n",
      "[*********************100%%**********************]  1 of 1 completed\n",
      "E:\\DS440proj\\BTCpred\\.venv\\lib\\site-packages\\yfinance\\utils.py:775: FutureWarning: The 'unit' keyword in TimedeltaIndex construction is deprecated and will be removed in a future version. Use pd.to_timedelta instead.\n",
      "  df.index += _pd.TimedeltaIndex(dst_error_hours, 'h')\n",
      "[*********************100%%**********************]  1 of 1 completed\n"
     ]
    },
    {
     "name": "stdout",
     "output_type": "stream",
     "text": [
      "BTC-USD data saved to BTC-USD_data_from_2014-1-1_to_2024-01-01.csv\n",
      "Downloading ETH-USD data...\n",
      "ETH-USD data saved to ETH-USD_data_from_2014-1-1_to_2024-01-01.csv\n",
      "Downloading LTC-USD data...\n"
     ]
    },
    {
     "name": "stderr",
     "output_type": "stream",
     "text": [
      "E:\\DS440proj\\BTCpred\\.venv\\lib\\site-packages\\yfinance\\utils.py:775: FutureWarning: The 'unit' keyword in TimedeltaIndex construction is deprecated and will be removed in a future version. Use pd.to_timedelta instead.\n",
      "  df.index += _pd.TimedeltaIndex(dst_error_hours, 'h')\n",
      "[*********************100%%**********************]  1 of 1 completed"
     ]
    },
    {
     "name": "stdout",
     "output_type": "stream",
     "text": [
      "LTC-USD data saved to LTC-USD_data_from_2014-1-1_to_2024-01-01.csv\n"
     ]
    },
    {
     "name": "stderr",
     "output_type": "stream",
     "text": [
      "\n"
     ]
    }
   ],
   "execution_count": 1
  },
  {
   "metadata": {
    "ExecuteTime": {
     "end_time": "2024-04-11T14:38:23.133929Z",
     "start_time": "2024-04-11T14:38:22.735908Z"
    }
   },
   "cell_type": "code",
   "source": [
    "import yfinance as yf\n",
    "import pandas as pd\n",
    "from datetime import datetime, timedelta\n",
    "\n",
    "def download_and_resample_data(ticker, start_date, end_date, download_interval, resample_interval):\n",
    "    # Convert string dates to datetime objects\n",
    "    start = datetime.strptime(start_date, \"%Y-%m-%d %H:%M\")\n",
    "    end = datetime.strptime(end_date, \"%Y-%m-%d %H:%M\")\n",
    "    \n",
    "    # Initialize an empty DataFrame to store concatenated data\n",
    "    full_data = pd.DataFrame()\n",
    "    \n",
    "    # Calculate the number of days in each download segment (considering the 60-day limitation)\n",
    "    segment_length = 60\n",
    "    \n",
    "    # Loop to download data in segments\n",
    "    while start < end:\n",
    "        # Calculate the end date for the current segment\n",
    "        segment_end = min(start + timedelta(days=segment_length), end)\n",
    "        \n",
    "        # Download data for the current segment\n",
    "        segment_data = yf.download(ticker, start=start, end=segment_end, interval=download_interval, progress=False)\n",
    "        \n",
    "        # Resample the segment data to the desired interval\n",
    "        resampled_segment_data = segment_data.resample(resample_interval).first()\n",
    "        \n",
    "        # Concatenate the resampled segment data to the full dataset\n",
    "        full_data = pd.concat([full_data, resampled_segment_data])\n",
    "        \n",
    "        # Update the start date for the next segment\n",
    "        start = segment_end\n",
    "    \n",
    "    return full_data\n",
    "\n",
    "# Ticker symbol for Bitcoin priced in USD\n",
    "ticker = \"BTC-USD\"\n",
    "\n",
    "# Desired data period\n",
    "start_date = \"2024-2-12 00:00\"\n",
    "end_date = \"2024-4-10 00:00\"\n",
    "\n",
    "# Download interval supported by yfinance (5 minutes)\n",
    "download_interval = \"5m\"\n",
    "\n",
    "# Interval to resample the data to (10 minutes)\n",
    "resample_interval = \"10min\"\n",
    "\n",
    "# Download and resample the data\n",
    "btc_data_resampled = download_and_resample_data(ticker, start_date, end_date, download_interval, resample_interval)\n",
    "\n",
    "# Save the resampled data to a CSV file\n",
    "filename = \"BTC_10min_resampled_data.csv\"\n",
    "btc_data_resampled.to_csv(filename)\n",
    "print(f\"Data saved to {filename}\")"
   ],
   "id": "cf893f95c58f2343",
   "outputs": [
    {
     "name": "stdout",
     "output_type": "stream",
     "text": [
      "Data saved to BTC_10min_resampled_data.csv\n"
     ]
    }
   ],
   "execution_count": 14
  },
  {
   "metadata": {},
   "cell_type": "code",
   "outputs": [],
   "execution_count": null,
   "source": "",
   "id": "a1de9083b337e8da"
  }
 ],
 "metadata": {
  "kernelspec": {
   "display_name": "Python 3",
   "language": "python",
   "name": "python3"
  },
  "language_info": {
   "codemirror_mode": {
    "name": "ipython",
    "version": 2
   },
   "file_extension": ".py",
   "mimetype": "text/x-python",
   "name": "python",
   "nbconvert_exporter": "python",
   "pygments_lexer": "ipython2",
   "version": "2.7.6"
  }
 },
 "nbformat": 4,
 "nbformat_minor": 5
}
