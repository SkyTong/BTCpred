{
 "cells": [
  {
   "cell_type": "code",
   "metadata": {
    "ExecuteTime": {
     "end_time": "2024-04-25T15:52:33.343794Z",
     "start_time": "2024-04-25T15:52:32.804549Z"
    }
   },
   "source": [
    "import pandas as pd\n",
    "import numpy as np\n",
    "import re\n",
    "import commons as cmns\n",
    "from sklearn.ensemble import RandomForestRegressor\n",
    "from sklearn.model_selection import train_test_split\n",
    "from sklearn.feature_selection import RFECV\n",
    "from sklearn.preprocessing import MinMaxScaler, RobustScaler\n",
    "from sklearn.impute import SimpleImputer\n",
    "from sklearn.pipeline import Pipeline\n",
    "import matplotlib.pyplot as plt\n",
    "import seaborn as sns\n",
    "%matplotlib inline\n",
    "from IPython.display import Audio\n",
    "sound_file = 'beep.wav'"
   ],
   "outputs": [],
   "execution_count": 1
  },
  {
   "cell_type": "code",
   "metadata": {
    "ExecuteTime": {
     "end_time": "2024-04-25T15:52:33.498379Z",
     "start_time": "2024-04-25T15:52:33.345296Z"
    }
   },
   "source": "data=pd.read_csv('all_BTC_Data.csv',sep=',')",
   "outputs": [],
   "execution_count": 2
  },
  {
   "cell_type": "code",
   "metadata": {
    "ExecuteTime": {
     "end_time": "2024-04-25T15:52:33.514402Z",
     "start_time": "2024-04-25T15:52:33.499386Z"
    }
   },
   "source": "data.shape",
   "outputs": [
    {
     "data": {
      "text/plain": [
       "(2436, 738)"
      ]
     },
     "execution_count": 3,
     "metadata": {},
     "output_type": "execute_result"
    }
   ],
   "execution_count": 3
  },
  {
   "metadata": {
    "ExecuteTime": {
     "end_time": "2024-04-25T15:52:33.544436Z",
     "start_time": "2024-04-25T15:52:33.518403Z"
    }
   },
   "cell_type": "code",
   "source": [
    "\n",
    "hashrate_cols = [col for col in data.columns if 'hashrate' in col]\n",
    "data.drop(columns=hashrate_cols, inplace=True)\n",
    "#for col in hashrate_cols:\n",
    "#    data[col] = np.log(data[col] + 1) \n",
    "'''\n",
    "difficulty_cols = [col for col in data.columns if 'difficulty' in col]\n",
    "for col in difficulty_cols:\n",
    "    data[col] = np.log(data[col] + 1) \n",
    "var_cols = [col for col in data.columns if 'sentinused'and'var' in col]\n",
    "for col in var_cols:\n",
    "    data[col] = np.log(data[col] + 1) '''"
   ],
   "outputs": [
    {
     "data": {
      "text/plain": [
       "\"\\ndifficulty_cols = [col for col in data.columns if 'difficulty' in col]\\nfor col in difficulty_cols:\\n    data[col] = np.log(data[col] + 1) \\nvar_cols = [col for col in data.columns if 'sentinused'and'var' in col]\\nfor col in var_cols:\\n    data[col] = np.log(data[col] + 1) \""
      ]
     },
     "execution_count": 4,
     "metadata": {},
     "output_type": "execute_result"
    }
   ],
   "execution_count": 4
  },
  {
   "cell_type": "code",
   "metadata": {
    "ExecuteTime": {
     "end_time": "2024-04-25T15:52:33.559954Z",
     "start_time": "2024-04-25T15:52:33.545938Z"
    }
   },
   "source": [
    "data.interpolate(axis=0,inplace=True)"
   ],
   "outputs": [
    {
     "name": "stderr",
     "output_type": "stream",
     "text": [
      "C:\\Users\\13275\\AppData\\Local\\Temp\\ipykernel_8532\\879274293.py:1: FutureWarning: DataFrame.interpolate with object dtype is deprecated and will raise in a future version. Call obj.infer_objects(copy=False) before interpolating instead.\n",
      "  data.interpolate(axis=0,inplace=True)\n"
     ]
    }
   ],
   "execution_count": 5
  },
  {
   "cell_type": "code",
   "metadata": {
    "ExecuteTime": {
     "end_time": "2024-04-25T15:52:33.575459Z",
     "start_time": "2024-04-25T15:52:33.561455Z"
    }
   },
   "source": [
    "interval1 = (data['Date'] >= '2020/01/01') & (data['Date'] <= '2023/01/01')\n",
    "interval2=(data['Date'] >= '2017/08/01') & (data['Date'] <= '2022/04/01')\n",
    "interval3=(data['Date'] >= '2022/08/01') & (data['Date'] <= '2024/04/01')"
   ],
   "outputs": [],
   "execution_count": 6
  },
  {
   "cell_type": "code",
   "metadata": {
    "ExecuteTime": {
     "end_time": "2024-04-25T15:52:34.162393Z",
     "start_time": "2024-04-25T15:52:34.147763Z"
    }
   },
   "source": [
    "data['one']=data['priceUSD'].shift(-1,fill_value=1)\n",
    "seven=data['priceUSD'].shift(-7,fill_value=1)\n",
    "fourteen=data['priceUSD'].shift(-14,fill_value=1)\n",
    "thirty=data['priceUSD'].shift(-30,fill_value=1)\n",
    "sixty=data['priceUSD'].shift(-60,fill_value=1)\n",
    "ninety=data['priceUSD'].shift(-90,fill_value=1)"
   ],
   "outputs": [],
   "execution_count": 7
  },
  {
   "metadata": {
    "ExecuteTime": {
     "end_time": "2024-04-25T15:52:35.136803Z",
     "start_time": "2024-04-25T15:52:35.118296Z"
    }
   },
   "cell_type": "code",
   "source": [
    "# Assuming 'data' is your DataFrame and it has a 'priceUSD' column with the daily closing prices of Bitcoin\n",
    "\n",
    "# Calculate daily returns\n",
    "data['daily_return'] = np.log(data['priceUSD'] / data['priceUSD'].shift(1))\n",
    "\n",
    "# Calculate the daily standard deviation (volatility) of the returns\n",
    "# Note: This will result in a NaN for the first row, because the previous price is not known\n",
    "daily_volatility = data['daily_return'].std()\n",
    "\n",
    "# Create a new column for the rolling daily volatility, using a 30-day window\n",
    "data['rolling_volatility_30d'] = data['daily_return'].rolling(window=30).std()\n",
    "\n",
    "# To annualize the daily volatility, assuming 365 trading days for Bitcoin:\n",
    "annualized_volatility = daily_volatility * np.sqrt(365)\n",
    "\n",
    "# Add the annualized volatility as a new column\n",
    "data['annualized_volatility'] = annualized_volatility\n",
    "\n",
    "# The 'annualized_volatility' column will have the same value throughout since we calculated it using the global standard deviation\n",
    "# If you want to observe how 30-day annualized volatility changes over time:\n",
    "data['annualized_rolling_volatility_30d'] = data['rolling_volatility_30d'] * np.sqrt(365)\n",
    "\n",
    "# Display the DataFrame with the new volatility columns\n",
    "print(data[['priceUSD', 'daily_return', 'rolling_volatility_30d', 'annualized_volatility', 'annualized_rolling_volatility_30d']].tail())"
   ],
   "outputs": [
    {
     "name": "stdout",
     "output_type": "stream",
     "text": [
      "      priceUSD  daily_return  rolling_volatility_30d  annualized_volatility  \\\n",
      "2431     70379      0.008261                0.025500               0.595143   \n",
      "2432     70055     -0.004614                0.024386               0.595143   \n",
      "2433     69970     -0.001214                0.023070               0.595143   \n",
      "2434     70429      0.006539                0.023027               0.595143   \n",
      "2435     69724     -0.010061                0.023174               0.595143   \n",
      "\n",
      "      annualized_rolling_volatility_30d  \n",
      "2431                           0.487176  \n",
      "2432                           0.465884  \n",
      "2433                           0.440758  \n",
      "2434                           0.439925  \n",
      "2435                           0.442744  \n"
     ]
    }
   ],
   "execution_count": 8
  },
  {
   "metadata": {
    "ExecuteTime": {
     "end_time": "2024-04-25T15:52:41.245193Z",
     "start_time": "2024-04-25T15:52:41.239183Z"
    }
   },
   "cell_type": "code",
   "source": "data['volatility_one']=data['rolling_volatility_30d'].shift(-1,fill_value=1)",
   "outputs": [],
   "execution_count": 9
  },
  {
   "metadata": {
    "ExecuteTime": {
     "end_time": "2024-04-25T15:52:41.893690Z",
     "start_time": "2024-04-25T15:52:41.882174Z"
    }
   },
   "cell_type": "code",
   "source": "interval1",
   "outputs": [
    {
     "data": {
      "text/plain": [
       "0       False\n",
       "1       False\n",
       "2       False\n",
       "3       False\n",
       "4       False\n",
       "        ...  \n",
       "2431    False\n",
       "2432    False\n",
       "2433    False\n",
       "2434    False\n",
       "2435    False\n",
       "Name: Date, Length: 2436, dtype: bool"
      ]
     },
     "execution_count": 10,
     "metadata": {},
     "output_type": "execute_result"
    }
   ],
   "execution_count": 10
  },
  {
   "cell_type": "code",
   "metadata": {
    "ExecuteTime": {
     "end_time": "2024-04-25T15:52:44.504788Z",
     "start_time": "2024-04-25T15:52:44.491276Z"
    }
   },
   "source": "df=data.loc[interval1]",
   "outputs": [],
   "execution_count": 11
  },
  {
   "cell_type": "code",
   "metadata": {
    "scrolled": true,
    "ExecuteTime": {
     "end_time": "2024-04-25T15:52:45.693937Z",
     "start_time": "2024-04-25T15:52:45.681926Z"
    }
   },
   "source": [
    "#df['priceUSD']=one.loc[interval3]"
   ],
   "outputs": [],
   "execution_count": 12
  },
  {
   "cell_type": "code",
   "metadata": {
    "ExecuteTime": {
     "end_time": "2024-04-25T15:52:46.204458Z",
     "start_time": "2024-04-25T15:52:46.176312Z"
    }
   },
   "source": "df",
   "outputs": [
    {
     "data": {
      "text/plain": [
       "      Unnamed: 0        Date  priceUSD  transactions    size  sentbyaddress  \\\n",
       "883          883  2020/01/01      7238        251561  441636         292748   \n",
       "884          884  2020/01/02      7127        295426  696127         363285   \n",
       "885          885  2020/01/03      7250        316348  629151         414656   \n",
       "886          886  2020/01/04      7390        287047  539139         364305   \n",
       "887          887  2020/01/05      7503        287616  555135         346762   \n",
       "...          ...         ...       ...           ...     ...            ...   \n",
       "1975        1975  2022/12/28     16640        272781  542347         529941   \n",
       "1976        1976  2022/12/29     16591        265814  692913         540607   \n",
       "1977        1977  2022/12/30     16550        290857  725552         585013   \n",
       "1978        1978  2022/12/31     16570        242169  573296         499947   \n",
       "1979        1979  2023/01/01     16559        187361  450915         403419   \n",
       "\n",
       "          difficulty  mining_profitability  sentinusdUSD  transactionfeesUSD  \\\n",
       "883   13031658000899                0.1540    2022006877               0.287   \n",
       "884   13798783827516                0.1110    3495275949               0.332   \n",
       "885   13798783827516                0.1440    5664998633               0.376   \n",
       "886   13798783827516                0.1430    3470997480               0.317   \n",
       "887   13798783827516                0.1310    2540098659               0.310   \n",
       "...              ...                   ...           ...                 ...   \n",
       "1975  35364065900457                0.0704    5572254030               1.261   \n",
       "1976  35364065900457                0.0545    6313826970               1.285   \n",
       "1977  35364065900457                0.0658    7554069544               1.240   \n",
       "1978  35364065900457                0.0557    4493923166               0.833   \n",
       "1979  35364065900457                0.0599    3568420249               0.629   \n",
       "\n",
       "      ...  price7rocUSD  price14rocUSD  price30rocUSD  price90rocUSD    one  \\\n",
       "883   ...        -0.621          6.448         -1.060        -12.325   7127   \n",
       "884   ...        -2.067         -0.704         -2.620        -12.800   7250   \n",
       "885   ...        -0.178          0.537         -0.878        -10.811   7390   \n",
       "886   ...         0.388          2.520          0.528         -7.813   7503   \n",
       "887   ...         0.460          3.131          0.905         -7.003   7588   \n",
       "...   ...           ...            ...            ...            ...    ...   \n",
       "1975  ...        -1.132         -6.904          2.625        -14.220  16591   \n",
       "1976  ...        -1.117         -5.644          1.084        -15.033  16550   \n",
       "1977  ...        -1.664         -3.219         -2.058        -14.375  16570   \n",
       "1978  ...        -1.551         -0.769         -2.867        -13.835  16559   \n",
       "1979  ...        -1.553         -1.062         -2.380        -14.249  16691   \n",
       "\n",
       "      daily_return  rolling_volatility_30d  annualized_volatility  \\\n",
       "883      -0.007570                0.016628               0.595143   \n",
       "884      -0.015455                0.016854               0.595143   \n",
       "885       0.017111                0.017171               0.595143   \n",
       "886       0.019126                0.017511               0.595143   \n",
       "887       0.015175                0.017606               0.595143   \n",
       "...            ...                     ...                    ...   \n",
       "1975     -0.009986                0.012768               0.595143   \n",
       "1976     -0.002949                0.012603               0.595143   \n",
       "1977     -0.002474                0.011377               0.595143   \n",
       "1978      0.001208                0.011221               0.595143   \n",
       "1979     -0.000664                0.011185               0.595143   \n",
       "\n",
       "      annualized_rolling_volatility_30d  volatility_one  \n",
       "883                            0.317683        0.016854  \n",
       "884                            0.321986        0.017171  \n",
       "885                            0.328052        0.017511  \n",
       "886                            0.334549        0.017606  \n",
       "887                            0.336356        0.017481  \n",
       "...                                 ...             ...  \n",
       "1975                           0.243930        0.012603  \n",
       "1976                           0.240773        0.011377  \n",
       "1977                           0.217352        0.011221  \n",
       "1978                           0.214372        0.011185  \n",
       "1979                           0.213691        0.011296  \n",
       "\n",
       "[1097 rows x 698 columns]"
      ],
      "text/html": [
       "<div>\n",
       "<style scoped>\n",
       "    .dataframe tbody tr th:only-of-type {\n",
       "        vertical-align: middle;\n",
       "    }\n",
       "\n",
       "    .dataframe tbody tr th {\n",
       "        vertical-align: top;\n",
       "    }\n",
       "\n",
       "    .dataframe thead th {\n",
       "        text-align: right;\n",
       "    }\n",
       "</style>\n",
       "<table border=\"1\" class=\"dataframe\">\n",
       "  <thead>\n",
       "    <tr style=\"text-align: right;\">\n",
       "      <th></th>\n",
       "      <th>Unnamed: 0</th>\n",
       "      <th>Date</th>\n",
       "      <th>priceUSD</th>\n",
       "      <th>transactions</th>\n",
       "      <th>size</th>\n",
       "      <th>sentbyaddress</th>\n",
       "      <th>difficulty</th>\n",
       "      <th>mining_profitability</th>\n",
       "      <th>sentinusdUSD</th>\n",
       "      <th>transactionfeesUSD</th>\n",
       "      <th>...</th>\n",
       "      <th>price7rocUSD</th>\n",
       "      <th>price14rocUSD</th>\n",
       "      <th>price30rocUSD</th>\n",
       "      <th>price90rocUSD</th>\n",
       "      <th>one</th>\n",
       "      <th>daily_return</th>\n",
       "      <th>rolling_volatility_30d</th>\n",
       "      <th>annualized_volatility</th>\n",
       "      <th>annualized_rolling_volatility_30d</th>\n",
       "      <th>volatility_one</th>\n",
       "    </tr>\n",
       "  </thead>\n",
       "  <tbody>\n",
       "    <tr>\n",
       "      <th>883</th>\n",
       "      <td>883</td>\n",
       "      <td>2020/01/01</td>\n",
       "      <td>7238</td>\n",
       "      <td>251561</td>\n",
       "      <td>441636</td>\n",
       "      <td>292748</td>\n",
       "      <td>13031658000899</td>\n",
       "      <td>0.1540</td>\n",
       "      <td>2022006877</td>\n",
       "      <td>0.287</td>\n",
       "      <td>...</td>\n",
       "      <td>-0.621</td>\n",
       "      <td>6.448</td>\n",
       "      <td>-1.060</td>\n",
       "      <td>-12.325</td>\n",
       "      <td>7127</td>\n",
       "      <td>-0.007570</td>\n",
       "      <td>0.016628</td>\n",
       "      <td>0.595143</td>\n",
       "      <td>0.317683</td>\n",
       "      <td>0.016854</td>\n",
       "    </tr>\n",
       "    <tr>\n",
       "      <th>884</th>\n",
       "      <td>884</td>\n",
       "      <td>2020/01/02</td>\n",
       "      <td>7127</td>\n",
       "      <td>295426</td>\n",
       "      <td>696127</td>\n",
       "      <td>363285</td>\n",
       "      <td>13798783827516</td>\n",
       "      <td>0.1110</td>\n",
       "      <td>3495275949</td>\n",
       "      <td>0.332</td>\n",
       "      <td>...</td>\n",
       "      <td>-2.067</td>\n",
       "      <td>-0.704</td>\n",
       "      <td>-2.620</td>\n",
       "      <td>-12.800</td>\n",
       "      <td>7250</td>\n",
       "      <td>-0.015455</td>\n",
       "      <td>0.016854</td>\n",
       "      <td>0.595143</td>\n",
       "      <td>0.321986</td>\n",
       "      <td>0.017171</td>\n",
       "    </tr>\n",
       "    <tr>\n",
       "      <th>885</th>\n",
       "      <td>885</td>\n",
       "      <td>2020/01/03</td>\n",
       "      <td>7250</td>\n",
       "      <td>316348</td>\n",
       "      <td>629151</td>\n",
       "      <td>414656</td>\n",
       "      <td>13798783827516</td>\n",
       "      <td>0.1440</td>\n",
       "      <td>5664998633</td>\n",
       "      <td>0.376</td>\n",
       "      <td>...</td>\n",
       "      <td>-0.178</td>\n",
       "      <td>0.537</td>\n",
       "      <td>-0.878</td>\n",
       "      <td>-10.811</td>\n",
       "      <td>7390</td>\n",
       "      <td>0.017111</td>\n",
       "      <td>0.017171</td>\n",
       "      <td>0.595143</td>\n",
       "      <td>0.328052</td>\n",
       "      <td>0.017511</td>\n",
       "    </tr>\n",
       "    <tr>\n",
       "      <th>886</th>\n",
       "      <td>886</td>\n",
       "      <td>2020/01/04</td>\n",
       "      <td>7390</td>\n",
       "      <td>287047</td>\n",
       "      <td>539139</td>\n",
       "      <td>364305</td>\n",
       "      <td>13798783827516</td>\n",
       "      <td>0.1430</td>\n",
       "      <td>3470997480</td>\n",
       "      <td>0.317</td>\n",
       "      <td>...</td>\n",
       "      <td>0.388</td>\n",
       "      <td>2.520</td>\n",
       "      <td>0.528</td>\n",
       "      <td>-7.813</td>\n",
       "      <td>7503</td>\n",
       "      <td>0.019126</td>\n",
       "      <td>0.017511</td>\n",
       "      <td>0.595143</td>\n",
       "      <td>0.334549</td>\n",
       "      <td>0.017606</td>\n",
       "    </tr>\n",
       "    <tr>\n",
       "      <th>887</th>\n",
       "      <td>887</td>\n",
       "      <td>2020/01/05</td>\n",
       "      <td>7503</td>\n",
       "      <td>287616</td>\n",
       "      <td>555135</td>\n",
       "      <td>346762</td>\n",
       "      <td>13798783827516</td>\n",
       "      <td>0.1310</td>\n",
       "      <td>2540098659</td>\n",
       "      <td>0.310</td>\n",
       "      <td>...</td>\n",
       "      <td>0.460</td>\n",
       "      <td>3.131</td>\n",
       "      <td>0.905</td>\n",
       "      <td>-7.003</td>\n",
       "      <td>7588</td>\n",
       "      <td>0.015175</td>\n",
       "      <td>0.017606</td>\n",
       "      <td>0.595143</td>\n",
       "      <td>0.336356</td>\n",
       "      <td>0.017481</td>\n",
       "    </tr>\n",
       "    <tr>\n",
       "      <th>...</th>\n",
       "      <td>...</td>\n",
       "      <td>...</td>\n",
       "      <td>...</td>\n",
       "      <td>...</td>\n",
       "      <td>...</td>\n",
       "      <td>...</td>\n",
       "      <td>...</td>\n",
       "      <td>...</td>\n",
       "      <td>...</td>\n",
       "      <td>...</td>\n",
       "      <td>...</td>\n",
       "      <td>...</td>\n",
       "      <td>...</td>\n",
       "      <td>...</td>\n",
       "      <td>...</td>\n",
       "      <td>...</td>\n",
       "      <td>...</td>\n",
       "      <td>...</td>\n",
       "      <td>...</td>\n",
       "      <td>...</td>\n",
       "      <td>...</td>\n",
       "    </tr>\n",
       "    <tr>\n",
       "      <th>1975</th>\n",
       "      <td>1975</td>\n",
       "      <td>2022/12/28</td>\n",
       "      <td>16640</td>\n",
       "      <td>272781</td>\n",
       "      <td>542347</td>\n",
       "      <td>529941</td>\n",
       "      <td>35364065900457</td>\n",
       "      <td>0.0704</td>\n",
       "      <td>5572254030</td>\n",
       "      <td>1.261</td>\n",
       "      <td>...</td>\n",
       "      <td>-1.132</td>\n",
       "      <td>-6.904</td>\n",
       "      <td>2.625</td>\n",
       "      <td>-14.220</td>\n",
       "      <td>16591</td>\n",
       "      <td>-0.009986</td>\n",
       "      <td>0.012768</td>\n",
       "      <td>0.595143</td>\n",
       "      <td>0.243930</td>\n",
       "      <td>0.012603</td>\n",
       "    </tr>\n",
       "    <tr>\n",
       "      <th>1976</th>\n",
       "      <td>1976</td>\n",
       "      <td>2022/12/29</td>\n",
       "      <td>16591</td>\n",
       "      <td>265814</td>\n",
       "      <td>692913</td>\n",
       "      <td>540607</td>\n",
       "      <td>35364065900457</td>\n",
       "      <td>0.0545</td>\n",
       "      <td>6313826970</td>\n",
       "      <td>1.285</td>\n",
       "      <td>...</td>\n",
       "      <td>-1.117</td>\n",
       "      <td>-5.644</td>\n",
       "      <td>1.084</td>\n",
       "      <td>-15.033</td>\n",
       "      <td>16550</td>\n",
       "      <td>-0.002949</td>\n",
       "      <td>0.012603</td>\n",
       "      <td>0.595143</td>\n",
       "      <td>0.240773</td>\n",
       "      <td>0.011377</td>\n",
       "    </tr>\n",
       "    <tr>\n",
       "      <th>1977</th>\n",
       "      <td>1977</td>\n",
       "      <td>2022/12/30</td>\n",
       "      <td>16550</td>\n",
       "      <td>290857</td>\n",
       "      <td>725552</td>\n",
       "      <td>585013</td>\n",
       "      <td>35364065900457</td>\n",
       "      <td>0.0658</td>\n",
       "      <td>7554069544</td>\n",
       "      <td>1.240</td>\n",
       "      <td>...</td>\n",
       "      <td>-1.664</td>\n",
       "      <td>-3.219</td>\n",
       "      <td>-2.058</td>\n",
       "      <td>-14.375</td>\n",
       "      <td>16570</td>\n",
       "      <td>-0.002474</td>\n",
       "      <td>0.011377</td>\n",
       "      <td>0.595143</td>\n",
       "      <td>0.217352</td>\n",
       "      <td>0.011221</td>\n",
       "    </tr>\n",
       "    <tr>\n",
       "      <th>1978</th>\n",
       "      <td>1978</td>\n",
       "      <td>2022/12/31</td>\n",
       "      <td>16570</td>\n",
       "      <td>242169</td>\n",
       "      <td>573296</td>\n",
       "      <td>499947</td>\n",
       "      <td>35364065900457</td>\n",
       "      <td>0.0557</td>\n",
       "      <td>4493923166</td>\n",
       "      <td>0.833</td>\n",
       "      <td>...</td>\n",
       "      <td>-1.551</td>\n",
       "      <td>-0.769</td>\n",
       "      <td>-2.867</td>\n",
       "      <td>-13.835</td>\n",
       "      <td>16559</td>\n",
       "      <td>0.001208</td>\n",
       "      <td>0.011221</td>\n",
       "      <td>0.595143</td>\n",
       "      <td>0.214372</td>\n",
       "      <td>0.011185</td>\n",
       "    </tr>\n",
       "    <tr>\n",
       "      <th>1979</th>\n",
       "      <td>1979</td>\n",
       "      <td>2023/01/01</td>\n",
       "      <td>16559</td>\n",
       "      <td>187361</td>\n",
       "      <td>450915</td>\n",
       "      <td>403419</td>\n",
       "      <td>35364065900457</td>\n",
       "      <td>0.0599</td>\n",
       "      <td>3568420249</td>\n",
       "      <td>0.629</td>\n",
       "      <td>...</td>\n",
       "      <td>-1.553</td>\n",
       "      <td>-1.062</td>\n",
       "      <td>-2.380</td>\n",
       "      <td>-14.249</td>\n",
       "      <td>16691</td>\n",
       "      <td>-0.000664</td>\n",
       "      <td>0.011185</td>\n",
       "      <td>0.595143</td>\n",
       "      <td>0.213691</td>\n",
       "      <td>0.011296</td>\n",
       "    </tr>\n",
       "  </tbody>\n",
       "</table>\n",
       "<p>1097 rows × 698 columns</p>\n",
       "</div>"
      ]
     },
     "execution_count": 13,
     "metadata": {},
     "output_type": "execute_result"
    }
   ],
   "execution_count": 13
  },
  {
   "metadata": {
    "ExecuteTime": {
     "end_time": "2024-04-25T15:53:10.632234Z",
     "start_time": "2024-04-25T15:53:10.618216Z"
    }
   },
   "cell_type": "code",
   "source": [
    "'''\n",
    "if 'one' in df.columns:\n",
    "    # Create a new list of column names with 'one' as the third element\n",
    "    # Grab the current list of columns\n",
    "    cols = list(df.columns)\n",
    "    # Remove 'one' from its current position\n",
    "    cols.remove('one')\n",
    "    # Insert 'one' at the second index (third position, since index starts at 0)\n",
    "    cols.insert(2, 'one')\n",
    "    # Reorder DataFrame according to the new list of columns\n",
    "    df = df[cols]'''"
   ],
   "outputs": [
    {
     "data": {
      "text/plain": [
       "\"\\nif 'one' in df.columns:\\n    # Create a new list of column names with 'one' as the third element\\n    # Grab the current list of columns\\n    cols = list(df.columns)\\n    # Remove 'one' from its current position\\n    cols.remove('one')\\n    # Insert 'one' at the second index (third position, since index starts at 0)\\n    cols.insert(2, 'one')\\n    # Reorder DataFrame according to the new list of columns\\n    df = df[cols]\""
      ]
     },
     "execution_count": 14,
     "metadata": {},
     "output_type": "execute_result"
    }
   ],
   "execution_count": 14
  },
  {
   "metadata": {
    "ExecuteTime": {
     "end_time": "2024-04-25T15:53:11.094421Z",
     "start_time": "2024-04-25T15:53:11.071586Z"
    }
   },
   "cell_type": "code",
   "source": [
    "from datetime import datetime\n",
    "\n",
    "# Convert string to datetime\n",
    "df['Date'] = pd.to_datetime(df['Date'])\n",
    "\n",
    "# Convert datetime to ordinal\n",
    "df['Date'] = df['Date'].apply(lambda x: x.toordinal())"
   ],
   "outputs": [
    {
     "name": "stderr",
     "output_type": "stream",
     "text": [
      "C:\\Users\\13275\\AppData\\Local\\Temp\\ipykernel_8532\\1555926713.py:4: SettingWithCopyWarning: \n",
      "A value is trying to be set on a copy of a slice from a DataFrame.\n",
      "Try using .loc[row_indexer,col_indexer] = value instead\n",
      "\n",
      "See the caveats in the documentation: https://pandas.pydata.org/pandas-docs/stable/user_guide/indexing.html#returning-a-view-versus-a-copy\n",
      "  df['Date'] = pd.to_datetime(df['Date'])\n",
      "C:\\Users\\13275\\AppData\\Local\\Temp\\ipykernel_8532\\1555926713.py:7: SettingWithCopyWarning: \n",
      "A value is trying to be set on a copy of a slice from a DataFrame.\n",
      "Try using .loc[row_indexer,col_indexer] = value instead\n",
      "\n",
      "See the caveats in the documentation: https://pandas.pydata.org/pandas-docs/stable/user_guide/indexing.html#returning-a-view-versus-a-copy\n",
      "  df['Date'] = df['Date'].apply(lambda x: x.toordinal())\n"
     ]
    }
   ],
   "execution_count": 15
  },
  {
   "metadata": {
    "ExecuteTime": {
     "end_time": "2024-04-25T15:53:11.991301Z",
     "start_time": "2024-04-25T15:53:11.975339Z"
    }
   },
   "cell_type": "code",
   "source": [
    "'''\n",
    "y_ORI=df.iloc[:,2:3]\n",
    "y_ORI\n",
    "'''"
   ],
   "outputs": [
    {
     "data": {
      "text/plain": [
       "'\\ny_ORI=df.iloc[:,2:3]\\ny_ORI\\n'"
      ]
     },
     "execution_count": 16,
     "metadata": {},
     "output_type": "execute_result"
    }
   ],
   "execution_count": 16
  },
  {
   "metadata": {
    "ExecuteTime": {
     "end_time": "2024-04-25T15:53:13.878828Z",
     "start_time": "2024-04-25T15:53:13.774024Z"
    }
   },
   "cell_type": "code",
   "source": [
    "\n",
    "from sklearn.preprocessing import StandardScaler\n",
    "# Check and replace Inf/NaN values\n",
    "df.replace([np.inf, -np.inf], np.nan, inplace=True)\n",
    "df.fillna(df.mean(), inplace=True)  # or use another imputation strategy\n",
    "'''\n",
    "# Scale the data (optional based on data distribution)\n",
    "scaler = StandardScaler()\n",
    "df_scaled = scaler.fit_transform(df.astype(np.float64))\n",
    "df = pd.DataFrame(df_scaled, columns=df.columns)\n",
    "'''"
   ],
   "outputs": [
    {
     "name": "stderr",
     "output_type": "stream",
     "text": [
      "C:\\Users\\13275\\AppData\\Local\\Temp\\ipykernel_8532\\4181542008.py:3: SettingWithCopyWarning: \n",
      "A value is trying to be set on a copy of a slice from a DataFrame\n",
      "\n",
      "See the caveats in the documentation: https://pandas.pydata.org/pandas-docs/stable/user_guide/indexing.html#returning-a-view-versus-a-copy\n",
      "  df.replace([np.inf, -np.inf], np.nan, inplace=True)\n",
      "C:\\Users\\13275\\AppData\\Local\\Temp\\ipykernel_8532\\4181542008.py:4: SettingWithCopyWarning: \n",
      "A value is trying to be set on a copy of a slice from a DataFrame\n",
      "\n",
      "See the caveats in the documentation: https://pandas.pydata.org/pandas-docs/stable/user_guide/indexing.html#returning-a-view-versus-a-copy\n",
      "  df.fillna(df.mean(), inplace=True)  # or use another imputation strategy\n"
     ]
    },
    {
     "data": {
      "text/plain": [
       "'\\n# Scale the data (optional based on data distribution)\\nscaler = StandardScaler()\\ndf_scaled = scaler.fit_transform(df.astype(np.float64))\\ndf = pd.DataFrame(df_scaled, columns=df.columns)\\n'"
      ]
     },
     "execution_count": 17,
     "metadata": {},
     "output_type": "execute_result"
    }
   ],
   "execution_count": 17
  },
  {
   "cell_type": "code",
   "metadata": {
    "ExecuteTime": {
     "end_time": "2024-04-25T15:53:20.650102Z",
     "start_time": "2024-04-25T15:53:20.647489Z"
    }
   },
   "source": "X_raw=df.iloc[:,3:17]",
   "outputs": [],
   "execution_count": 18
  },
  {
   "metadata": {
    "ExecuteTime": {
     "end_time": "2024-04-25T15:53:24.087282Z",
     "start_time": "2024-04-25T15:53:24.073198Z"
    }
   },
   "cell_type": "code",
   "source": "X_raw",
   "outputs": [
    {
     "data": {
      "text/plain": [
       "      transactions    size  sentbyaddress      difficulty  \\\n",
       "883         251561  441636         292748  13031658000899   \n",
       "884         295426  696127         363285  13798783827516   \n",
       "885         316348  629151         414656  13798783827516   \n",
       "886         287047  539139         364305  13798783827516   \n",
       "887         287616  555135         346762  13798783827516   \n",
       "...            ...     ...            ...             ...   \n",
       "1975        272781  542347         529941  35364065900457   \n",
       "1976        265814  692913         540607  35364065900457   \n",
       "1977        290857  725552         585013  35364065900457   \n",
       "1978        242169  573296         499947  35364065900457   \n",
       "1979        187361  450915         403419  35364065900457   \n",
       "\n",
       "      mining_profitability  sentinusdUSD  transactionfeesUSD  \\\n",
       "883                 0.1540    2022006877               0.287   \n",
       "884                 0.1110    3495275949               0.332   \n",
       "885                 0.1440    5664998633               0.376   \n",
       "886                 0.1430    3470997480               0.317   \n",
       "887                 0.1310    2540098659               0.310   \n",
       "...                    ...           ...                 ...   \n",
       "1975                0.0704    5572254030               1.261   \n",
       "1976                0.0545    6313826970               1.285   \n",
       "1977                0.0658    7554069544               1.240   \n",
       "1978                0.0557    4493923166               0.833   \n",
       "1979                0.0599    3568420249               0.629   \n",
       "\n",
       "      median_transaction_feeUSD  confirmationtime  transactionvalueUSD  \\\n",
       "883                      0.0654             8.276                12757   \n",
       "884                      0.0841            10.213                16735   \n",
       "885                      0.1120             8.521                23302   \n",
       "886                      0.0829             8.571                16928   \n",
       "887                      0.0533             8.834                14695   \n",
       "...                         ...               ...                  ...   \n",
       "1975                     0.6060             8.571                53190   \n",
       "1976                     0.5620            10.213                54195   \n",
       "1977                     0.5190             9.114                50405   \n",
       "1978                     0.3270             9.231                42790   \n",
       "1979                     0.1760             9.290                49147   \n",
       "\n",
       "      mediantransactionvalueUSD  activeaddresses  top100cap  fee_to_rewardUSD  \n",
       "883                     120.996           444396     15.167             0.457  \n",
       "884                     215.464           569087     15.138             0.776  \n",
       "885                     211.058           619640     15.152             0.770  \n",
       "886                     156.720           540973     15.158             0.583  \n",
       "887                     150.613           515467     15.165             0.580  \n",
       "...                         ...              ...        ...               ...  \n",
       "1975                    432.108           795623     14.715             1.932  \n",
       "1976                    456.917           833137     14.711             2.283  \n",
       "1977                    425.456           907447     14.690             2.161  \n",
       "1978                    402.231           745609     14.713             1.235  \n",
       "1979                    369.029           621736     14.734             0.729  \n",
       "\n",
       "[1097 rows x 14 columns]"
      ],
      "text/html": [
       "<div>\n",
       "<style scoped>\n",
       "    .dataframe tbody tr th:only-of-type {\n",
       "        vertical-align: middle;\n",
       "    }\n",
       "\n",
       "    .dataframe tbody tr th {\n",
       "        vertical-align: top;\n",
       "    }\n",
       "\n",
       "    .dataframe thead th {\n",
       "        text-align: right;\n",
       "    }\n",
       "</style>\n",
       "<table border=\"1\" class=\"dataframe\">\n",
       "  <thead>\n",
       "    <tr style=\"text-align: right;\">\n",
       "      <th></th>\n",
       "      <th>transactions</th>\n",
       "      <th>size</th>\n",
       "      <th>sentbyaddress</th>\n",
       "      <th>difficulty</th>\n",
       "      <th>mining_profitability</th>\n",
       "      <th>sentinusdUSD</th>\n",
       "      <th>transactionfeesUSD</th>\n",
       "      <th>median_transaction_feeUSD</th>\n",
       "      <th>confirmationtime</th>\n",
       "      <th>transactionvalueUSD</th>\n",
       "      <th>mediantransactionvalueUSD</th>\n",
       "      <th>activeaddresses</th>\n",
       "      <th>top100cap</th>\n",
       "      <th>fee_to_rewardUSD</th>\n",
       "    </tr>\n",
       "  </thead>\n",
       "  <tbody>\n",
       "    <tr>\n",
       "      <th>883</th>\n",
       "      <td>251561</td>\n",
       "      <td>441636</td>\n",
       "      <td>292748</td>\n",
       "      <td>13031658000899</td>\n",
       "      <td>0.1540</td>\n",
       "      <td>2022006877</td>\n",
       "      <td>0.287</td>\n",
       "      <td>0.0654</td>\n",
       "      <td>8.276</td>\n",
       "      <td>12757</td>\n",
       "      <td>120.996</td>\n",
       "      <td>444396</td>\n",
       "      <td>15.167</td>\n",
       "      <td>0.457</td>\n",
       "    </tr>\n",
       "    <tr>\n",
       "      <th>884</th>\n",
       "      <td>295426</td>\n",
       "      <td>696127</td>\n",
       "      <td>363285</td>\n",
       "      <td>13798783827516</td>\n",
       "      <td>0.1110</td>\n",
       "      <td>3495275949</td>\n",
       "      <td>0.332</td>\n",
       "      <td>0.0841</td>\n",
       "      <td>10.213</td>\n",
       "      <td>16735</td>\n",
       "      <td>215.464</td>\n",
       "      <td>569087</td>\n",
       "      <td>15.138</td>\n",
       "      <td>0.776</td>\n",
       "    </tr>\n",
       "    <tr>\n",
       "      <th>885</th>\n",
       "      <td>316348</td>\n",
       "      <td>629151</td>\n",
       "      <td>414656</td>\n",
       "      <td>13798783827516</td>\n",
       "      <td>0.1440</td>\n",
       "      <td>5664998633</td>\n",
       "      <td>0.376</td>\n",
       "      <td>0.1120</td>\n",
       "      <td>8.521</td>\n",
       "      <td>23302</td>\n",
       "      <td>211.058</td>\n",
       "      <td>619640</td>\n",
       "      <td>15.152</td>\n",
       "      <td>0.770</td>\n",
       "    </tr>\n",
       "    <tr>\n",
       "      <th>886</th>\n",
       "      <td>287047</td>\n",
       "      <td>539139</td>\n",
       "      <td>364305</td>\n",
       "      <td>13798783827516</td>\n",
       "      <td>0.1430</td>\n",
       "      <td>3470997480</td>\n",
       "      <td>0.317</td>\n",
       "      <td>0.0829</td>\n",
       "      <td>8.571</td>\n",
       "      <td>16928</td>\n",
       "      <td>156.720</td>\n",
       "      <td>540973</td>\n",
       "      <td>15.158</td>\n",
       "      <td>0.583</td>\n",
       "    </tr>\n",
       "    <tr>\n",
       "      <th>887</th>\n",
       "      <td>287616</td>\n",
       "      <td>555135</td>\n",
       "      <td>346762</td>\n",
       "      <td>13798783827516</td>\n",
       "      <td>0.1310</td>\n",
       "      <td>2540098659</td>\n",
       "      <td>0.310</td>\n",
       "      <td>0.0533</td>\n",
       "      <td>8.834</td>\n",
       "      <td>14695</td>\n",
       "      <td>150.613</td>\n",
       "      <td>515467</td>\n",
       "      <td>15.165</td>\n",
       "      <td>0.580</td>\n",
       "    </tr>\n",
       "    <tr>\n",
       "      <th>...</th>\n",
       "      <td>...</td>\n",
       "      <td>...</td>\n",
       "      <td>...</td>\n",
       "      <td>...</td>\n",
       "      <td>...</td>\n",
       "      <td>...</td>\n",
       "      <td>...</td>\n",
       "      <td>...</td>\n",
       "      <td>...</td>\n",
       "      <td>...</td>\n",
       "      <td>...</td>\n",
       "      <td>...</td>\n",
       "      <td>...</td>\n",
       "      <td>...</td>\n",
       "    </tr>\n",
       "    <tr>\n",
       "      <th>1975</th>\n",
       "      <td>272781</td>\n",
       "      <td>542347</td>\n",
       "      <td>529941</td>\n",
       "      <td>35364065900457</td>\n",
       "      <td>0.0704</td>\n",
       "      <td>5572254030</td>\n",
       "      <td>1.261</td>\n",
       "      <td>0.6060</td>\n",
       "      <td>8.571</td>\n",
       "      <td>53190</td>\n",
       "      <td>432.108</td>\n",
       "      <td>795623</td>\n",
       "      <td>14.715</td>\n",
       "      <td>1.932</td>\n",
       "    </tr>\n",
       "    <tr>\n",
       "      <th>1976</th>\n",
       "      <td>265814</td>\n",
       "      <td>692913</td>\n",
       "      <td>540607</td>\n",
       "      <td>35364065900457</td>\n",
       "      <td>0.0545</td>\n",
       "      <td>6313826970</td>\n",
       "      <td>1.285</td>\n",
       "      <td>0.5620</td>\n",
       "      <td>10.213</td>\n",
       "      <td>54195</td>\n",
       "      <td>456.917</td>\n",
       "      <td>833137</td>\n",
       "      <td>14.711</td>\n",
       "      <td>2.283</td>\n",
       "    </tr>\n",
       "    <tr>\n",
       "      <th>1977</th>\n",
       "      <td>290857</td>\n",
       "      <td>725552</td>\n",
       "      <td>585013</td>\n",
       "      <td>35364065900457</td>\n",
       "      <td>0.0658</td>\n",
       "      <td>7554069544</td>\n",
       "      <td>1.240</td>\n",
       "      <td>0.5190</td>\n",
       "      <td>9.114</td>\n",
       "      <td>50405</td>\n",
       "      <td>425.456</td>\n",
       "      <td>907447</td>\n",
       "      <td>14.690</td>\n",
       "      <td>2.161</td>\n",
       "    </tr>\n",
       "    <tr>\n",
       "      <th>1978</th>\n",
       "      <td>242169</td>\n",
       "      <td>573296</td>\n",
       "      <td>499947</td>\n",
       "      <td>35364065900457</td>\n",
       "      <td>0.0557</td>\n",
       "      <td>4493923166</td>\n",
       "      <td>0.833</td>\n",
       "      <td>0.3270</td>\n",
       "      <td>9.231</td>\n",
       "      <td>42790</td>\n",
       "      <td>402.231</td>\n",
       "      <td>745609</td>\n",
       "      <td>14.713</td>\n",
       "      <td>1.235</td>\n",
       "    </tr>\n",
       "    <tr>\n",
       "      <th>1979</th>\n",
       "      <td>187361</td>\n",
       "      <td>450915</td>\n",
       "      <td>403419</td>\n",
       "      <td>35364065900457</td>\n",
       "      <td>0.0599</td>\n",
       "      <td>3568420249</td>\n",
       "      <td>0.629</td>\n",
       "      <td>0.1760</td>\n",
       "      <td>9.290</td>\n",
       "      <td>49147</td>\n",
       "      <td>369.029</td>\n",
       "      <td>621736</td>\n",
       "      <td>14.734</td>\n",
       "      <td>0.729</td>\n",
       "    </tr>\n",
       "  </tbody>\n",
       "</table>\n",
       "<p>1097 rows × 14 columns</p>\n",
       "</div>"
      ]
     },
     "execution_count": 19,
     "metadata": {},
     "output_type": "execute_result"
    }
   ],
   "execution_count": 19
  },
  {
   "metadata": {
    "ExecuteTime": {
     "end_time": "2024-04-25T15:53:47.444221Z",
     "start_time": "2024-04-25T15:53:47.430711Z"
    }
   },
   "cell_type": "code",
   "source": "y = df['volatility_one']",
   "outputs": [],
   "execution_count": 20
  },
  {
   "metadata": {
    "ExecuteTime": {
     "end_time": "2024-04-25T15:53:49.497132Z",
     "start_time": "2024-04-25T15:53:49.493631Z"
    }
   },
   "cell_type": "code",
   "source": "#df['one'].remove",
   "outputs": [],
   "execution_count": 21
  },
  {
   "cell_type": "code",
   "metadata": {
    "ExecuteTime": {
     "end_time": "2024-04-25T15:53:49.960692Z",
     "start_time": "2024-04-25T15:53:49.953531Z"
    }
   },
   "source": [
    "#y=df.iloc[:,2:3]\n",
    "y"
   ],
   "outputs": [
    {
     "data": {
      "text/plain": [
       "883     0.016854\n",
       "884     0.017171\n",
       "885     0.017511\n",
       "886     0.017606\n",
       "887     0.017481\n",
       "          ...   \n",
       "1975    0.012603\n",
       "1976    0.011377\n",
       "1977    0.011221\n",
       "1978    0.011185\n",
       "1979    0.011296\n",
       "Name: volatility_one, Length: 1097, dtype: float64"
      ]
     },
     "execution_count": 22,
     "metadata": {},
     "output_type": "execute_result"
    }
   ],
   "execution_count": 22
  },
  {
   "metadata": {
    "ExecuteTime": {
     "end_time": "2024-04-25T15:53:54.593956Z",
     "start_time": "2024-04-25T15:53:54.588921Z"
    }
   },
   "cell_type": "code",
   "source": "y=np.ravel(y)",
   "outputs": [],
   "execution_count": 23
  },
  {
   "metadata": {
    "ExecuteTime": {
     "end_time": "2024-04-25T15:53:55.978500Z",
     "start_time": "2024-04-25T15:53:55.973001Z"
    }
   },
   "cell_type": "code",
   "source": "y",
   "outputs": [
    {
     "data": {
      "text/plain": [
       "array([0.01685353, 0.01717105, 0.01751107, ..., 0.01122075, 0.01118512,\n",
       "       0.01129616])"
      ]
     },
     "execution_count": 24,
     "metadata": {},
     "output_type": "execute_result"
    }
   ],
   "execution_count": 24
  },
  {
   "cell_type": "code",
   "metadata": {
    "scrolled": true,
    "ExecuteTime": {
     "end_time": "2024-04-25T15:55:07.468143Z",
     "start_time": "2024-04-25T15:53:58.418987Z"
    }
   },
   "source": [
    "features_list=[]\n",
    "technical_indicators=['sma','ema','wma','trx','mom','std','var','rsi','roc']\n",
    "periods=['3','7','14','30','90']\n",
    "for i in technical_indicators:\n",
    "    for j in periods:\n",
    "        string=str(j)+str(i)\n",
    "        X=df.filter(like=string,axis=1)\n",
    "        X=SimpleImputer(missing_values=0,strategy='most_frequent').fit_transform(X)\n",
    "        X=pd.DataFrame(X)\n",
    "        X.columns=df.filter(like=string,axis=1).columns\n",
    "        rf1=RandomForestRegressor(random_state=7,n_jobs=-1)\n",
    "        rfecv=RFECV(rf1,step=0.9,min_features_to_select=1,verbose=1,cv=5,scoring='neg_mean_absolute_error', n_jobs=-1)\n",
    "        rfecv.fit(X,y)\n",
    "        if rfecv.n_features_>1:\n",
    "            rf1.fit(X,y)\n",
    "            maximp=rf1.feature_importances_.max()\n",
    "            for x in range(len(rf1.feature_importances_)):\n",
    "                if maximp==rf1.feature_importances_[x]:\n",
    "                    new_features = X.columns[x]\n",
    "        else:\n",
    "            mask = rfecv.get_support()\n",
    "            new_features = X.columns[mask]\n",
    "        features_list.append(str(new_features))\n",
    "        print(string+': '+new_features)\n"
   ],
   "outputs": [
    {
     "name": "stdout",
     "output_type": "stream",
     "text": [
      "3sma: price3smaUSD\n",
      "7sma: price7smaUSD\n",
      "Fitting estimator with 15 features.\n",
      "14sma: price14smaUSD\n",
      "30sma: mining_profitability30sma\n",
      "90sma: mining_profitability90sma\n",
      "3ema: price3emaUSD\n",
      "7ema: price7emaUSD\n",
      "14ema: price14emaUSD\n",
      "30ema: mining_profitability30ema\n",
      "90ema: mining_profitability90ema\n",
      "3wma: price3wmaUSD\n",
      "7wma: price7wmaUSD\n",
      "14wma: price14wmaUSD\n",
      "30wma: price30wmaUSD\n",
      "90wma: mining_profitability90wma\n",
      "3trx: price3trxUSD\n",
      "7trx: top100cap7trx\n",
      "Fitting estimator with 15 features.\n",
      "Fitting estimator with 2 features.\n",
      "Index(['14trx: price14trxUSD'], dtype='object')\n",
      "30trx: price30trxUSD\n",
      "90trx: mediantransactionvalue90trxUSD\n",
      "3mom: price3momUSD\n",
      "7mom: price7momUSD\n",
      "14mom: top100cap14mom\n",
      "30mom: top100cap30mom\n",
      "Fitting estimator with 15 features.\n",
      "90mom: top100cap90mom\n",
      "3std: price3stdUSD\n",
      "7std: price7stdUSD\n",
      "14std: mining_profitability14std\n",
      "30std: mining_profitability30std\n",
      "Fitting estimator with 15 features.\n",
      "Fitting estimator with 2 features.\n",
      "Index(['90std: mining_profitability90std'], dtype='object')\n",
      "3var: price3varUSD\n",
      "7var: price7varUSD\n",
      "14var: price14varUSD\n",
      "30var: price30varUSD\n",
      "Fitting estimator with 15 features.\n",
      "Fitting estimator with 2 features.\n",
      "Index(['90var: mediantransactionvalue90varUSD'], dtype='object')\n",
      "3rsi: difficulty3rsi\n",
      "7rsi: difficulty7rsi\n",
      "14rsi: difficulty14rsi\n",
      "30rsi: top100cap30rsi\n",
      "Fitting estimator with 15 features.\n",
      "Fitting estimator with 2 features.\n",
      "Index(['90rsi: difficulty90rsi'], dtype='object')\n",
      "3roc: price3rocUSD\n",
      "7roc: price7rocUSD\n",
      "14roc: difficulty14roc\n",
      "Fitting estimator with 15 features.\n",
      "30roc: top100cap30roc\n",
      "90roc: price90rocUSD\n"
     ]
    }
   ],
   "execution_count": 25
  },
  {
   "cell_type": "code",
   "metadata": {
    "ExecuteTime": {
     "end_time": "2024-04-25T15:55:25.976739Z",
     "start_time": "2024-04-25T15:55:25.965828Z"
    }
   },
   "source": "#Audio(data=data, rate=44100, autoplay=True)",
   "outputs": [],
   "execution_count": 26
  },
  {
   "cell_type": "code",
   "metadata": {
    "ExecuteTime": {
     "end_time": "2024-04-25T15:55:26.425055Z",
     "start_time": "2024-04-25T15:55:26.412046Z"
    }
   },
   "source": [
    "l1=[]\n",
    "for j in range(len(features_list)):\n",
    "    result1 = re.search(\"'(.*)'],\", features_list[j])\n",
    "    if result1!=None:\n",
    "        l1.append(result1.group(1))\n",
    "for i in range(len(features_list)):\n",
    "    result2 = re.search('.*',features_list[i])\n",
    "    if len(result2.group(0))<33:\n",
    "        l1.append(result2.group(0))"
   ],
   "outputs": [],
   "execution_count": 27
  },
  {
   "cell_type": "code",
   "metadata": {
    "ExecuteTime": {
     "end_time": "2024-04-25T15:55:26.856998Z",
     "start_time": "2024-04-25T15:55:26.843369Z"
    }
   },
   "source": [
    "l1.sort()"
   ],
   "outputs": [],
   "execution_count": 28
  },
  {
   "metadata": {},
   "cell_type": "markdown",
   "source": ""
  },
  {
   "cell_type": "code",
   "metadata": {
    "scrolled": false,
    "ExecuteTime": {
     "end_time": "2024-04-25T15:55:27.924131Z",
     "start_time": "2024-04-25T15:55:27.910571Z"
    }
   },
   "source": [
    "l1"
   ],
   "outputs": [
    {
     "data": {
      "text/plain": [
       "['difficulty14roc',\n",
       " 'difficulty14rsi',\n",
       " 'difficulty3rsi',\n",
       " 'difficulty7rsi',\n",
       " 'difficulty90rsi',\n",
       " 'mediantransactionvalue90trxUSD',\n",
       " 'mediantransactionvalue90varUSD',\n",
       " 'mining_profitability14std',\n",
       " 'mining_profitability30ema',\n",
       " 'mining_profitability30sma',\n",
       " 'mining_profitability30std',\n",
       " 'mining_profitability90ema',\n",
       " 'mining_profitability90sma',\n",
       " 'mining_profitability90std',\n",
       " 'mining_profitability90wma',\n",
       " 'price14emaUSD',\n",
       " 'price14smaUSD',\n",
       " 'price14trxUSD',\n",
       " 'price14varUSD',\n",
       " 'price14wmaUSD',\n",
       " 'price30trxUSD',\n",
       " 'price30varUSD',\n",
       " 'price30wmaUSD',\n",
       " 'price3emaUSD',\n",
       " 'price3momUSD',\n",
       " 'price3rocUSD',\n",
       " 'price3smaUSD',\n",
       " 'price3stdUSD',\n",
       " 'price3trxUSD',\n",
       " 'price3varUSD',\n",
       " 'price3wmaUSD',\n",
       " 'price7emaUSD',\n",
       " 'price7momUSD',\n",
       " 'price7rocUSD',\n",
       " 'price7smaUSD',\n",
       " 'price7stdUSD',\n",
       " 'price7varUSD',\n",
       " 'price7wmaUSD',\n",
       " 'price90rocUSD',\n",
       " 'top100cap14mom',\n",
       " 'top100cap30mom',\n",
       " 'top100cap30roc',\n",
       " 'top100cap30rsi',\n",
       " 'top100cap7trx',\n",
       " 'top100cap90mom']"
      ]
     },
     "execution_count": 29,
     "metadata": {},
     "output_type": "execute_result"
    }
   ],
   "execution_count": 29
  },
  {
   "metadata": {
    "ExecuteTime": {
     "end_time": "2024-04-25T15:55:28.387172Z",
     "start_time": "2024-04-25T15:55:28.376345Z"
    }
   },
   "cell_type": "code",
   "source": [
    "'''\n",
    "df_original = scaler.inverse_transform(df_scaled)\n",
    "df_original = pd.DataFrame(df_original, columns=df.columns)\n",
    "\n",
    "# Optionally, convert data type back to float32 if needed\n",
    "df = df_original.astype(np.float32)\n",
    "\n",
    "'''"
   ],
   "outputs": [
    {
     "data": {
      "text/plain": [
       "'\\ndf_original = scaler.inverse_transform(df_scaled)\\ndf_original = pd.DataFrame(df_original, columns=df.columns)\\n\\n# Optionally, convert data type back to float32 if needed\\ndf = df_original.astype(np.float32)\\n\\n'"
      ]
     },
     "execution_count": 30,
     "metadata": {},
     "output_type": "execute_result"
    }
   ],
   "execution_count": 30
  },
  {
   "cell_type": "code",
   "metadata": {
    "ExecuteTime": {
     "end_time": "2024-04-25T15:55:30.192793Z",
     "start_time": "2024-04-25T15:55:30.178618Z"
    }
   },
   "source": [
    "df_reduced=df[l1]"
   ],
   "outputs": [],
   "execution_count": 31
  },
  {
   "cell_type": "code",
   "metadata": {
    "scrolled": true,
    "ExecuteTime": {
     "end_time": "2024-04-25T15:55:30.656116Z",
     "start_time": "2024-04-25T15:55:30.642615Z"
    }
   },
   "source": [
    "df_reduced.head()"
   ],
   "outputs": [
    {
     "data": {
      "text/plain": [
       "     difficulty14roc  difficulty14rsi  difficulty3rsi  difficulty7rsi  \\\n",
       "883            1.202           80.528          99.997          97.987   \n",
       "884            7.027           96.804         100.000          99.804   \n",
       "885            6.566           96.804         100.000          99.804   \n",
       "886            6.566           96.804         100.000          99.804   \n",
       "887            6.566           96.804         100.000          99.804   \n",
       "\n",
       "     difficulty90rsi  mediantransactionvalue90trxUSD  \\\n",
       "883           76.305                          -0.072   \n",
       "884           81.534                          -0.074   \n",
       "885           81.534                          -0.075   \n",
       "886           81.534                          -0.077   \n",
       "887           81.534                          -0.079   \n",
       "\n",
       "     mediantransactionvalue90varUSD  mining_profitability14std  \\\n",
       "883                            4318                      0.015   \n",
       "884                            4276                      0.023   \n",
       "885                            4126                      0.023   \n",
       "886                            4099                      0.023   \n",
       "887                            4178                      0.023   \n",
       "\n",
       "     mining_profitability30ema  mining_profitability30sma  ...  price7stdUSD  \\\n",
       "883                      0.146                      0.144  ...       152.748   \n",
       "884                      0.143                      0.142  ...       207.172   \n",
       "885                      0.143                      0.142  ...       208.882   \n",
       "886                      0.143                      0.142  ...       214.273   \n",
       "887                      0.142                      0.142  ...       229.843   \n",
       "\n",
       "     price7varUSD  price7wmaUSD  price90rocUSD  top100cap14mom  \\\n",
       "883        5833.0          7326        -12.325          -0.012   \n",
       "884       10730.0          7276        -12.800          -0.098   \n",
       "885       10908.0          7262        -10.811          -0.094   \n",
       "886       11478.0          7284         -7.813          -0.021   \n",
       "887       13207.0          7333         -7.003          -0.016   \n",
       "\n",
       "     top100cap30mom  top100cap30roc  top100cap30rsi  top100cap7trx  \\\n",
       "883           0.107           0.711          66.491          0.001   \n",
       "884           0.117           0.776          63.431         -0.003   \n",
       "885           0.083           0.549          64.259         -0.005   \n",
       "886           0.081           0.536          64.617         -0.006   \n",
       "887           0.106           0.707          64.996         -0.006   \n",
       "\n",
       "     top100cap90mom  \n",
       "883           0.632  \n",
       "884           0.609  \n",
       "885           0.624  \n",
       "886           0.631  \n",
       "887           0.638  \n",
       "\n",
       "[5 rows x 45 columns]"
      ],
      "text/html": [
       "<div>\n",
       "<style scoped>\n",
       "    .dataframe tbody tr th:only-of-type {\n",
       "        vertical-align: middle;\n",
       "    }\n",
       "\n",
       "    .dataframe tbody tr th {\n",
       "        vertical-align: top;\n",
       "    }\n",
       "\n",
       "    .dataframe thead th {\n",
       "        text-align: right;\n",
       "    }\n",
       "</style>\n",
       "<table border=\"1\" class=\"dataframe\">\n",
       "  <thead>\n",
       "    <tr style=\"text-align: right;\">\n",
       "      <th></th>\n",
       "      <th>difficulty14roc</th>\n",
       "      <th>difficulty14rsi</th>\n",
       "      <th>difficulty3rsi</th>\n",
       "      <th>difficulty7rsi</th>\n",
       "      <th>difficulty90rsi</th>\n",
       "      <th>mediantransactionvalue90trxUSD</th>\n",
       "      <th>mediantransactionvalue90varUSD</th>\n",
       "      <th>mining_profitability14std</th>\n",
       "      <th>mining_profitability30ema</th>\n",
       "      <th>mining_profitability30sma</th>\n",
       "      <th>...</th>\n",
       "      <th>price7stdUSD</th>\n",
       "      <th>price7varUSD</th>\n",
       "      <th>price7wmaUSD</th>\n",
       "      <th>price90rocUSD</th>\n",
       "      <th>top100cap14mom</th>\n",
       "      <th>top100cap30mom</th>\n",
       "      <th>top100cap30roc</th>\n",
       "      <th>top100cap30rsi</th>\n",
       "      <th>top100cap7trx</th>\n",
       "      <th>top100cap90mom</th>\n",
       "    </tr>\n",
       "  </thead>\n",
       "  <tbody>\n",
       "    <tr>\n",
       "      <th>883</th>\n",
       "      <td>1.202</td>\n",
       "      <td>80.528</td>\n",
       "      <td>99.997</td>\n",
       "      <td>97.987</td>\n",
       "      <td>76.305</td>\n",
       "      <td>-0.072</td>\n",
       "      <td>4318</td>\n",
       "      <td>0.015</td>\n",
       "      <td>0.146</td>\n",
       "      <td>0.144</td>\n",
       "      <td>...</td>\n",
       "      <td>152.748</td>\n",
       "      <td>5833.0</td>\n",
       "      <td>7326</td>\n",
       "      <td>-12.325</td>\n",
       "      <td>-0.012</td>\n",
       "      <td>0.107</td>\n",
       "      <td>0.711</td>\n",
       "      <td>66.491</td>\n",
       "      <td>0.001</td>\n",
       "      <td>0.632</td>\n",
       "    </tr>\n",
       "    <tr>\n",
       "      <th>884</th>\n",
       "      <td>7.027</td>\n",
       "      <td>96.804</td>\n",
       "      <td>100.000</td>\n",
       "      <td>99.804</td>\n",
       "      <td>81.534</td>\n",
       "      <td>-0.074</td>\n",
       "      <td>4276</td>\n",
       "      <td>0.023</td>\n",
       "      <td>0.143</td>\n",
       "      <td>0.142</td>\n",
       "      <td>...</td>\n",
       "      <td>207.172</td>\n",
       "      <td>10730.0</td>\n",
       "      <td>7276</td>\n",
       "      <td>-12.800</td>\n",
       "      <td>-0.098</td>\n",
       "      <td>0.117</td>\n",
       "      <td>0.776</td>\n",
       "      <td>63.431</td>\n",
       "      <td>-0.003</td>\n",
       "      <td>0.609</td>\n",
       "    </tr>\n",
       "    <tr>\n",
       "      <th>885</th>\n",
       "      <td>6.566</td>\n",
       "      <td>96.804</td>\n",
       "      <td>100.000</td>\n",
       "      <td>99.804</td>\n",
       "      <td>81.534</td>\n",
       "      <td>-0.075</td>\n",
       "      <td>4126</td>\n",
       "      <td>0.023</td>\n",
       "      <td>0.143</td>\n",
       "      <td>0.142</td>\n",
       "      <td>...</td>\n",
       "      <td>208.882</td>\n",
       "      <td>10908.0</td>\n",
       "      <td>7262</td>\n",
       "      <td>-10.811</td>\n",
       "      <td>-0.094</td>\n",
       "      <td>0.083</td>\n",
       "      <td>0.549</td>\n",
       "      <td>64.259</td>\n",
       "      <td>-0.005</td>\n",
       "      <td>0.624</td>\n",
       "    </tr>\n",
       "    <tr>\n",
       "      <th>886</th>\n",
       "      <td>6.566</td>\n",
       "      <td>96.804</td>\n",
       "      <td>100.000</td>\n",
       "      <td>99.804</td>\n",
       "      <td>81.534</td>\n",
       "      <td>-0.077</td>\n",
       "      <td>4099</td>\n",
       "      <td>0.023</td>\n",
       "      <td>0.143</td>\n",
       "      <td>0.142</td>\n",
       "      <td>...</td>\n",
       "      <td>214.273</td>\n",
       "      <td>11478.0</td>\n",
       "      <td>7284</td>\n",
       "      <td>-7.813</td>\n",
       "      <td>-0.021</td>\n",
       "      <td>0.081</td>\n",
       "      <td>0.536</td>\n",
       "      <td>64.617</td>\n",
       "      <td>-0.006</td>\n",
       "      <td>0.631</td>\n",
       "    </tr>\n",
       "    <tr>\n",
       "      <th>887</th>\n",
       "      <td>6.566</td>\n",
       "      <td>96.804</td>\n",
       "      <td>100.000</td>\n",
       "      <td>99.804</td>\n",
       "      <td>81.534</td>\n",
       "      <td>-0.079</td>\n",
       "      <td>4178</td>\n",
       "      <td>0.023</td>\n",
       "      <td>0.142</td>\n",
       "      <td>0.142</td>\n",
       "      <td>...</td>\n",
       "      <td>229.843</td>\n",
       "      <td>13207.0</td>\n",
       "      <td>7333</td>\n",
       "      <td>-7.003</td>\n",
       "      <td>-0.016</td>\n",
       "      <td>0.106</td>\n",
       "      <td>0.707</td>\n",
       "      <td>64.996</td>\n",
       "      <td>-0.006</td>\n",
       "      <td>0.638</td>\n",
       "    </tr>\n",
       "  </tbody>\n",
       "</table>\n",
       "<p>5 rows × 45 columns</p>\n",
       "</div>"
      ]
     },
     "execution_count": 32,
     "metadata": {},
     "output_type": "execute_result"
    }
   ],
   "execution_count": 32
  },
  {
   "cell_type": "code",
   "metadata": {
    "scrolled": false,
    "ExecuteTime": {
     "end_time": "2024-04-25T15:55:38.903380Z",
     "start_time": "2024-04-25T15:55:32.429235Z"
    }
   },
   "source": [
    "X=cmns.drop_high_vif(df_reduced,thresh=5)"
   ],
   "outputs": [
    {
     "name": "stdout",
     "output_type": "stream",
     "text": [
      "dropping 'price7emaUSD' at index: 31\n",
      "dropping 'price14emaUSD' at index: 15\n",
      "dropping 'price3wmaUSD' at index: 29\n",
      "dropping 'price7wmaUSD' at index: 34\n",
      "dropping 'price14wmaUSD' at index: 18\n",
      "dropping 'price3emaUSD' at index: 21\n",
      "dropping 'price3smaUSD' at index: 23\n",
      "dropping 'price14smaUSD' at index: 15\n",
      "dropping 'mining_profitability30ema' at index: 8\n",
      "dropping 'mining_profitability90wma' at index: 13\n",
      "dropping 'mining_profitability90ema' at index: 10\n",
      "dropping 'price30wmaUSD' at index: 16\n",
      "dropping 'top100cap30roc' at index: 29\n",
      "dropping 'difficulty7rsi' at index: 3\n",
      "dropping 'mining_profitability30sma' at index: 7\n",
      "dropping 'difficulty90rsi' at index: 3\n",
      "dropping 'mining_profitability90sma' at index: 7\n",
      "dropping 'price7stdUSD' at index: 20\n",
      "dropping 'mining_profitability30std' at index: 6\n",
      "dropping 'difficulty14rsi' at index: 1\n",
      "dropping 'mining_profitability90std' at index: 5\n",
      "dropping 'price3stdUSD' at index: 11\n",
      "dropping 'price7rocUSD' at index: 14\n",
      "dropping 'price7smaUSD' at index: 14\n",
      "dropping 'top100cap7trx' at index: 19\n",
      "dropping 'mediantransactionvalue90varUSD' at index: 3\n",
      "dropping 'price90rocUSD' at index: 14\n",
      "dropping 'price3rocUSD' at index: 9\n",
      "dropping 'mining_profitability14std' at index: 3\n",
      "dropping 'difficulty3rsi' at index: 1\n",
      "Remaining variables:\n",
      "Index(['difficulty14roc', 'mediantransactionvalue90trxUSD', 'price14trxUSD',\n",
      "       'price14varUSD', 'price30trxUSD', 'price30varUSD', 'price3momUSD',\n",
      "       'price3trxUSD', 'price3varUSD', 'price7momUSD', 'price7varUSD',\n",
      "       'top100cap14mom', 'top100cap30mom', 'top100cap30rsi', 'top100cap90mom'],\n",
      "      dtype='object')\n"
     ]
    }
   ],
   "execution_count": 33
  },
  {
   "cell_type": "code",
   "metadata": {
    "ExecuteTime": {
     "end_time": "2024-04-25T15:55:38.918526Z",
     "start_time": "2024-04-25T15:55:38.904880Z"
    }
   },
   "source": [
    "X.shape"
   ],
   "outputs": [
    {
     "data": {
      "text/plain": [
       "(1097, 15)"
      ]
     },
     "execution_count": 34,
     "metadata": {},
     "output_type": "execute_result"
    }
   ],
   "execution_count": 34
  },
  {
   "cell_type": "code",
   "metadata": {
    "scrolled": false,
    "ExecuteTime": {
     "end_time": "2024-04-25T15:55:38.965076Z",
     "start_time": "2024-04-25T15:55:38.920027Z"
    }
   },
   "source": [
    "cmns.vif_values(X)"
   ],
   "outputs": [
    {
     "data": {
      "text/plain": [
       "difficulty14roc                   1.367508\n",
       "mediantransactionvalue90trxUSD    1.664617\n",
       "price14trxUSD                     3.181199\n",
       "price14varUSD                     3.512223\n",
       "price30trxUSD                     4.014405\n",
       "price30varUSD                     2.304654\n",
       "price3momUSD                      2.342765\n",
       "price3trxUSD                      3.883772\n",
       "price3varUSD                      1.844656\n",
       "price7momUSD                      3.630744\n",
       "price7varUSD                      3.402332\n",
       "top100cap14mom                    2.247272\n",
       "top100cap30mom                    3.378327\n",
       "top100cap30rsi                    1.988632\n",
       "top100cap90mom                    2.369727\n",
       "dtype: float64"
      ]
     },
     "execution_count": 35,
     "metadata": {},
     "output_type": "execute_result"
    }
   ],
   "execution_count": 35
  },
  {
   "cell_type": "code",
   "metadata": {
    "scrolled": true,
    "ExecuteTime": {
     "end_time": "2024-04-25T15:55:39.042290Z",
     "start_time": "2024-04-25T15:55:38.967076Z"
    }
   },
   "source": [
    "Raw=cmns.drop_high_vif(X_raw,thresh=10)"
   ],
   "outputs": [
    {
     "name": "stdout",
     "output_type": "stream",
     "text": [
      "dropping 'median_transaction_feeUSD' at index: 7\n",
      "dropping 'difficulty' at index: 3\n",
      "dropping 'sentbyaddress' at index: 2\n",
      "dropping 'top100cap' at index: 9\n",
      "dropping 'size' at index: 1\n",
      "dropping 'activeaddresses' at index: 7\n",
      "dropping 'mediantransactionvalueUSD' at index: 6\n",
      "dropping 'transactions' at index: 0\n",
      "Remaining variables:\n",
      "Index(['mining_profitability', 'sentinusdUSD', 'transactionfeesUSD',\n",
      "       'confirmationtime', 'transactionvalueUSD', 'fee_to_rewardUSD'],\n",
      "      dtype='object')\n"
     ]
    }
   ],
   "execution_count": 36
  },
  {
   "cell_type": "code",
   "metadata": {
    "scrolled": true,
    "ExecuteTime": {
     "end_time": "2024-04-25T15:55:39.057807Z",
     "start_time": "2024-04-25T15:55:39.043290Z"
    }
   },
   "source": [
    "#cmns.vif_values(X_raw)\n",
    "cmns.vif_values(Raw)"
   ],
   "outputs": [
    {
     "data": {
      "text/plain": [
       "mining_profitability    9.242546\n",
       "sentinusdUSD            3.788438\n",
       "transactionfeesUSD      5.457004\n",
       "confirmationtime        6.871139\n",
       "transactionvalueUSD     6.409309\n",
       "fee_to_rewardUSD        5.698653\n",
       "dtype: float64"
      ]
     },
     "execution_count": 37,
     "metadata": {},
     "output_type": "execute_result"
    }
   ],
   "execution_count": 37
  },
  {
   "cell_type": "code",
   "metadata": {
    "ExecuteTime": {
     "end_time": "2024-04-25T15:55:43.566382Z",
     "start_time": "2024-04-25T15:55:43.551867Z"
    }
   },
   "source": [
    "Raw['Date']=df['Date']"
   ],
   "outputs": [
    {
     "name": "stderr",
     "output_type": "stream",
     "text": [
      "C:\\Users\\13275\\AppData\\Local\\Temp\\ipykernel_8532\\415555305.py:1: SettingWithCopyWarning: \n",
      "A value is trying to be set on a copy of a slice from a DataFrame.\n",
      "Try using .loc[row_indexer,col_indexer] = value instead\n",
      "\n",
      "See the caveats in the documentation: https://pandas.pydata.org/pandas-docs/stable/user_guide/indexing.html#returning-a-view-versus-a-copy\n",
      "  Raw['Date']=df['Date']\n"
     ]
    }
   ],
   "execution_count": 38
  },
  {
   "cell_type": "code",
   "metadata": {
    "ExecuteTime": {
     "end_time": "2024-04-25T15:55:45.030977Z",
     "start_time": "2024-04-25T15:55:45.017678Z"
    }
   },
   "source": [
    "X['Date']=df['Date']"
   ],
   "outputs": [
    {
     "name": "stderr",
     "output_type": "stream",
     "text": [
      "C:\\Users\\13275\\AppData\\Local\\Temp\\ipykernel_8532\\3012381705.py:1: SettingWithCopyWarning: \n",
      "A value is trying to be set on a copy of a slice from a DataFrame.\n",
      "Try using .loc[row_indexer,col_indexer] = value instead\n",
      "\n",
      "See the caveats in the documentation: https://pandas.pydata.org/pandas-docs/stable/user_guide/indexing.html#returning-a-view-versus-a-copy\n",
      "  X['Date']=df['Date']\n"
     ]
    }
   ],
   "execution_count": 39
  },
  {
   "metadata": {
    "ExecuteTime": {
     "end_time": "2024-04-25T15:55:47.297072Z",
     "start_time": "2024-04-25T15:55:47.283409Z"
    }
   },
   "cell_type": "code",
   "source": "X",
   "outputs": [
    {
     "data": {
      "text/plain": [
       "      difficulty14roc  mediantransactionvalue90trxUSD  price14trxUSD  \\\n",
       "883             1.202                          -0.072         -0.111   \n",
       "884             7.027                          -0.074         -0.102   \n",
       "885             6.566                          -0.075         -0.093   \n",
       "886             6.566                          -0.077         -0.082   \n",
       "887             6.566                          -0.079         -0.065   \n",
       "...               ...                             ...            ...   \n",
       "1975            3.270                          -0.100         -0.060   \n",
       "1976            3.270                          -0.100         -0.066   \n",
       "1977            3.270                          -0.099         -0.073   \n",
       "1978            3.270                          -0.099         -0.080   \n",
       "1979            3.270                          -0.099         -0.087   \n",
       "\n",
       "      price14varUSD  price30trxUSD  price30varUSD  price3momUSD  price3trxUSD  \\\n",
       "883            9515         -0.314          28623      -231.566        -0.206   \n",
       "884           10638         -0.309          29355      -261.045        -0.495   \n",
       "885           10214         -0.303          29328       -42.402        -0.374   \n",
       "886            9791         -0.296          29574       152.469         0.025   \n",
       "887           11727         -0.289          30437       376.272         0.452   \n",
       "...             ...            ...            ...           ...           ...   \n",
       "1975          51641         -0.212          82135      -179.890        -0.138   \n",
       "1976          13660         -0.207          76543      -258.919        -0.242   \n",
       "1977           8905         -0.203          82274      -257.127        -0.291   \n",
       "1978          10853         -0.200          86919       -69.693        -0.257   \n",
       "1979          12937         -0.196          91811       -32.908        -0.207   \n",
       "\n",
       "      price3varUSD  price7momUSD  price7varUSD  top100cap14mom  \\\n",
       "883       3878.000       -45.241        5833.0          -0.012   \n",
       "884       4729.000      -150.435       10730.0          -0.098   \n",
       "885       3051.000       -12.963       10908.0          -0.094   \n",
       "886      11526.000        28.544       11478.0          -0.021   \n",
       "887      10731.000        34.381       13207.0          -0.016   \n",
       "...            ...           ...           ...             ...   \n",
       "1975      8243.000      -190.493        4384.0          -0.155   \n",
       "1976      8530.000      -187.492        9487.0          -0.178   \n",
       "1977      1350.000      -280.082       14059.0          -0.127   \n",
       "1978       287.999      -261.088       14638.0          -0.039   \n",
       "1979        68.577      -261.142       13295.0           0.003   \n",
       "\n",
       "      top100cap30mom  top100cap30rsi  top100cap90mom    Date  \n",
       "883            0.107          66.491           0.632  737425  \n",
       "884            0.117          63.431           0.609  737426  \n",
       "885            0.083          64.259           0.624  737427  \n",
       "886            0.081          64.617           0.631  737428  \n",
       "887            0.106          64.996           0.638  737429  \n",
       "...              ...             ...             ...     ...  \n",
       "1975          -0.505          28.366          -1.073  738517  \n",
       "1976          -0.507          28.225          -1.019  738518  \n",
       "1977          -0.529          27.482          -1.002  738519  \n",
       "1978          -0.480          29.601          -0.941  738520  \n",
       "1979          -0.434          31.448          -0.937  738521  \n",
       "\n",
       "[1097 rows x 16 columns]"
      ],
      "text/html": [
       "<div>\n",
       "<style scoped>\n",
       "    .dataframe tbody tr th:only-of-type {\n",
       "        vertical-align: middle;\n",
       "    }\n",
       "\n",
       "    .dataframe tbody tr th {\n",
       "        vertical-align: top;\n",
       "    }\n",
       "\n",
       "    .dataframe thead th {\n",
       "        text-align: right;\n",
       "    }\n",
       "</style>\n",
       "<table border=\"1\" class=\"dataframe\">\n",
       "  <thead>\n",
       "    <tr style=\"text-align: right;\">\n",
       "      <th></th>\n",
       "      <th>difficulty14roc</th>\n",
       "      <th>mediantransactionvalue90trxUSD</th>\n",
       "      <th>price14trxUSD</th>\n",
       "      <th>price14varUSD</th>\n",
       "      <th>price30trxUSD</th>\n",
       "      <th>price30varUSD</th>\n",
       "      <th>price3momUSD</th>\n",
       "      <th>price3trxUSD</th>\n",
       "      <th>price3varUSD</th>\n",
       "      <th>price7momUSD</th>\n",
       "      <th>price7varUSD</th>\n",
       "      <th>top100cap14mom</th>\n",
       "      <th>top100cap30mom</th>\n",
       "      <th>top100cap30rsi</th>\n",
       "      <th>top100cap90mom</th>\n",
       "      <th>Date</th>\n",
       "    </tr>\n",
       "  </thead>\n",
       "  <tbody>\n",
       "    <tr>\n",
       "      <th>883</th>\n",
       "      <td>1.202</td>\n",
       "      <td>-0.072</td>\n",
       "      <td>-0.111</td>\n",
       "      <td>9515</td>\n",
       "      <td>-0.314</td>\n",
       "      <td>28623</td>\n",
       "      <td>-231.566</td>\n",
       "      <td>-0.206</td>\n",
       "      <td>3878.000</td>\n",
       "      <td>-45.241</td>\n",
       "      <td>5833.0</td>\n",
       "      <td>-0.012</td>\n",
       "      <td>0.107</td>\n",
       "      <td>66.491</td>\n",
       "      <td>0.632</td>\n",
       "      <td>737425</td>\n",
       "    </tr>\n",
       "    <tr>\n",
       "      <th>884</th>\n",
       "      <td>7.027</td>\n",
       "      <td>-0.074</td>\n",
       "      <td>-0.102</td>\n",
       "      <td>10638</td>\n",
       "      <td>-0.309</td>\n",
       "      <td>29355</td>\n",
       "      <td>-261.045</td>\n",
       "      <td>-0.495</td>\n",
       "      <td>4729.000</td>\n",
       "      <td>-150.435</td>\n",
       "      <td>10730.0</td>\n",
       "      <td>-0.098</td>\n",
       "      <td>0.117</td>\n",
       "      <td>63.431</td>\n",
       "      <td>0.609</td>\n",
       "      <td>737426</td>\n",
       "    </tr>\n",
       "    <tr>\n",
       "      <th>885</th>\n",
       "      <td>6.566</td>\n",
       "      <td>-0.075</td>\n",
       "      <td>-0.093</td>\n",
       "      <td>10214</td>\n",
       "      <td>-0.303</td>\n",
       "      <td>29328</td>\n",
       "      <td>-42.402</td>\n",
       "      <td>-0.374</td>\n",
       "      <td>3051.000</td>\n",
       "      <td>-12.963</td>\n",
       "      <td>10908.0</td>\n",
       "      <td>-0.094</td>\n",
       "      <td>0.083</td>\n",
       "      <td>64.259</td>\n",
       "      <td>0.624</td>\n",
       "      <td>737427</td>\n",
       "    </tr>\n",
       "    <tr>\n",
       "      <th>886</th>\n",
       "      <td>6.566</td>\n",
       "      <td>-0.077</td>\n",
       "      <td>-0.082</td>\n",
       "      <td>9791</td>\n",
       "      <td>-0.296</td>\n",
       "      <td>29574</td>\n",
       "      <td>152.469</td>\n",
       "      <td>0.025</td>\n",
       "      <td>11526.000</td>\n",
       "      <td>28.544</td>\n",
       "      <td>11478.0</td>\n",
       "      <td>-0.021</td>\n",
       "      <td>0.081</td>\n",
       "      <td>64.617</td>\n",
       "      <td>0.631</td>\n",
       "      <td>737428</td>\n",
       "    </tr>\n",
       "    <tr>\n",
       "      <th>887</th>\n",
       "      <td>6.566</td>\n",
       "      <td>-0.079</td>\n",
       "      <td>-0.065</td>\n",
       "      <td>11727</td>\n",
       "      <td>-0.289</td>\n",
       "      <td>30437</td>\n",
       "      <td>376.272</td>\n",
       "      <td>0.452</td>\n",
       "      <td>10731.000</td>\n",
       "      <td>34.381</td>\n",
       "      <td>13207.0</td>\n",
       "      <td>-0.016</td>\n",
       "      <td>0.106</td>\n",
       "      <td>64.996</td>\n",
       "      <td>0.638</td>\n",
       "      <td>737429</td>\n",
       "    </tr>\n",
       "    <tr>\n",
       "      <th>...</th>\n",
       "      <td>...</td>\n",
       "      <td>...</td>\n",
       "      <td>...</td>\n",
       "      <td>...</td>\n",
       "      <td>...</td>\n",
       "      <td>...</td>\n",
       "      <td>...</td>\n",
       "      <td>...</td>\n",
       "      <td>...</td>\n",
       "      <td>...</td>\n",
       "      <td>...</td>\n",
       "      <td>...</td>\n",
       "      <td>...</td>\n",
       "      <td>...</td>\n",
       "      <td>...</td>\n",
       "      <td>...</td>\n",
       "    </tr>\n",
       "    <tr>\n",
       "      <th>1975</th>\n",
       "      <td>3.270</td>\n",
       "      <td>-0.100</td>\n",
       "      <td>-0.060</td>\n",
       "      <td>51641</td>\n",
       "      <td>-0.212</td>\n",
       "      <td>82135</td>\n",
       "      <td>-179.890</td>\n",
       "      <td>-0.138</td>\n",
       "      <td>8243.000</td>\n",
       "      <td>-190.493</td>\n",
       "      <td>4384.0</td>\n",
       "      <td>-0.155</td>\n",
       "      <td>-0.505</td>\n",
       "      <td>28.366</td>\n",
       "      <td>-1.073</td>\n",
       "      <td>738517</td>\n",
       "    </tr>\n",
       "    <tr>\n",
       "      <th>1976</th>\n",
       "      <td>3.270</td>\n",
       "      <td>-0.100</td>\n",
       "      <td>-0.066</td>\n",
       "      <td>13660</td>\n",
       "      <td>-0.207</td>\n",
       "      <td>76543</td>\n",
       "      <td>-258.919</td>\n",
       "      <td>-0.242</td>\n",
       "      <td>8530.000</td>\n",
       "      <td>-187.492</td>\n",
       "      <td>9487.0</td>\n",
       "      <td>-0.178</td>\n",
       "      <td>-0.507</td>\n",
       "      <td>28.225</td>\n",
       "      <td>-1.019</td>\n",
       "      <td>738518</td>\n",
       "    </tr>\n",
       "    <tr>\n",
       "      <th>1977</th>\n",
       "      <td>3.270</td>\n",
       "      <td>-0.099</td>\n",
       "      <td>-0.073</td>\n",
       "      <td>8905</td>\n",
       "      <td>-0.203</td>\n",
       "      <td>82274</td>\n",
       "      <td>-257.127</td>\n",
       "      <td>-0.291</td>\n",
       "      <td>1350.000</td>\n",
       "      <td>-280.082</td>\n",
       "      <td>14059.0</td>\n",
       "      <td>-0.127</td>\n",
       "      <td>-0.529</td>\n",
       "      <td>27.482</td>\n",
       "      <td>-1.002</td>\n",
       "      <td>738519</td>\n",
       "    </tr>\n",
       "    <tr>\n",
       "      <th>1978</th>\n",
       "      <td>3.270</td>\n",
       "      <td>-0.099</td>\n",
       "      <td>-0.080</td>\n",
       "      <td>10853</td>\n",
       "      <td>-0.200</td>\n",
       "      <td>86919</td>\n",
       "      <td>-69.693</td>\n",
       "      <td>-0.257</td>\n",
       "      <td>287.999</td>\n",
       "      <td>-261.088</td>\n",
       "      <td>14638.0</td>\n",
       "      <td>-0.039</td>\n",
       "      <td>-0.480</td>\n",
       "      <td>29.601</td>\n",
       "      <td>-0.941</td>\n",
       "      <td>738520</td>\n",
       "    </tr>\n",
       "    <tr>\n",
       "      <th>1979</th>\n",
       "      <td>3.270</td>\n",
       "      <td>-0.099</td>\n",
       "      <td>-0.087</td>\n",
       "      <td>12937</td>\n",
       "      <td>-0.196</td>\n",
       "      <td>91811</td>\n",
       "      <td>-32.908</td>\n",
       "      <td>-0.207</td>\n",
       "      <td>68.577</td>\n",
       "      <td>-261.142</td>\n",
       "      <td>13295.0</td>\n",
       "      <td>0.003</td>\n",
       "      <td>-0.434</td>\n",
       "      <td>31.448</td>\n",
       "      <td>-0.937</td>\n",
       "      <td>738521</td>\n",
       "    </tr>\n",
       "  </tbody>\n",
       "</table>\n",
       "<p>1097 rows × 16 columns</p>\n",
       "</div>"
      ]
     },
     "execution_count": 40,
     "metadata": {},
     "output_type": "execute_result"
    }
   ],
   "execution_count": 40
  },
  {
   "cell_type": "code",
   "metadata": {
    "ExecuteTime": {
     "end_time": "2024-04-25T15:55:47.945329Z",
     "start_time": "2024-04-25T15:55:47.930378Z"
    }
   },
   "source": [
    "df_merged=Raw.merge(X.drop_duplicates(subset='Date'),how='left')"
   ],
   "outputs": [],
   "execution_count": 41
  },
  {
   "cell_type": "code",
   "metadata": {
    "ExecuteTime": {
     "end_time": "2024-04-25T15:55:49.195372Z",
     "start_time": "2024-04-25T15:55:49.180760Z"
    }
   },
   "source": [
    "df_merged.shape"
   ],
   "outputs": [
    {
     "data": {
      "text/plain": [
       "(1097, 22)"
      ]
     },
     "execution_count": 42,
     "metadata": {},
     "output_type": "execute_result"
    }
   ],
   "execution_count": 42
  },
  {
   "cell_type": "code",
   "metadata": {
    "ExecuteTime": {
     "end_time": "2024-04-25T15:55:50.661061Z",
     "start_time": "2024-04-25T15:55:50.649552Z"
    }
   },
   "source": [
    "df_merged.drop(columns='Date',inplace=True)"
   ],
   "outputs": [],
   "execution_count": 43
  },
  {
   "cell_type": "code",
   "metadata": {
    "ExecuteTime": {
     "end_time": "2024-04-25T15:55:51.064968Z",
     "start_time": "2024-04-25T15:55:51.050899Z"
    }
   },
   "source": [
    "#df_merged['priceUSD']=np.ravel(y)"
   ],
   "outputs": [],
   "execution_count": 44
  },
  {
   "cell_type": "code",
   "metadata": {
    "scrolled": false,
    "ExecuteTime": {
     "end_time": "2024-04-25T15:55:51.589652Z",
     "start_time": "2024-04-25T15:55:51.422064Z"
    }
   },
   "source": [
    "X=cmns.drop_high_vif(df_merged,thresh=10)"
   ],
   "outputs": [
    {
     "name": "stdout",
     "output_type": "stream",
     "text": [
      "dropping 'top100cap30rsi' at index: 19\n",
      "dropping 'mining_profitability' at index: 0\n",
      "Remaining variables:\n",
      "Index(['sentinusdUSD', 'transactionfeesUSD', 'confirmationtime',\n",
      "       'transactionvalueUSD', 'fee_to_rewardUSD', 'difficulty14roc',\n",
      "       'mediantransactionvalue90trxUSD', 'price14trxUSD', 'price14varUSD',\n",
      "       'price30trxUSD', 'price30varUSD', 'price3momUSD', 'price3trxUSD',\n",
      "       'price3varUSD', 'price7momUSD', 'price7varUSD', 'top100cap14mom',\n",
      "       'top100cap30mom', 'top100cap90mom'],\n",
      "      dtype='object')\n"
     ]
    }
   ],
   "execution_count": 45
  },
  {
   "cell_type": "code",
   "metadata": {
    "ExecuteTime": {
     "end_time": "2024-04-25T15:55:52.270528Z",
     "start_time": "2024-04-25T15:55:52.257523Z"
    }
   },
   "source": [
    "X.shape"
   ],
   "outputs": [
    {
     "data": {
      "text/plain": [
       "(1097, 19)"
      ]
     },
     "execution_count": 46,
     "metadata": {},
     "output_type": "execute_result"
    }
   ],
   "execution_count": 46
  },
  {
   "cell_type": "code",
   "metadata": {
    "ExecuteTime": {
     "end_time": "2024-04-25T15:55:53.120403Z",
     "start_time": "2024-04-25T15:55:53.059737Z"
    }
   },
   "source": [
    "cmns.vif_values(X)"
   ],
   "outputs": [
    {
     "data": {
      "text/plain": [
       "sentinusdUSD                      3.695863\n",
       "transactionfeesUSD                6.722559\n",
       "confirmationtime                  5.132940\n",
       "transactionvalueUSD               5.610161\n",
       "fee_to_rewardUSD                  8.964671\n",
       "difficulty14roc                   1.398768\n",
       "mediantransactionvalue90trxUSD    3.704016\n",
       "price14trxUSD                     3.282277\n",
       "price14varUSD                     3.616319\n",
       "price30trxUSD                     4.722445\n",
       "price30varUSD                     2.350909\n",
       "price3momUSD                      2.348431\n",
       "price3trxUSD                      3.932110\n",
       "price3varUSD                      1.882027\n",
       "price7momUSD                      3.693441\n",
       "price7varUSD                      3.638578\n",
       "top100cap14mom                    2.272877\n",
       "top100cap30mom                    3.456269\n",
       "top100cap90mom                    2.976099\n",
       "dtype: float64"
      ]
     },
     "execution_count": 47,
     "metadata": {},
     "output_type": "execute_result"
    }
   ],
   "execution_count": 47
  },
  {
   "cell_type": "code",
   "metadata": {
    "ExecuteTime": {
     "end_time": "2024-04-25T15:55:59.676255Z",
     "start_time": "2024-04-25T15:55:59.665751Z"
    }
   },
   "source": [
    "if 'priceUSD' in X.columns:\n",
    "    X.drop(columns='priceUSD',inplace=True)"
   ],
   "outputs": [],
   "execution_count": 48
  },
  {
   "cell_type": "code",
   "metadata": {
    "ExecuteTime": {
     "end_time": "2024-04-25T15:56:01.633740Z",
     "start_time": "2024-04-25T15:56:01.619224Z"
    }
   },
   "source": [
    "rf_final=RandomForestRegressor(random_state=7,n_jobs=-1)"
   ],
   "outputs": [],
   "execution_count": 49
  },
  {
   "cell_type": "code",
   "metadata": {
    "ExecuteTime": {
     "end_time": "2024-04-25T15:56:02.976184Z",
     "start_time": "2024-04-25T15:56:02.794531Z"
    }
   },
   "source": [
    "rf_final.fit(X,y)"
   ],
   "outputs": [
    {
     "data": {
      "text/plain": [
       "RandomForestRegressor(n_jobs=-1, random_state=7)"
      ],
      "text/html": [
       "<style>#sk-container-id-1 {\n",
       "  /* Definition of color scheme common for light and dark mode */\n",
       "  --sklearn-color-text: black;\n",
       "  --sklearn-color-line: gray;\n",
       "  /* Definition of color scheme for unfitted estimators */\n",
       "  --sklearn-color-unfitted-level-0: #fff5e6;\n",
       "  --sklearn-color-unfitted-level-1: #f6e4d2;\n",
       "  --sklearn-color-unfitted-level-2: #ffe0b3;\n",
       "  --sklearn-color-unfitted-level-3: chocolate;\n",
       "  /* Definition of color scheme for fitted estimators */\n",
       "  --sklearn-color-fitted-level-0: #f0f8ff;\n",
       "  --sklearn-color-fitted-level-1: #d4ebff;\n",
       "  --sklearn-color-fitted-level-2: #b3dbfd;\n",
       "  --sklearn-color-fitted-level-3: cornflowerblue;\n",
       "\n",
       "  /* Specific color for light theme */\n",
       "  --sklearn-color-text-on-default-background: var(--sg-text-color, var(--theme-code-foreground, var(--jp-content-font-color1, black)));\n",
       "  --sklearn-color-background: var(--sg-background-color, var(--theme-background, var(--jp-layout-color0, white)));\n",
       "  --sklearn-color-border-box: var(--sg-text-color, var(--theme-code-foreground, var(--jp-content-font-color1, black)));\n",
       "  --sklearn-color-icon: #696969;\n",
       "\n",
       "  @media (prefers-color-scheme: dark) {\n",
       "    /* Redefinition of color scheme for dark theme */\n",
       "    --sklearn-color-text-on-default-background: var(--sg-text-color, var(--theme-code-foreground, var(--jp-content-font-color1, white)));\n",
       "    --sklearn-color-background: var(--sg-background-color, var(--theme-background, var(--jp-layout-color0, #111)));\n",
       "    --sklearn-color-border-box: var(--sg-text-color, var(--theme-code-foreground, var(--jp-content-font-color1, white)));\n",
       "    --sklearn-color-icon: #878787;\n",
       "  }\n",
       "}\n",
       "\n",
       "#sk-container-id-1 {\n",
       "  color: var(--sklearn-color-text);\n",
       "}\n",
       "\n",
       "#sk-container-id-1 pre {\n",
       "  padding: 0;\n",
       "}\n",
       "\n",
       "#sk-container-id-1 input.sk-hidden--visually {\n",
       "  border: 0;\n",
       "  clip: rect(1px 1px 1px 1px);\n",
       "  clip: rect(1px, 1px, 1px, 1px);\n",
       "  height: 1px;\n",
       "  margin: -1px;\n",
       "  overflow: hidden;\n",
       "  padding: 0;\n",
       "  position: absolute;\n",
       "  width: 1px;\n",
       "}\n",
       "\n",
       "#sk-container-id-1 div.sk-dashed-wrapped {\n",
       "  border: 1px dashed var(--sklearn-color-line);\n",
       "  margin: 0 0.4em 0.5em 0.4em;\n",
       "  box-sizing: border-box;\n",
       "  padding-bottom: 0.4em;\n",
       "  background-color: var(--sklearn-color-background);\n",
       "}\n",
       "\n",
       "#sk-container-id-1 div.sk-container {\n",
       "  /* jupyter's `normalize.less` sets `[hidden] { display: none; }`\n",
       "     but bootstrap.min.css set `[hidden] { display: none !important; }`\n",
       "     so we also need the `!important` here to be able to override the\n",
       "     default hidden behavior on the sphinx rendered scikit-learn.org.\n",
       "     See: https://github.com/scikit-learn/scikit-learn/issues/21755 */\n",
       "  display: inline-block !important;\n",
       "  position: relative;\n",
       "}\n",
       "\n",
       "#sk-container-id-1 div.sk-text-repr-fallback {\n",
       "  display: none;\n",
       "}\n",
       "\n",
       "div.sk-parallel-item,\n",
       "div.sk-serial,\n",
       "div.sk-item {\n",
       "  /* draw centered vertical line to link estimators */\n",
       "  background-image: linear-gradient(var(--sklearn-color-text-on-default-background), var(--sklearn-color-text-on-default-background));\n",
       "  background-size: 2px 100%;\n",
       "  background-repeat: no-repeat;\n",
       "  background-position: center center;\n",
       "}\n",
       "\n",
       "/* Parallel-specific style estimator block */\n",
       "\n",
       "#sk-container-id-1 div.sk-parallel-item::after {\n",
       "  content: \"\";\n",
       "  width: 100%;\n",
       "  border-bottom: 2px solid var(--sklearn-color-text-on-default-background);\n",
       "  flex-grow: 1;\n",
       "}\n",
       "\n",
       "#sk-container-id-1 div.sk-parallel {\n",
       "  display: flex;\n",
       "  align-items: stretch;\n",
       "  justify-content: center;\n",
       "  background-color: var(--sklearn-color-background);\n",
       "  position: relative;\n",
       "}\n",
       "\n",
       "#sk-container-id-1 div.sk-parallel-item {\n",
       "  display: flex;\n",
       "  flex-direction: column;\n",
       "}\n",
       "\n",
       "#sk-container-id-1 div.sk-parallel-item:first-child::after {\n",
       "  align-self: flex-end;\n",
       "  width: 50%;\n",
       "}\n",
       "\n",
       "#sk-container-id-1 div.sk-parallel-item:last-child::after {\n",
       "  align-self: flex-start;\n",
       "  width: 50%;\n",
       "}\n",
       "\n",
       "#sk-container-id-1 div.sk-parallel-item:only-child::after {\n",
       "  width: 0;\n",
       "}\n",
       "\n",
       "/* Serial-specific style estimator block */\n",
       "\n",
       "#sk-container-id-1 div.sk-serial {\n",
       "  display: flex;\n",
       "  flex-direction: column;\n",
       "  align-items: center;\n",
       "  background-color: var(--sklearn-color-background);\n",
       "  padding-right: 1em;\n",
       "  padding-left: 1em;\n",
       "}\n",
       "\n",
       "\n",
       "/* Toggleable style: style used for estimator/Pipeline/ColumnTransformer box that is\n",
       "clickable and can be expanded/collapsed.\n",
       "- Pipeline and ColumnTransformer use this feature and define the default style\n",
       "- Estimators will overwrite some part of the style using the `sk-estimator` class\n",
       "*/\n",
       "\n",
       "/* Pipeline and ColumnTransformer style (default) */\n",
       "\n",
       "#sk-container-id-1 div.sk-toggleable {\n",
       "  /* Default theme specific background. It is overwritten whether we have a\n",
       "  specific estimator or a Pipeline/ColumnTransformer */\n",
       "  background-color: var(--sklearn-color-background);\n",
       "}\n",
       "\n",
       "/* Toggleable label */\n",
       "#sk-container-id-1 label.sk-toggleable__label {\n",
       "  cursor: pointer;\n",
       "  display: block;\n",
       "  width: 100%;\n",
       "  margin-bottom: 0;\n",
       "  padding: 0.5em;\n",
       "  box-sizing: border-box;\n",
       "  text-align: center;\n",
       "}\n",
       "\n",
       "#sk-container-id-1 label.sk-toggleable__label-arrow:before {\n",
       "  /* Arrow on the left of the label */\n",
       "  content: \"▸\";\n",
       "  float: left;\n",
       "  margin-right: 0.25em;\n",
       "  color: var(--sklearn-color-icon);\n",
       "}\n",
       "\n",
       "#sk-container-id-1 label.sk-toggleable__label-arrow:hover:before {\n",
       "  color: var(--sklearn-color-text);\n",
       "}\n",
       "\n",
       "/* Toggleable content - dropdown */\n",
       "\n",
       "#sk-container-id-1 div.sk-toggleable__content {\n",
       "  max-height: 0;\n",
       "  max-width: 0;\n",
       "  overflow: hidden;\n",
       "  text-align: left;\n",
       "  /* unfitted */\n",
       "  background-color: var(--sklearn-color-unfitted-level-0);\n",
       "}\n",
       "\n",
       "#sk-container-id-1 div.sk-toggleable__content.fitted {\n",
       "  /* fitted */\n",
       "  background-color: var(--sklearn-color-fitted-level-0);\n",
       "}\n",
       "\n",
       "#sk-container-id-1 div.sk-toggleable__content pre {\n",
       "  margin: 0.2em;\n",
       "  border-radius: 0.25em;\n",
       "  color: var(--sklearn-color-text);\n",
       "  /* unfitted */\n",
       "  background-color: var(--sklearn-color-unfitted-level-0);\n",
       "}\n",
       "\n",
       "#sk-container-id-1 div.sk-toggleable__content.fitted pre {\n",
       "  /* unfitted */\n",
       "  background-color: var(--sklearn-color-fitted-level-0);\n",
       "}\n",
       "\n",
       "#sk-container-id-1 input.sk-toggleable__control:checked~div.sk-toggleable__content {\n",
       "  /* Expand drop-down */\n",
       "  max-height: 200px;\n",
       "  max-width: 100%;\n",
       "  overflow: auto;\n",
       "}\n",
       "\n",
       "#sk-container-id-1 input.sk-toggleable__control:checked~label.sk-toggleable__label-arrow:before {\n",
       "  content: \"▾\";\n",
       "}\n",
       "\n",
       "/* Pipeline/ColumnTransformer-specific style */\n",
       "\n",
       "#sk-container-id-1 div.sk-label input.sk-toggleable__control:checked~label.sk-toggleable__label {\n",
       "  color: var(--sklearn-color-text);\n",
       "  background-color: var(--sklearn-color-unfitted-level-2);\n",
       "}\n",
       "\n",
       "#sk-container-id-1 div.sk-label.fitted input.sk-toggleable__control:checked~label.sk-toggleable__label {\n",
       "  background-color: var(--sklearn-color-fitted-level-2);\n",
       "}\n",
       "\n",
       "/* Estimator-specific style */\n",
       "\n",
       "/* Colorize estimator box */\n",
       "#sk-container-id-1 div.sk-estimator input.sk-toggleable__control:checked~label.sk-toggleable__label {\n",
       "  /* unfitted */\n",
       "  background-color: var(--sklearn-color-unfitted-level-2);\n",
       "}\n",
       "\n",
       "#sk-container-id-1 div.sk-estimator.fitted input.sk-toggleable__control:checked~label.sk-toggleable__label {\n",
       "  /* fitted */\n",
       "  background-color: var(--sklearn-color-fitted-level-2);\n",
       "}\n",
       "\n",
       "#sk-container-id-1 div.sk-label label.sk-toggleable__label,\n",
       "#sk-container-id-1 div.sk-label label {\n",
       "  /* The background is the default theme color */\n",
       "  color: var(--sklearn-color-text-on-default-background);\n",
       "}\n",
       "\n",
       "/* On hover, darken the color of the background */\n",
       "#sk-container-id-1 div.sk-label:hover label.sk-toggleable__label {\n",
       "  color: var(--sklearn-color-text);\n",
       "  background-color: var(--sklearn-color-unfitted-level-2);\n",
       "}\n",
       "\n",
       "/* Label box, darken color on hover, fitted */\n",
       "#sk-container-id-1 div.sk-label.fitted:hover label.sk-toggleable__label.fitted {\n",
       "  color: var(--sklearn-color-text);\n",
       "  background-color: var(--sklearn-color-fitted-level-2);\n",
       "}\n",
       "\n",
       "/* Estimator label */\n",
       "\n",
       "#sk-container-id-1 div.sk-label label {\n",
       "  font-family: monospace;\n",
       "  font-weight: bold;\n",
       "  display: inline-block;\n",
       "  line-height: 1.2em;\n",
       "}\n",
       "\n",
       "#sk-container-id-1 div.sk-label-container {\n",
       "  text-align: center;\n",
       "}\n",
       "\n",
       "/* Estimator-specific */\n",
       "#sk-container-id-1 div.sk-estimator {\n",
       "  font-family: monospace;\n",
       "  border: 1px dotted var(--sklearn-color-border-box);\n",
       "  border-radius: 0.25em;\n",
       "  box-sizing: border-box;\n",
       "  margin-bottom: 0.5em;\n",
       "  /* unfitted */\n",
       "  background-color: var(--sklearn-color-unfitted-level-0);\n",
       "}\n",
       "\n",
       "#sk-container-id-1 div.sk-estimator.fitted {\n",
       "  /* fitted */\n",
       "  background-color: var(--sklearn-color-fitted-level-0);\n",
       "}\n",
       "\n",
       "/* on hover */\n",
       "#sk-container-id-1 div.sk-estimator:hover {\n",
       "  /* unfitted */\n",
       "  background-color: var(--sklearn-color-unfitted-level-2);\n",
       "}\n",
       "\n",
       "#sk-container-id-1 div.sk-estimator.fitted:hover {\n",
       "  /* fitted */\n",
       "  background-color: var(--sklearn-color-fitted-level-2);\n",
       "}\n",
       "\n",
       "/* Specification for estimator info (e.g. \"i\" and \"?\") */\n",
       "\n",
       "/* Common style for \"i\" and \"?\" */\n",
       "\n",
       ".sk-estimator-doc-link,\n",
       "a:link.sk-estimator-doc-link,\n",
       "a:visited.sk-estimator-doc-link {\n",
       "  float: right;\n",
       "  font-size: smaller;\n",
       "  line-height: 1em;\n",
       "  font-family: monospace;\n",
       "  background-color: var(--sklearn-color-background);\n",
       "  border-radius: 1em;\n",
       "  height: 1em;\n",
       "  width: 1em;\n",
       "  text-decoration: none !important;\n",
       "  margin-left: 1ex;\n",
       "  /* unfitted */\n",
       "  border: var(--sklearn-color-unfitted-level-1) 1pt solid;\n",
       "  color: var(--sklearn-color-unfitted-level-1);\n",
       "}\n",
       "\n",
       ".sk-estimator-doc-link.fitted,\n",
       "a:link.sk-estimator-doc-link.fitted,\n",
       "a:visited.sk-estimator-doc-link.fitted {\n",
       "  /* fitted */\n",
       "  border: var(--sklearn-color-fitted-level-1) 1pt solid;\n",
       "  color: var(--sklearn-color-fitted-level-1);\n",
       "}\n",
       "\n",
       "/* On hover */\n",
       "div.sk-estimator:hover .sk-estimator-doc-link:hover,\n",
       ".sk-estimator-doc-link:hover,\n",
       "div.sk-label-container:hover .sk-estimator-doc-link:hover,\n",
       ".sk-estimator-doc-link:hover {\n",
       "  /* unfitted */\n",
       "  background-color: var(--sklearn-color-unfitted-level-3);\n",
       "  color: var(--sklearn-color-background);\n",
       "  text-decoration: none;\n",
       "}\n",
       "\n",
       "div.sk-estimator.fitted:hover .sk-estimator-doc-link.fitted:hover,\n",
       ".sk-estimator-doc-link.fitted:hover,\n",
       "div.sk-label-container:hover .sk-estimator-doc-link.fitted:hover,\n",
       ".sk-estimator-doc-link.fitted:hover {\n",
       "  /* fitted */\n",
       "  background-color: var(--sklearn-color-fitted-level-3);\n",
       "  color: var(--sklearn-color-background);\n",
       "  text-decoration: none;\n",
       "}\n",
       "\n",
       "/* Span, style for the box shown on hovering the info icon */\n",
       ".sk-estimator-doc-link span {\n",
       "  display: none;\n",
       "  z-index: 9999;\n",
       "  position: relative;\n",
       "  font-weight: normal;\n",
       "  right: .2ex;\n",
       "  padding: .5ex;\n",
       "  margin: .5ex;\n",
       "  width: min-content;\n",
       "  min-width: 20ex;\n",
       "  max-width: 50ex;\n",
       "  color: var(--sklearn-color-text);\n",
       "  box-shadow: 2pt 2pt 4pt #999;\n",
       "  /* unfitted */\n",
       "  background: var(--sklearn-color-unfitted-level-0);\n",
       "  border: .5pt solid var(--sklearn-color-unfitted-level-3);\n",
       "}\n",
       "\n",
       ".sk-estimator-doc-link.fitted span {\n",
       "  /* fitted */\n",
       "  background: var(--sklearn-color-fitted-level-0);\n",
       "  border: var(--sklearn-color-fitted-level-3);\n",
       "}\n",
       "\n",
       ".sk-estimator-doc-link:hover span {\n",
       "  display: block;\n",
       "}\n",
       "\n",
       "/* \"?\"-specific style due to the `<a>` HTML tag */\n",
       "\n",
       "#sk-container-id-1 a.estimator_doc_link {\n",
       "  float: right;\n",
       "  font-size: 1rem;\n",
       "  line-height: 1em;\n",
       "  font-family: monospace;\n",
       "  background-color: var(--sklearn-color-background);\n",
       "  border-radius: 1rem;\n",
       "  height: 1rem;\n",
       "  width: 1rem;\n",
       "  text-decoration: none;\n",
       "  /* unfitted */\n",
       "  color: var(--sklearn-color-unfitted-level-1);\n",
       "  border: var(--sklearn-color-unfitted-level-1) 1pt solid;\n",
       "}\n",
       "\n",
       "#sk-container-id-1 a.estimator_doc_link.fitted {\n",
       "  /* fitted */\n",
       "  border: var(--sklearn-color-fitted-level-1) 1pt solid;\n",
       "  color: var(--sklearn-color-fitted-level-1);\n",
       "}\n",
       "\n",
       "/* On hover */\n",
       "#sk-container-id-1 a.estimator_doc_link:hover {\n",
       "  /* unfitted */\n",
       "  background-color: var(--sklearn-color-unfitted-level-3);\n",
       "  color: var(--sklearn-color-background);\n",
       "  text-decoration: none;\n",
       "}\n",
       "\n",
       "#sk-container-id-1 a.estimator_doc_link.fitted:hover {\n",
       "  /* fitted */\n",
       "  background-color: var(--sklearn-color-fitted-level-3);\n",
       "}\n",
       "</style><div id=\"sk-container-id-1\" class=\"sk-top-container\"><div class=\"sk-text-repr-fallback\"><pre>RandomForestRegressor(n_jobs=-1, random_state=7)</pre><b>In a Jupyter environment, please rerun this cell to show the HTML representation or trust the notebook. <br />On GitHub, the HTML representation is unable to render, please try loading this page with nbviewer.org.</b></div><div class=\"sk-container\" hidden><div class=\"sk-item\"><div class=\"sk-estimator fitted sk-toggleable\"><input class=\"sk-toggleable__control sk-hidden--visually\" id=\"sk-estimator-id-1\" type=\"checkbox\" checked><label for=\"sk-estimator-id-1\" class=\"sk-toggleable__label fitted sk-toggleable__label-arrow fitted\">&nbsp;&nbsp;RandomForestRegressor<a class=\"sk-estimator-doc-link fitted\" rel=\"noreferrer\" target=\"_blank\" href=\"https://scikit-learn.org/1.4/modules/generated/sklearn.ensemble.RandomForestRegressor.html\">?<span>Documentation for RandomForestRegressor</span></a><span class=\"sk-estimator-doc-link fitted\">i<span>Fitted</span></span></label><div class=\"sk-toggleable__content fitted\"><pre>RandomForestRegressor(n_jobs=-1, random_state=7)</pre></div> </div></div></div></div>"
      ]
     },
     "execution_count": 50,
     "metadata": {},
     "output_type": "execute_result"
    }
   ],
   "execution_count": 50
  },
  {
   "cell_type": "code",
   "metadata": {
    "ExecuteTime": {
     "end_time": "2024-04-25T15:56:03.254956Z",
     "start_time": "2024-04-25T15:56:03.210318Z"
    }
   },
   "source": [
    "imp_feat=cmns.feature_importance(X.columns,rf_final.feature_importances_)"
   ],
   "outputs": [],
   "execution_count": 51
  },
  {
   "cell_type": "code",
   "metadata": {
    "ExecuteTime": {
     "end_time": "2024-04-25T15:56:04.534840Z",
     "start_time": "2024-04-25T15:56:04.308082Z"
    }
   },
   "source": [
    "cmns.plot_feature_importance(imp_feat,'feature importance')"
   ],
   "outputs": [
    {
     "data": {
      "text/plain": [
       "<Figure size 1170x827 with 1 Axes>"
      ],
      "image/png": "[encoded data removed]"
     },
     "metadata": {},
     "output_type": "display_data"
    }
   ],
   "execution_count": 52
  },
  {
   "cell_type": "code",
   "metadata": {
    "scrolled": true,
    "ExecuteTime": {
     "end_time": "2024-04-25T15:56:11.015565Z",
     "start_time": "2024-04-25T15:56:11.003047Z"
    }
   },
   "source": [
    "imp_feat[imp_feat['feature_importance']>0]\n"
   ],
   "outputs": [
    {
     "data": {
      "text/plain": [
       "                           feature  feature_importance\n",
       "0                    price30varUSD            0.289639\n",
       "1                    price30trxUSD            0.202391\n",
       "2              transactionvalueUSD            0.177160\n",
       "3                   top100cap90mom            0.090608\n",
       "4                    price14trxUSD            0.062165\n",
       "5   mediantransactionvalue90trxUSD            0.057913\n",
       "6                   top100cap30mom            0.033395\n",
       "7                     price3trxUSD            0.012983\n",
       "8               transactionfeesUSD            0.012697\n",
       "9                  difficulty14roc            0.010269\n",
       "10                    price7varUSD            0.009845\n",
       "11                    sentinusdUSD            0.008566\n",
       "12                   price14varUSD            0.007361\n",
       "13                  top100cap14mom            0.007043\n",
       "14                fee_to_rewardUSD            0.006623\n",
       "15                    price7momUSD            0.004419\n",
       "16                    price3varUSD            0.003311\n",
       "17                confirmationtime            0.001836\n",
       "18                    price3momUSD            0.001776"
      ],
      "text/html": [
       "<div>\n",
       "<style scoped>\n",
       "    .dataframe tbody tr th:only-of-type {\n",
       "        vertical-align: middle;\n",
       "    }\n",
       "\n",
       "    .dataframe tbody tr th {\n",
       "        vertical-align: top;\n",
       "    }\n",
       "\n",
       "    .dataframe thead th {\n",
       "        text-align: right;\n",
       "    }\n",
       "</style>\n",
       "<table border=\"1\" class=\"dataframe\">\n",
       "  <thead>\n",
       "    <tr style=\"text-align: right;\">\n",
       "      <th></th>\n",
       "      <th>feature</th>\n",
       "      <th>feature_importance</th>\n",
       "    </tr>\n",
       "  </thead>\n",
       "  <tbody>\n",
       "    <tr>\n",
       "      <th>0</th>\n",
       "      <td>price30varUSD</td>\n",
       "      <td>0.289639</td>\n",
       "    </tr>\n",
       "    <tr>\n",
       "      <th>1</th>\n",
       "      <td>price30trxUSD</td>\n",
       "      <td>0.202391</td>\n",
       "    </tr>\n",
       "    <tr>\n",
       "      <th>2</th>\n",
       "      <td>transactionvalueUSD</td>\n",
       "      <td>0.177160</td>\n",
       "    </tr>\n",
       "    <tr>\n",
       "      <th>3</th>\n",
       "      <td>top100cap90mom</td>\n",
       "      <td>0.090608</td>\n",
       "    </tr>\n",
       "    <tr>\n",
       "      <th>4</th>\n",
       "      <td>price14trxUSD</td>\n",
       "      <td>0.062165</td>\n",
       "    </tr>\n",
       "    <tr>\n",
       "      <th>5</th>\n",
       "      <td>mediantransactionvalue90trxUSD</td>\n",
       "      <td>0.057913</td>\n",
       "    </tr>\n",
       "    <tr>\n",
       "      <th>6</th>\n",
       "      <td>top100cap30mom</td>\n",
       "      <td>0.033395</td>\n",
       "    </tr>\n",
       "    <tr>\n",
       "      <th>7</th>\n",
       "      <td>price3trxUSD</td>\n",
       "      <td>0.012983</td>\n",
       "    </tr>\n",
       "    <tr>\n",
       "      <th>8</th>\n",
       "      <td>transactionfeesUSD</td>\n",
       "      <td>0.012697</td>\n",
       "    </tr>\n",
       "    <tr>\n",
       "      <th>9</th>\n",
       "      <td>difficulty14roc</td>\n",
       "      <td>0.010269</td>\n",
       "    </tr>\n",
       "    <tr>\n",
       "      <th>10</th>\n",
       "      <td>price7varUSD</td>\n",
       "      <td>0.009845</td>\n",
       "    </tr>\n",
       "    <tr>\n",
       "      <th>11</th>\n",
       "      <td>sentinusdUSD</td>\n",
       "      <td>0.008566</td>\n",
       "    </tr>\n",
       "    <tr>\n",
       "      <th>12</th>\n",
       "      <td>price14varUSD</td>\n",
       "      <td>0.007361</td>\n",
       "    </tr>\n",
       "    <tr>\n",
       "      <th>13</th>\n",
       "      <td>top100cap14mom</td>\n",
       "      <td>0.007043</td>\n",
       "    </tr>\n",
       "    <tr>\n",
       "      <th>14</th>\n",
       "      <td>fee_to_rewardUSD</td>\n",
       "      <td>0.006623</td>\n",
       "    </tr>\n",
       "    <tr>\n",
       "      <th>15</th>\n",
       "      <td>price7momUSD</td>\n",
       "      <td>0.004419</td>\n",
       "    </tr>\n",
       "    <tr>\n",
       "      <th>16</th>\n",
       "      <td>price3varUSD</td>\n",
       "      <td>0.003311</td>\n",
       "    </tr>\n",
       "    <tr>\n",
       "      <th>17</th>\n",
       "      <td>confirmationtime</td>\n",
       "      <td>0.001836</td>\n",
       "    </tr>\n",
       "    <tr>\n",
       "      <th>18</th>\n",
       "      <td>price3momUSD</td>\n",
       "      <td>0.001776</td>\n",
       "    </tr>\n",
       "  </tbody>\n",
       "</table>\n",
       "</div>"
      ]
     },
     "execution_count": 53,
     "metadata": {},
     "output_type": "execute_result"
    }
   ],
   "execution_count": 53
  },
  {
   "cell_type": "code",
   "metadata": {
    "ExecuteTime": {
     "end_time": "2024-04-25T15:56:23.071502Z",
     "start_time": "2024-04-25T15:56:23.058060Z"
    }
   },
   "source": "cols=[0,1,2,3,4,5,6,7,9,11,16,18,16,20]",
   "outputs": [],
   "execution_count": 54
  },
  {
   "cell_type": "code",
   "metadata": {
    "ExecuteTime": {
     "end_time": "2024-04-25T15:56:24.243894Z",
     "start_time": "2024-04-25T15:56:24.230376Z"
    }
   },
   "source": [
    "#selected=imp_feat[imp_feat['feature_importance']>0.001]\n",
    "selected=imp_feat.filter(cols,axis=0)"
   ],
   "outputs": [],
   "execution_count": 55
  },
  {
   "cell_type": "code",
   "metadata": {
    "ExecuteTime": {
     "end_time": "2024-04-25T15:56:24.704454Z",
     "start_time": "2024-04-25T15:56:24.690618Z"
    }
   },
   "source": [
    "selected"
   ],
   "outputs": [
    {
     "data": {
      "text/plain": [
       "                           feature  feature_importance\n",
       "0                    price30varUSD            0.289639\n",
       "1                    price30trxUSD            0.202391\n",
       "2              transactionvalueUSD            0.177160\n",
       "3                   top100cap90mom            0.090608\n",
       "4                    price14trxUSD            0.062165\n",
       "5   mediantransactionvalue90trxUSD            0.057913\n",
       "6                   top100cap30mom            0.033395\n",
       "7                     price3trxUSD            0.012983\n",
       "9                  difficulty14roc            0.010269\n",
       "11                    sentinusdUSD            0.008566\n",
       "16                    price3varUSD            0.003311\n",
       "18                    price3momUSD            0.001776"
      ],
      "text/html": [
       "<div>\n",
       "<style scoped>\n",
       "    .dataframe tbody tr th:only-of-type {\n",
       "        vertical-align: middle;\n",
       "    }\n",
       "\n",
       "    .dataframe tbody tr th {\n",
       "        vertical-align: top;\n",
       "    }\n",
       "\n",
       "    .dataframe thead th {\n",
       "        text-align: right;\n",
       "    }\n",
       "</style>\n",
       "<table border=\"1\" class=\"dataframe\">\n",
       "  <thead>\n",
       "    <tr style=\"text-align: right;\">\n",
       "      <th></th>\n",
       "      <th>feature</th>\n",
       "      <th>feature_importance</th>\n",
       "    </tr>\n",
       "  </thead>\n",
       "  <tbody>\n",
       "    <tr>\n",
       "      <th>0</th>\n",
       "      <td>price30varUSD</td>\n",
       "      <td>0.289639</td>\n",
       "    </tr>\n",
       "    <tr>\n",
       "      <th>1</th>\n",
       "      <td>price30trxUSD</td>\n",
       "      <td>0.202391</td>\n",
       "    </tr>\n",
       "    <tr>\n",
       "      <th>2</th>\n",
       "      <td>transactionvalueUSD</td>\n",
       "      <td>0.177160</td>\n",
       "    </tr>\n",
       "    <tr>\n",
       "      <th>3</th>\n",
       "      <td>top100cap90mom</td>\n",
       "      <td>0.090608</td>\n",
       "    </tr>\n",
       "    <tr>\n",
       "      <th>4</th>\n",
       "      <td>price14trxUSD</td>\n",
       "      <td>0.062165</td>\n",
       "    </tr>\n",
       "    <tr>\n",
       "      <th>5</th>\n",
       "      <td>mediantransactionvalue90trxUSD</td>\n",
       "      <td>0.057913</td>\n",
       "    </tr>\n",
       "    <tr>\n",
       "      <th>6</th>\n",
       "      <td>top100cap30mom</td>\n",
       "      <td>0.033395</td>\n",
       "    </tr>\n",
       "    <tr>\n",
       "      <th>7</th>\n",
       "      <td>price3trxUSD</td>\n",
       "      <td>0.012983</td>\n",
       "    </tr>\n",
       "    <tr>\n",
       "      <th>9</th>\n",
       "      <td>difficulty14roc</td>\n",
       "      <td>0.010269</td>\n",
       "    </tr>\n",
       "    <tr>\n",
       "      <th>11</th>\n",
       "      <td>sentinusdUSD</td>\n",
       "      <td>0.008566</td>\n",
       "    </tr>\n",
       "    <tr>\n",
       "      <th>16</th>\n",
       "      <td>price3varUSD</td>\n",
       "      <td>0.003311</td>\n",
       "    </tr>\n",
       "    <tr>\n",
       "      <th>18</th>\n",
       "      <td>price3momUSD</td>\n",
       "      <td>0.001776</td>\n",
       "    </tr>\n",
       "  </tbody>\n",
       "</table>\n",
       "</div>"
      ]
     },
     "execution_count": 56,
     "metadata": {},
     "output_type": "execute_result"
    }
   ],
   "execution_count": 56
  },
  {
   "cell_type": "code",
   "metadata": {
    "ExecuteTime": {
     "end_time": "2024-04-25T15:56:25.676947Z",
     "start_time": "2024-04-25T15:56:25.671438Z"
    }
   },
   "source": [
    "selected.feature_importance.sum()"
   ],
   "outputs": [
    {
     "data": {
      "text/plain": [
       "0.9501770558911278"
      ]
     },
     "execution_count": 57,
     "metadata": {},
     "output_type": "execute_result"
    }
   ],
   "execution_count": 57
  },
  {
   "cell_type": "code",
   "metadata": {
    "ExecuteTime": {
     "end_time": "2024-04-25T15:56:35.545485Z",
     "start_time": "2024-04-25T15:56:35.532465Z"
    }
   },
   "source": [
    "X_high=X[selected.feature]"
   ],
   "outputs": [],
   "execution_count": 58
  },
  {
   "cell_type": "code",
   "metadata": {
    "ExecuteTime": {
     "end_time": "2024-04-25T15:56:36.271522Z",
     "start_time": "2024-04-25T15:56:36.258017Z"
    }
   },
   "source": [
    "X_high.shape"
   ],
   "outputs": [
    {
     "data": {
      "text/plain": [
       "(1097, 12)"
      ]
     },
     "execution_count": 59,
     "metadata": {},
     "output_type": "execute_result"
    }
   ],
   "execution_count": 59
  },
  {
   "cell_type": "code",
   "metadata": {
    "ExecuteTime": {
     "end_time": "2024-04-25T15:56:37.366975Z",
     "start_time": "2024-04-25T15:56:37.352920Z"
    }
   },
   "source": [
    "X_high.sort_index(axis=1,inplace=True)"
   ],
   "outputs": [
    {
     "name": "stderr",
     "output_type": "stream",
     "text": [
      "C:\\Users\\13275\\AppData\\Local\\Temp\\ipykernel_8532\\554794614.py:1: SettingWithCopyWarning: \n",
      "A value is trying to be set on a copy of a slice from a DataFrame\n",
      "\n",
      "See the caveats in the documentation: https://pandas.pydata.org/pandas-docs/stable/user_guide/indexing.html#returning-a-view-versus-a-copy\n",
      "  X_high.sort_index(axis=1,inplace=True)\n"
     ]
    }
   ],
   "execution_count": 60
  },
  {
   "metadata": {
    "ExecuteTime": {
     "end_time": "2024-04-25T03:01:40.864051Z",
     "start_time": "2024-04-25T03:01:40.847099Z"
    }
   },
   "cell_type": "code",
   "source": "X_high",
   "outputs": [
    {
     "data": {
      "text/plain": [
       "      difficulty3rsi  fee_to_rewardUSD  mediantransactionvalue30trxUSD  \\\n",
       "0             99.997             0.457                          -0.240   \n",
       "1            100.000             0.776                          -0.261   \n",
       "2            100.000             0.770                          -0.279   \n",
       "3            100.000             0.583                          -0.300   \n",
       "4            100.000             0.580                          -0.325   \n",
       "...              ...               ...                             ...   \n",
       "1092          99.043             1.932                          -0.085   \n",
       "1093          99.043             2.283                          -0.087   \n",
       "1094          99.043             2.161                          -0.090   \n",
       "1095          99.043             1.235                          -0.094   \n",
       "1096          99.043             0.729                          -0.100   \n",
       "\n",
       "      mediantransactionvalue3rocUSD  mining_profitability90trx  price14momUSD  \\\n",
       "0                           -25.004                     -0.307        438.400   \n",
       "1                            -3.650                     -0.308        -50.548   \n",
       "2                            -3.731                     -0.310         38.717   \n",
       "3                            29.525                     -0.311        181.633   \n",
       "4                           -30.098                     -0.312        227.791   \n",
       "...                             ...                        ...            ...   \n",
       "1092                         25.169                     -0.406      -1234.000   \n",
       "1093                         12.176                     -0.405       -992.473   \n",
       "1094                         -8.328                     -0.404       -550.542   \n",
       "1095                         -6.914                     -0.403       -128.481   \n",
       "1096                        -19.235                     -0.402       -177.715   \n",
       "\n",
       "      price30varUSD  price3momUSD  price90momUSD  price90varUSD  sentinusdUSD  \\\n",
       "0             28623      -231.566      -1017.000         573722    2022006877   \n",
       "1             29355      -261.045      -1046.000         581575    3495275949   \n",
       "2             29328       -42.402       -878.841         587195    5664998633   \n",
       "3             29574       152.469       -626.347         590895    3470997480   \n",
       "4             30437       376.272       -565.003         593111    2540098659   \n",
       "...             ...           ...            ...            ...           ...   \n",
       "1092          82135      -179.890      -2758.000        2474152    5572254030   \n",
       "1093          76543      -258.919      -2936.000        2479394    6313826970   \n",
       "1094          82274      -257.127      -2778.000        2489811    7554069544   \n",
       "1095          86919       -69.693      -2661.000        2500289    4493923166   \n",
       "1096          91811       -32.908      -2751.000        2507215    3568420249   \n",
       "\n",
       "      top100cap90roc  transactionvalueUSD  \n",
       "0              4.345                12757  \n",
       "1              4.194                16735  \n",
       "2              4.295                23302  \n",
       "3              4.344                16928  \n",
       "4              4.395                14695  \n",
       "...              ...                  ...  \n",
       "1092          -6.794                53190  \n",
       "1093          -6.481                54195  \n",
       "1094          -6.385                50405  \n",
       "1095          -6.009                42790  \n",
       "1096          -5.981                49147  \n",
       "\n",
       "[1097 rows x 13 columns]"
      ],
      "text/html": [
       "<div>\n",
       "<style scoped>\n",
       "    .dataframe tbody tr th:only-of-type {\n",
       "        vertical-align: middle;\n",
       "    }\n",
       "\n",
       "    .dataframe tbody tr th {\n",
       "        vertical-align: top;\n",
       "    }\n",
       "\n",
       "    .dataframe thead th {\n",
       "        text-align: right;\n",
       "    }\n",
       "</style>\n",
       "<table border=\"1\" class=\"dataframe\">\n",
       "  <thead>\n",
       "    <tr style=\"text-align: right;\">\n",
       "      <th></th>\n",
       "      <th>difficulty3rsi</th>\n",
       "      <th>fee_to_rewardUSD</th>\n",
       "      <th>mediantransactionvalue30trxUSD</th>\n",
       "      <th>mediantransactionvalue3rocUSD</th>\n",
       "      <th>mining_profitability90trx</th>\n",
       "      <th>price14momUSD</th>\n",
       "      <th>price30varUSD</th>\n",
       "      <th>price3momUSD</th>\n",
       "      <th>price90momUSD</th>\n",
       "      <th>price90varUSD</th>\n",
       "      <th>sentinusdUSD</th>\n",
       "      <th>top100cap90roc</th>\n",
       "      <th>transactionvalueUSD</th>\n",
       "    </tr>\n",
       "  </thead>\n",
       "  <tbody>\n",
       "    <tr>\n",
       "      <th>0</th>\n",
       "      <td>99.997</td>\n",
       "      <td>0.457</td>\n",
       "      <td>-0.240</td>\n",
       "      <td>-25.004</td>\n",
       "      <td>-0.307</td>\n",
       "      <td>438.400</td>\n",
       "      <td>28623</td>\n",
       "      <td>-231.566</td>\n",
       "      <td>-1017.000</td>\n",
       "      <td>573722</td>\n",
       "      <td>2022006877</td>\n",
       "      <td>4.345</td>\n",
       "      <td>12757</td>\n",
       "    </tr>\n",
       "    <tr>\n",
       "      <th>1</th>\n",
       "      <td>100.000</td>\n",
       "      <td>0.776</td>\n",
       "      <td>-0.261</td>\n",
       "      <td>-3.650</td>\n",
       "      <td>-0.308</td>\n",
       "      <td>-50.548</td>\n",
       "      <td>29355</td>\n",
       "      <td>-261.045</td>\n",
       "      <td>-1046.000</td>\n",
       "      <td>581575</td>\n",
       "      <td>3495275949</td>\n",
       "      <td>4.194</td>\n",
       "      <td>16735</td>\n",
       "    </tr>\n",
       "    <tr>\n",
       "      <th>2</th>\n",
       "      <td>100.000</td>\n",
       "      <td>0.770</td>\n",
       "      <td>-0.279</td>\n",
       "      <td>-3.731</td>\n",
       "      <td>-0.310</td>\n",
       "      <td>38.717</td>\n",
       "      <td>29328</td>\n",
       "      <td>-42.402</td>\n",
       "      <td>-878.841</td>\n",
       "      <td>587195</td>\n",
       "      <td>5664998633</td>\n",
       "      <td>4.295</td>\n",
       "      <td>23302</td>\n",
       "    </tr>\n",
       "    <tr>\n",
       "      <th>3</th>\n",
       "      <td>100.000</td>\n",
       "      <td>0.583</td>\n",
       "      <td>-0.300</td>\n",
       "      <td>29.525</td>\n",
       "      <td>-0.311</td>\n",
       "      <td>181.633</td>\n",
       "      <td>29574</td>\n",
       "      <td>152.469</td>\n",
       "      <td>-626.347</td>\n",
       "      <td>590895</td>\n",
       "      <td>3470997480</td>\n",
       "      <td>4.344</td>\n",
       "      <td>16928</td>\n",
       "    </tr>\n",
       "    <tr>\n",
       "      <th>4</th>\n",
       "      <td>100.000</td>\n",
       "      <td>0.580</td>\n",
       "      <td>-0.325</td>\n",
       "      <td>-30.098</td>\n",
       "      <td>-0.312</td>\n",
       "      <td>227.791</td>\n",
       "      <td>30437</td>\n",
       "      <td>376.272</td>\n",
       "      <td>-565.003</td>\n",
       "      <td>593111</td>\n",
       "      <td>2540098659</td>\n",
       "      <td>4.395</td>\n",
       "      <td>14695</td>\n",
       "    </tr>\n",
       "    <tr>\n",
       "      <th>...</th>\n",
       "      <td>...</td>\n",
       "      <td>...</td>\n",
       "      <td>...</td>\n",
       "      <td>...</td>\n",
       "      <td>...</td>\n",
       "      <td>...</td>\n",
       "      <td>...</td>\n",
       "      <td>...</td>\n",
       "      <td>...</td>\n",
       "      <td>...</td>\n",
       "      <td>...</td>\n",
       "      <td>...</td>\n",
       "      <td>...</td>\n",
       "    </tr>\n",
       "    <tr>\n",
       "      <th>1092</th>\n",
       "      <td>99.043</td>\n",
       "      <td>1.932</td>\n",
       "      <td>-0.085</td>\n",
       "      <td>25.169</td>\n",
       "      <td>-0.406</td>\n",
       "      <td>-1234.000</td>\n",
       "      <td>82135</td>\n",
       "      <td>-179.890</td>\n",
       "      <td>-2758.000</td>\n",
       "      <td>2474152</td>\n",
       "      <td>5572254030</td>\n",
       "      <td>-6.794</td>\n",
       "      <td>53190</td>\n",
       "    </tr>\n",
       "    <tr>\n",
       "      <th>1093</th>\n",
       "      <td>99.043</td>\n",
       "      <td>2.283</td>\n",
       "      <td>-0.087</td>\n",
       "      <td>12.176</td>\n",
       "      <td>-0.405</td>\n",
       "      <td>-992.473</td>\n",
       "      <td>76543</td>\n",
       "      <td>-258.919</td>\n",
       "      <td>-2936.000</td>\n",
       "      <td>2479394</td>\n",
       "      <td>6313826970</td>\n",
       "      <td>-6.481</td>\n",
       "      <td>54195</td>\n",
       "    </tr>\n",
       "    <tr>\n",
       "      <th>1094</th>\n",
       "      <td>99.043</td>\n",
       "      <td>2.161</td>\n",
       "      <td>-0.090</td>\n",
       "      <td>-8.328</td>\n",
       "      <td>-0.404</td>\n",
       "      <td>-550.542</td>\n",
       "      <td>82274</td>\n",
       "      <td>-257.127</td>\n",
       "      <td>-2778.000</td>\n",
       "      <td>2489811</td>\n",
       "      <td>7554069544</td>\n",
       "      <td>-6.385</td>\n",
       "      <td>50405</td>\n",
       "    </tr>\n",
       "    <tr>\n",
       "      <th>1095</th>\n",
       "      <td>99.043</td>\n",
       "      <td>1.235</td>\n",
       "      <td>-0.094</td>\n",
       "      <td>-6.914</td>\n",
       "      <td>-0.403</td>\n",
       "      <td>-128.481</td>\n",
       "      <td>86919</td>\n",
       "      <td>-69.693</td>\n",
       "      <td>-2661.000</td>\n",
       "      <td>2500289</td>\n",
       "      <td>4493923166</td>\n",
       "      <td>-6.009</td>\n",
       "      <td>42790</td>\n",
       "    </tr>\n",
       "    <tr>\n",
       "      <th>1096</th>\n",
       "      <td>99.043</td>\n",
       "      <td>0.729</td>\n",
       "      <td>-0.100</td>\n",
       "      <td>-19.235</td>\n",
       "      <td>-0.402</td>\n",
       "      <td>-177.715</td>\n",
       "      <td>91811</td>\n",
       "      <td>-32.908</td>\n",
       "      <td>-2751.000</td>\n",
       "      <td>2507215</td>\n",
       "      <td>3568420249</td>\n",
       "      <td>-5.981</td>\n",
       "      <td>49147</td>\n",
       "    </tr>\n",
       "  </tbody>\n",
       "</table>\n",
       "<p>1097 rows × 13 columns</p>\n",
       "</div>"
      ]
     },
     "execution_count": 198,
     "metadata": {},
     "output_type": "execute_result"
    }
   ],
   "execution_count": 198
  },
  {
   "cell_type": "code",
   "metadata": {
    "ExecuteTime": {
     "end_time": "2024-04-25T16:00:06.777010Z",
     "start_time": "2024-04-25T16:00:06.763630Z"
    }
   },
   "source": [
    "X_high['volatility']=np.ravel(y)\n",
    "price = df['priceUSD']\n",
    "price = np.ravel(price)\n",
    "X_high['priceUSD'] = np.ravel(price)"
   ],
   "outputs": [
    {
     "name": "stderr",
     "output_type": "stream",
     "text": [
      "C:\\Users\\13275\\AppData\\Local\\Temp\\ipykernel_8532\\34886841.py:1: SettingWithCopyWarning: \n",
      "A value is trying to be set on a copy of a slice from a DataFrame.\n",
      "Try using .loc[row_indexer,col_indexer] = value instead\n",
      "\n",
      "See the caveats in the documentation: https://pandas.pydata.org/pandas-docs/stable/user_guide/indexing.html#returning-a-view-versus-a-copy\n",
      "  X_high['volatility']=np.ravel(y)\n",
      "C:\\Users\\13275\\AppData\\Local\\Temp\\ipykernel_8532\\34886841.py:4: SettingWithCopyWarning: \n",
      "A value is trying to be set on a copy of a slice from a DataFrame.\n",
      "Try using .loc[row_indexer,col_indexer] = value instead\n",
      "\n",
      "See the caveats in the documentation: https://pandas.pydata.org/pandas-docs/stable/user_guide/indexing.html#returning-a-view-versus-a-copy\n",
      "  X_high['priceUSD'] = np.ravel(price)\n"
     ]
    }
   ],
   "execution_count": 65
  },
  {
   "metadata": {
    "ExecuteTime": {
     "end_time": "2024-04-25T16:00:07.224013Z",
     "start_time": "2024-04-25T16:00:07.211505Z"
    }
   },
   "cell_type": "code",
   "source": "X_high",
   "outputs": [
    {
     "data": {
      "text/plain": [
       "      difficulty14roc  mediantransactionvalue90trxUSD  price14trxUSD  \\\n",
       "0               1.202                          -0.072         -0.111   \n",
       "1               7.027                          -0.074         -0.102   \n",
       "2               6.566                          -0.075         -0.093   \n",
       "3               6.566                          -0.077         -0.082   \n",
       "4               6.566                          -0.079         -0.065   \n",
       "...               ...                             ...            ...   \n",
       "1092            3.270                          -0.100         -0.060   \n",
       "1093            3.270                          -0.100         -0.066   \n",
       "1094            3.270                          -0.099         -0.073   \n",
       "1095            3.270                          -0.099         -0.080   \n",
       "1096            3.270                          -0.099         -0.087   \n",
       "\n",
       "      price30trxUSD  price30varUSD  price3momUSD  price3trxUSD  price3varUSD  \\\n",
       "0            -0.314          28623      -231.566        -0.206      3878.000   \n",
       "1            -0.309          29355      -261.045        -0.495      4729.000   \n",
       "2            -0.303          29328       -42.402        -0.374      3051.000   \n",
       "3            -0.296          29574       152.469         0.025     11526.000   \n",
       "4            -0.289          30437       376.272         0.452     10731.000   \n",
       "...             ...            ...           ...           ...           ...   \n",
       "1092         -0.212          82135      -179.890        -0.138      8243.000   \n",
       "1093         -0.207          76543      -258.919        -0.242      8530.000   \n",
       "1094         -0.203          82274      -257.127        -0.291      1350.000   \n",
       "1095         -0.200          86919       -69.693        -0.257       287.999   \n",
       "1096         -0.196          91811       -32.908        -0.207        68.577   \n",
       "\n",
       "      sentinusdUSD  top100cap30mom  top100cap90mom  transactionvalueUSD  \\\n",
       "0       2022006877           0.107           0.632                12757   \n",
       "1       3495275949           0.117           0.609                16735   \n",
       "2       5664998633           0.083           0.624                23302   \n",
       "3       3470997480           0.081           0.631                16928   \n",
       "4       2540098659           0.106           0.638                14695   \n",
       "...            ...             ...             ...                  ...   \n",
       "1092    5572254030          -0.505          -1.073                53190   \n",
       "1093    6313826970          -0.507          -1.019                54195   \n",
       "1094    7554069544          -0.529          -1.002                50405   \n",
       "1095    4493923166          -0.480          -0.941                42790   \n",
       "1096    3568420249          -0.434          -0.937                49147   \n",
       "\n",
       "      volatility  priceUSD  \n",
       "0       0.016854      7238  \n",
       "1       0.017171      7127  \n",
       "2       0.017511      7250  \n",
       "3       0.017606      7390  \n",
       "4       0.017481      7503  \n",
       "...          ...       ...  \n",
       "1092    0.012603     16640  \n",
       "1093    0.011377     16591  \n",
       "1094    0.011221     16550  \n",
       "1095    0.011185     16570  \n",
       "1096    0.011296     16559  \n",
       "\n",
       "[1097 rows x 14 columns]"
      ],
      "text/html": [
       "<div>\n",
       "<style scoped>\n",
       "    .dataframe tbody tr th:only-of-type {\n",
       "        vertical-align: middle;\n",
       "    }\n",
       "\n",
       "    .dataframe tbody tr th {\n",
       "        vertical-align: top;\n",
       "    }\n",
       "\n",
       "    .dataframe thead th {\n",
       "        text-align: right;\n",
       "    }\n",
       "</style>\n",
       "<table border=\"1\" class=\"dataframe\">\n",
       "  <thead>\n",
       "    <tr style=\"text-align: right;\">\n",
       "      <th></th>\n",
       "      <th>difficulty14roc</th>\n",
       "      <th>mediantransactionvalue90trxUSD</th>\n",
       "      <th>price14trxUSD</th>\n",
       "      <th>price30trxUSD</th>\n",
       "      <th>price30varUSD</th>\n",
       "      <th>price3momUSD</th>\n",
       "      <th>price3trxUSD</th>\n",
       "      <th>price3varUSD</th>\n",
       "      <th>sentinusdUSD</th>\n",
       "      <th>top100cap30mom</th>\n",
       "      <th>top100cap90mom</th>\n",
       "      <th>transactionvalueUSD</th>\n",
       "      <th>volatility</th>\n",
       "      <th>priceUSD</th>\n",
       "    </tr>\n",
       "  </thead>\n",
       "  <tbody>\n",
       "    <tr>\n",
       "      <th>0</th>\n",
       "      <td>1.202</td>\n",
       "      <td>-0.072</td>\n",
       "      <td>-0.111</td>\n",
       "      <td>-0.314</td>\n",
       "      <td>28623</td>\n",
       "      <td>-231.566</td>\n",
       "      <td>-0.206</td>\n",
       "      <td>3878.000</td>\n",
       "      <td>2022006877</td>\n",
       "      <td>0.107</td>\n",
       "      <td>0.632</td>\n",
       "      <td>12757</td>\n",
       "      <td>0.016854</td>\n",
       "      <td>7238</td>\n",
       "    </tr>\n",
       "    <tr>\n",
       "      <th>1</th>\n",
       "      <td>7.027</td>\n",
       "      <td>-0.074</td>\n",
       "      <td>-0.102</td>\n",
       "      <td>-0.309</td>\n",
       "      <td>29355</td>\n",
       "      <td>-261.045</td>\n",
       "      <td>-0.495</td>\n",
       "      <td>4729.000</td>\n",
       "      <td>3495275949</td>\n",
       "      <td>0.117</td>\n",
       "      <td>0.609</td>\n",
       "      <td>16735</td>\n",
       "      <td>0.017171</td>\n",
       "      <td>7127</td>\n",
       "    </tr>\n",
       "    <tr>\n",
       "      <th>2</th>\n",
       "      <td>6.566</td>\n",
       "      <td>-0.075</td>\n",
       "      <td>-0.093</td>\n",
       "      <td>-0.303</td>\n",
       "      <td>29328</td>\n",
       "      <td>-42.402</td>\n",
       "      <td>-0.374</td>\n",
       "      <td>3051.000</td>\n",
       "      <td>5664998633</td>\n",
       "      <td>0.083</td>\n",
       "      <td>0.624</td>\n",
       "      <td>23302</td>\n",
       "      <td>0.017511</td>\n",
       "      <td>7250</td>\n",
       "    </tr>\n",
       "    <tr>\n",
       "      <th>3</th>\n",
       "      <td>6.566</td>\n",
       "      <td>-0.077</td>\n",
       "      <td>-0.082</td>\n",
       "      <td>-0.296</td>\n",
       "      <td>29574</td>\n",
       "      <td>152.469</td>\n",
       "      <td>0.025</td>\n",
       "      <td>11526.000</td>\n",
       "      <td>3470997480</td>\n",
       "      <td>0.081</td>\n",
       "      <td>0.631</td>\n",
       "      <td>16928</td>\n",
       "      <td>0.017606</td>\n",
       "      <td>7390</td>\n",
       "    </tr>\n",
       "    <tr>\n",
       "      <th>4</th>\n",
       "      <td>6.566</td>\n",
       "      <td>-0.079</td>\n",
       "      <td>-0.065</td>\n",
       "      <td>-0.289</td>\n",
       "      <td>30437</td>\n",
       "      <td>376.272</td>\n",
       "      <td>0.452</td>\n",
       "      <td>10731.000</td>\n",
       "      <td>2540098659</td>\n",
       "      <td>0.106</td>\n",
       "      <td>0.638</td>\n",
       "      <td>14695</td>\n",
       "      <td>0.017481</td>\n",
       "      <td>7503</td>\n",
       "    </tr>\n",
       "    <tr>\n",
       "      <th>...</th>\n",
       "      <td>...</td>\n",
       "      <td>...</td>\n",
       "      <td>...</td>\n",
       "      <td>...</td>\n",
       "      <td>...</td>\n",
       "      <td>...</td>\n",
       "      <td>...</td>\n",
       "      <td>...</td>\n",
       "      <td>...</td>\n",
       "      <td>...</td>\n",
       "      <td>...</td>\n",
       "      <td>...</td>\n",
       "      <td>...</td>\n",
       "      <td>...</td>\n",
       "    </tr>\n",
       "    <tr>\n",
       "      <th>1092</th>\n",
       "      <td>3.270</td>\n",
       "      <td>-0.100</td>\n",
       "      <td>-0.060</td>\n",
       "      <td>-0.212</td>\n",
       "      <td>82135</td>\n",
       "      <td>-179.890</td>\n",
       "      <td>-0.138</td>\n",
       "      <td>8243.000</td>\n",
       "      <td>5572254030</td>\n",
       "      <td>-0.505</td>\n",
       "      <td>-1.073</td>\n",
       "      <td>53190</td>\n",
       "      <td>0.012603</td>\n",
       "      <td>16640</td>\n",
       "    </tr>\n",
       "    <tr>\n",
       "      <th>1093</th>\n",
       "      <td>3.270</td>\n",
       "      <td>-0.100</td>\n",
       "      <td>-0.066</td>\n",
       "      <td>-0.207</td>\n",
       "      <td>76543</td>\n",
       "      <td>-258.919</td>\n",
       "      <td>-0.242</td>\n",
       "      <td>8530.000</td>\n",
       "      <td>6313826970</td>\n",
       "      <td>-0.507</td>\n",
       "      <td>-1.019</td>\n",
       "      <td>54195</td>\n",
       "      <td>0.011377</td>\n",
       "      <td>16591</td>\n",
       "    </tr>\n",
       "    <tr>\n",
       "      <th>1094</th>\n",
       "      <td>3.270</td>\n",
       "      <td>-0.099</td>\n",
       "      <td>-0.073</td>\n",
       "      <td>-0.203</td>\n",
       "      <td>82274</td>\n",
       "      <td>-257.127</td>\n",
       "      <td>-0.291</td>\n",
       "      <td>1350.000</td>\n",
       "      <td>7554069544</td>\n",
       "      <td>-0.529</td>\n",
       "      <td>-1.002</td>\n",
       "      <td>50405</td>\n",
       "      <td>0.011221</td>\n",
       "      <td>16550</td>\n",
       "    </tr>\n",
       "    <tr>\n",
       "      <th>1095</th>\n",
       "      <td>3.270</td>\n",
       "      <td>-0.099</td>\n",
       "      <td>-0.080</td>\n",
       "      <td>-0.200</td>\n",
       "      <td>86919</td>\n",
       "      <td>-69.693</td>\n",
       "      <td>-0.257</td>\n",
       "      <td>287.999</td>\n",
       "      <td>4493923166</td>\n",
       "      <td>-0.480</td>\n",
       "      <td>-0.941</td>\n",
       "      <td>42790</td>\n",
       "      <td>0.011185</td>\n",
       "      <td>16570</td>\n",
       "    </tr>\n",
       "    <tr>\n",
       "      <th>1096</th>\n",
       "      <td>3.270</td>\n",
       "      <td>-0.099</td>\n",
       "      <td>-0.087</td>\n",
       "      <td>-0.196</td>\n",
       "      <td>91811</td>\n",
       "      <td>-32.908</td>\n",
       "      <td>-0.207</td>\n",
       "      <td>68.577</td>\n",
       "      <td>3568420249</td>\n",
       "      <td>-0.434</td>\n",
       "      <td>-0.937</td>\n",
       "      <td>49147</td>\n",
       "      <td>0.011296</td>\n",
       "      <td>16559</td>\n",
       "    </tr>\n",
       "  </tbody>\n",
       "</table>\n",
       "<p>1097 rows × 14 columns</p>\n",
       "</div>"
      ]
     },
     "execution_count": 66,
     "metadata": {},
     "output_type": "execute_result"
    }
   ],
   "execution_count": 66
  },
  {
   "cell_type": "code",
   "metadata": {
    "ExecuteTime": {
     "end_time": "2024-04-25T16:00:08.246286Z",
     "start_time": "2024-04-25T16:00:08.238280Z"
    }
   },
   "source": [],
   "outputs": [],
   "execution_count": 66
  },
  {
   "cell_type": "code",
   "metadata": {
    "ExecuteTime": {
     "end_time": "2024-04-25T16:00:09.298535Z",
     "start_time": "2024-04-25T16:00:08.934615Z"
    }
   },
   "source": [
    "corr = X_high.corr()\n",
    "# Generate a mask for the upper triangle\n",
    "mask = np.triu(np.ones_like(corr, dtype=np.bool_))\n",
    "\n",
    "# Set up the matplotlib figure\n",
    "f, ax = plt.subplots(figsize=(15, 8))\n",
    "\n",
    "sns.heatmap(corr,mask=mask, cmap='coolwarm',annot=True, fmt='.2f')"
   ],
   "outputs": [
    {
     "data": {
      "text/plain": [
       "<Axes: >"
      ]
     },
     "execution_count": 67,
     "metadata": {},
     "output_type": "execute_result"
    },
    {
     "data": {
      "text/plain": [
       "<Figure size 1500x800 with 2 Axes>"
      ],
      "image/png": "[encoded data removed]"
     },
     "metadata": {},
     "output_type": "display_data"
    }
   ],
   "execution_count": 67
  },
  {
   "cell_type": "code",
   "metadata": {
    "ExecuteTime": {
     "end_time": "2024-04-25T16:00:22.279849Z",
     "start_time": "2024-04-25T16:00:22.266617Z"
    }
   },
   "source": "X_high=X_high[X_high['volatility']!=1]",
   "outputs": [],
   "execution_count": 69
  },
  {
   "metadata": {
    "ExecuteTime": {
     "end_time": "2024-04-25T16:00:22.942966Z",
     "start_time": "2024-04-25T16:00:22.933467Z"
    }
   },
   "cell_type": "code",
   "source": "X_high = X_high.astype(np.float32)",
   "outputs": [],
   "execution_count": 70
  },
  {
   "metadata": {
    "ExecuteTime": {
     "end_time": "2024-04-25T16:00:23.901276Z",
     "start_time": "2024-04-25T16:00:23.883097Z"
    }
   },
   "cell_type": "code",
   "source": "X_high",
   "outputs": [
    {
     "data": {
      "text/plain": [
       "      difficulty14roc  mediantransactionvalue90trxUSD  price14trxUSD  \\\n",
       "0               1.202                          -0.072         -0.111   \n",
       "1               7.027                          -0.074         -0.102   \n",
       "2               6.566                          -0.075         -0.093   \n",
       "3               6.566                          -0.077         -0.082   \n",
       "4               6.566                          -0.079         -0.065   \n",
       "...               ...                             ...            ...   \n",
       "1092            3.270                          -0.100         -0.060   \n",
       "1093            3.270                          -0.100         -0.066   \n",
       "1094            3.270                          -0.099         -0.073   \n",
       "1095            3.270                          -0.099         -0.080   \n",
       "1096            3.270                          -0.099         -0.087   \n",
       "\n",
       "      price30trxUSD  price30varUSD  price3momUSD  price3trxUSD  price3varUSD  \\\n",
       "0            -0.314        28623.0   -231.565994        -0.206   3878.000000   \n",
       "1            -0.309        29355.0   -261.045013        -0.495   4729.000000   \n",
       "2            -0.303        29328.0    -42.402000        -0.374   3051.000000   \n",
       "3            -0.296        29574.0    152.468994         0.025  11526.000000   \n",
       "4            -0.289        30437.0    376.272003         0.452  10731.000000   \n",
       "...             ...            ...           ...           ...           ...   \n",
       "1092         -0.212        82135.0   -179.889999        -0.138   8243.000000   \n",
       "1093         -0.207        76543.0   -258.919006        -0.242   8530.000000   \n",
       "1094         -0.203        82274.0   -257.127014        -0.291   1350.000000   \n",
       "1095         -0.200        86919.0    -69.693001        -0.257    287.998993   \n",
       "1096         -0.196        91811.0    -32.908001        -0.207     68.577003   \n",
       "\n",
       "      sentinusdUSD  top100cap30mom  top100cap90mom  transactionvalueUSD  \\\n",
       "0     2.022007e+09           0.107           0.632              12757.0   \n",
       "1     3.495276e+09           0.117           0.609              16735.0   \n",
       "2     5.664998e+09           0.083           0.624              23302.0   \n",
       "3     3.470998e+09           0.081           0.631              16928.0   \n",
       "4     2.540099e+09           0.106           0.638              14695.0   \n",
       "...            ...             ...             ...                  ...   \n",
       "1092  5.572254e+09          -0.505          -1.073              53190.0   \n",
       "1093  6.313827e+09          -0.507          -1.019              54195.0   \n",
       "1094  7.554070e+09          -0.529          -1.002              50405.0   \n",
       "1095  4.493923e+09          -0.480          -0.941              42790.0   \n",
       "1096  3.568420e+09          -0.434          -0.937              49147.0   \n",
       "\n",
       "      volatility  priceUSD  \n",
       "0       0.016854    7238.0  \n",
       "1       0.017171    7127.0  \n",
       "2       0.017511    7250.0  \n",
       "3       0.017606    7390.0  \n",
       "4       0.017481    7503.0  \n",
       "...          ...       ...  \n",
       "1092    0.012603   16640.0  \n",
       "1093    0.011377   16591.0  \n",
       "1094    0.011221   16550.0  \n",
       "1095    0.011185   16570.0  \n",
       "1096    0.011296   16559.0  \n",
       "\n",
       "[1097 rows x 14 columns]"
      ],
      "text/html": [
       "<div>\n",
       "<style scoped>\n",
       "    .dataframe tbody tr th:only-of-type {\n",
       "        vertical-align: middle;\n",
       "    }\n",
       "\n",
       "    .dataframe tbody tr th {\n",
       "        vertical-align: top;\n",
       "    }\n",
       "\n",
       "    .dataframe thead th {\n",
       "        text-align: right;\n",
       "    }\n",
       "</style>\n",
       "<table border=\"1\" class=\"dataframe\">\n",
       "  <thead>\n",
       "    <tr style=\"text-align: right;\">\n",
       "      <th></th>\n",
       "      <th>difficulty14roc</th>\n",
       "      <th>mediantransactionvalue90trxUSD</th>\n",
       "      <th>price14trxUSD</th>\n",
       "      <th>price30trxUSD</th>\n",
       "      <th>price30varUSD</th>\n",
       "      <th>price3momUSD</th>\n",
       "      <th>price3trxUSD</th>\n",
       "      <th>price3varUSD</th>\n",
       "      <th>sentinusdUSD</th>\n",
       "      <th>top100cap30mom</th>\n",
       "      <th>top100cap90mom</th>\n",
       "      <th>transactionvalueUSD</th>\n",
       "      <th>volatility</th>\n",
       "      <th>priceUSD</th>\n",
       "    </tr>\n",
       "  </thead>\n",
       "  <tbody>\n",
       "    <tr>\n",
       "      <th>0</th>\n",
       "      <td>1.202</td>\n",
       "      <td>-0.072</td>\n",
       "      <td>-0.111</td>\n",
       "      <td>-0.314</td>\n",
       "      <td>28623.0</td>\n",
       "      <td>-231.565994</td>\n",
       "      <td>-0.206</td>\n",
       "      <td>3878.000000</td>\n",
       "      <td>2.022007e+09</td>\n",
       "      <td>0.107</td>\n",
       "      <td>0.632</td>\n",
       "      <td>12757.0</td>\n",
       "      <td>0.016854</td>\n",
       "      <td>7238.0</td>\n",
       "    </tr>\n",
       "    <tr>\n",
       "      <th>1</th>\n",
       "      <td>7.027</td>\n",
       "      <td>-0.074</td>\n",
       "      <td>-0.102</td>\n",
       "      <td>-0.309</td>\n",
       "      <td>29355.0</td>\n",
       "      <td>-261.045013</td>\n",
       "      <td>-0.495</td>\n",
       "      <td>4729.000000</td>\n",
       "      <td>3.495276e+09</td>\n",
       "      <td>0.117</td>\n",
       "      <td>0.609</td>\n",
       "      <td>16735.0</td>\n",
       "      <td>0.017171</td>\n",
       "      <td>7127.0</td>\n",
       "    </tr>\n",
       "    <tr>\n",
       "      <th>2</th>\n",
       "      <td>6.566</td>\n",
       "      <td>-0.075</td>\n",
       "      <td>-0.093</td>\n",
       "      <td>-0.303</td>\n",
       "      <td>29328.0</td>\n",
       "      <td>-42.402000</td>\n",
       "      <td>-0.374</td>\n",
       "      <td>3051.000000</td>\n",
       "      <td>5.664998e+09</td>\n",
       "      <td>0.083</td>\n",
       "      <td>0.624</td>\n",
       "      <td>23302.0</td>\n",
       "      <td>0.017511</td>\n",
       "      <td>7250.0</td>\n",
       "    </tr>\n",
       "    <tr>\n",
       "      <th>3</th>\n",
       "      <td>6.566</td>\n",
       "      <td>-0.077</td>\n",
       "      <td>-0.082</td>\n",
       "      <td>-0.296</td>\n",
       "      <td>29574.0</td>\n",
       "      <td>152.468994</td>\n",
       "      <td>0.025</td>\n",
       "      <td>11526.000000</td>\n",
       "      <td>3.470998e+09</td>\n",
       "      <td>0.081</td>\n",
       "      <td>0.631</td>\n",
       "      <td>16928.0</td>\n",
       "      <td>0.017606</td>\n",
       "      <td>7390.0</td>\n",
       "    </tr>\n",
       "    <tr>\n",
       "      <th>4</th>\n",
       "      <td>6.566</td>\n",
       "      <td>-0.079</td>\n",
       "      <td>-0.065</td>\n",
       "      <td>-0.289</td>\n",
       "      <td>30437.0</td>\n",
       "      <td>376.272003</td>\n",
       "      <td>0.452</td>\n",
       "      <td>10731.000000</td>\n",
       "      <td>2.540099e+09</td>\n",
       "      <td>0.106</td>\n",
       "      <td>0.638</td>\n",
       "      <td>14695.0</td>\n",
       "      <td>0.017481</td>\n",
       "      <td>7503.0</td>\n",
       "    </tr>\n",
       "    <tr>\n",
       "      <th>...</th>\n",
       "      <td>...</td>\n",
       "      <td>...</td>\n",
       "      <td>...</td>\n",
       "      <td>...</td>\n",
       "      <td>...</td>\n",
       "      <td>...</td>\n",
       "      <td>...</td>\n",
       "      <td>...</td>\n",
       "      <td>...</td>\n",
       "      <td>...</td>\n",
       "      <td>...</td>\n",
       "      <td>...</td>\n",
       "      <td>...</td>\n",
       "      <td>...</td>\n",
       "    </tr>\n",
       "    <tr>\n",
       "      <th>1092</th>\n",
       "      <td>3.270</td>\n",
       "      <td>-0.100</td>\n",
       "      <td>-0.060</td>\n",
       "      <td>-0.212</td>\n",
       "      <td>82135.0</td>\n",
       "      <td>-179.889999</td>\n",
       "      <td>-0.138</td>\n",
       "      <td>8243.000000</td>\n",
       "      <td>5.572254e+09</td>\n",
       "      <td>-0.505</td>\n",
       "      <td>-1.073</td>\n",
       "      <td>53190.0</td>\n",
       "      <td>0.012603</td>\n",
       "      <td>16640.0</td>\n",
       "    </tr>\n",
       "    <tr>\n",
       "      <th>1093</th>\n",
       "      <td>3.270</td>\n",
       "      <td>-0.100</td>\n",
       "      <td>-0.066</td>\n",
       "      <td>-0.207</td>\n",
       "      <td>76543.0</td>\n",
       "      <td>-258.919006</td>\n",
       "      <td>-0.242</td>\n",
       "      <td>8530.000000</td>\n",
       "      <td>6.313827e+09</td>\n",
       "      <td>-0.507</td>\n",
       "      <td>-1.019</td>\n",
       "      <td>54195.0</td>\n",
       "      <td>0.011377</td>\n",
       "      <td>16591.0</td>\n",
       "    </tr>\n",
       "    <tr>\n",
       "      <th>1094</th>\n",
       "      <td>3.270</td>\n",
       "      <td>-0.099</td>\n",
       "      <td>-0.073</td>\n",
       "      <td>-0.203</td>\n",
       "      <td>82274.0</td>\n",
       "      <td>-257.127014</td>\n",
       "      <td>-0.291</td>\n",
       "      <td>1350.000000</td>\n",
       "      <td>7.554070e+09</td>\n",
       "      <td>-0.529</td>\n",
       "      <td>-1.002</td>\n",
       "      <td>50405.0</td>\n",
       "      <td>0.011221</td>\n",
       "      <td>16550.0</td>\n",
       "    </tr>\n",
       "    <tr>\n",
       "      <th>1095</th>\n",
       "      <td>3.270</td>\n",
       "      <td>-0.099</td>\n",
       "      <td>-0.080</td>\n",
       "      <td>-0.200</td>\n",
       "      <td>86919.0</td>\n",
       "      <td>-69.693001</td>\n",
       "      <td>-0.257</td>\n",
       "      <td>287.998993</td>\n",
       "      <td>4.493923e+09</td>\n",
       "      <td>-0.480</td>\n",
       "      <td>-0.941</td>\n",
       "      <td>42790.0</td>\n",
       "      <td>0.011185</td>\n",
       "      <td>16570.0</td>\n",
       "    </tr>\n",
       "    <tr>\n",
       "      <th>1096</th>\n",
       "      <td>3.270</td>\n",
       "      <td>-0.099</td>\n",
       "      <td>-0.087</td>\n",
       "      <td>-0.196</td>\n",
       "      <td>91811.0</td>\n",
       "      <td>-32.908001</td>\n",
       "      <td>-0.207</td>\n",
       "      <td>68.577003</td>\n",
       "      <td>3.568420e+09</td>\n",
       "      <td>-0.434</td>\n",
       "      <td>-0.937</td>\n",
       "      <td>49147.0</td>\n",
       "      <td>0.011296</td>\n",
       "      <td>16559.0</td>\n",
       "    </tr>\n",
       "  </tbody>\n",
       "</table>\n",
       "<p>1097 rows × 14 columns</p>\n",
       "</div>"
      ]
     },
     "execution_count": 71,
     "metadata": {},
     "output_type": "execute_result"
    }
   ],
   "execution_count": 71
  },
  {
   "metadata": {
    "ExecuteTime": {
     "end_time": "2024-04-25T16:00:59.792482Z",
     "start_time": "2024-04-25T16:00:59.778475Z"
    }
   },
   "cell_type": "code",
   "source": "X_high.to_csv('data/reg_interval20-23ndvola.csv',sep=',',index=False)",
   "outputs": [],
   "execution_count": 72
  },
  {
   "cell_type": "code",
   "metadata": {
    "ExecuteTime": {
     "end_time": "2024-04-25T16:01:00.271916Z",
     "start_time": "2024-04-25T16:01:00.182868Z"
    }
   },
   "source": [
    "from sklearn.ensemble import IsolationForest\n",
    "outlier=IsolationForest(contamination=0.9)\n",
    "price=X_high['priceUSD']\n",
    "price=price.values\n",
    "price=np.reshape(price,(-1,1))\n",
    "outlier = IsolationForest(contamination='auto')\n",
    "outlier.fit(price)\n",
    "outs=outlier.predict(price)\n",
    "X_high['outlier']=pd.DataFrame(zip(outs))\n",
    "X_high=X_high.query('outlier != -1')\n",
    "X_high.reset_index(drop=True,inplace=True)\n",
    "X_high.drop(columns=['outlier'],inplace=True)"
   ],
   "outputs": [
    {
     "name": "stderr",
     "output_type": "stream",
     "text": [
      "C:\\Users\\13275\\AppData\\Local\\Temp\\ipykernel_8532\\2175034391.py:12: SettingWithCopyWarning: \n",
      "A value is trying to be set on a copy of a slice from a DataFrame\n",
      "\n",
      "See the caveats in the documentation: https://pandas.pydata.org/pandas-docs/stable/user_guide/indexing.html#returning-a-view-versus-a-copy\n",
      "  X_high.drop(columns=['outlier'],inplace=True)\n"
     ]
    }
   ],
   "execution_count": 73
  },
  {
   "cell_type": "code",
   "metadata": {
    "ExecuteTime": {
     "end_time": "2024-04-25T16:01:00.749248Z",
     "start_time": "2024-04-25T16:01:00.728230Z"
    }
   },
   "source": "X_high.to_csv('data/reg_interval18-23volab1.csv',sep=',',index=False)",
   "outputs": [],
   "execution_count": 74
  },
  {
   "cell_type": "code",
   "metadata": {
    "ExecuteTime": {
     "end_time": "2024-04-25T02:55:03.130656Z",
     "start_time": "2024-04-25T02:55:03.116641Z"
    }
   },
   "source": [
    "X_high.columns"
   ],
   "outputs": [
    {
     "data": {
      "text/plain": [
       "Index(['difficulty3rsi', 'mining_profitability90trx', 'price14momUSD',\n",
       "       'price30varUSD', 'price3momUSD', 'price3varUSD', 'price7momUSD',\n",
       "       'price90momUSD', 'price90varUSD', 'sentinusdUSD', 'transactionvalueUSD',\n",
       "       'priceUSD'],\n",
       "      dtype='object')"
      ]
     },
     "execution_count": 183,
     "metadata": {},
     "output_type": "execute_result"
    }
   ],
   "execution_count": 183
  },
  {
   "metadata": {
    "ExecuteTime": {
     "end_time": "2024-04-25T02:55:03.145828Z",
     "start_time": "2024-04-25T02:55:03.131966Z"
    }
   },
   "cell_type": "code",
   "source": "X_high.shape",
   "outputs": [
    {
     "data": {
      "text/plain": [
       "(638, 12)"
      ]
     },
     "execution_count": 184,
     "metadata": {},
     "output_type": "execute_result"
    }
   ],
   "execution_count": 184
  },
  {
   "cell_type": "code",
   "metadata": {
    "ExecuteTime": {
     "end_time": "2024-04-25T02:55:03.161772Z",
     "start_time": "2024-04-25T02:55:03.147375Z"
    }
   },
   "source": [
    "'''df1=pd.read_csv('reg_interval1.csv',sep=',')\n",
    "date_range = pd.date_range(start='2018-01-01', end='2021-01-01', freq='D')\n",
    "'''\n"
   ],
   "outputs": [
    {
     "data": {
      "text/plain": [
       "\"df1=pd.read_csv('reg_interval1.csv',sep=',')\\ndate_range = pd.date_range(start='2018-01-01', end='2021-01-01', freq='D')\\n\""
      ]
     },
     "execution_count": 185,
     "metadata": {},
     "output_type": "execute_result"
    }
   ],
   "execution_count": 185
  },
  {
   "metadata": {
    "ExecuteTime": {
     "end_time": "2024-04-25T02:55:03.177291Z",
     "start_time": "2024-04-25T02:55:03.162275Z"
    }
   },
   "cell_type": "code",
   "source": [
    "'''# Check if the date range length matches the number of rows in the DataFrame\n",
    "if len(date_range) == len(df1):\n",
    "    df1['Date'] = date_range\n",
    "else:\n",
    "    print(\"The date range does not match the number of rows in the DataFrame.\")\n",
    "df1.to_csv('reg_interval2.csv',sep=',',index=False)\n",
    "# Show the updated DataFrame\n",
    "print(df1.head())'''"
   ],
   "outputs": [
    {
     "data": {
      "text/plain": [
       "'# Check if the date range length matches the number of rows in the DataFrame\\nif len(date_range) == len(df1):\\n    df1[\\'Date\\'] = date_range\\nelse:\\n    print(\"The date range does not match the number of rows in the DataFrame.\")\\ndf1.to_csv(\\'reg_interval2.csv\\',sep=\\',\\',index=False)\\n# Show the updated DataFrame\\nprint(df1.head())'"
      ]
     },
     "execution_count": 186,
     "metadata": {},
     "output_type": "execute_result"
    }
   ],
   "execution_count": 186
  },
  {
   "metadata": {
    "ExecuteTime": {
     "end_time": "2024-04-25T02:55:03.193244Z",
     "start_time": "2024-04-25T02:55:03.178563Z"
    }
   },
   "cell_type": "code",
   "source": "",
   "outputs": [],
   "execution_count": 186
  },
  {
   "metadata": {
    "ExecuteTime": {
     "end_time": "2024-04-25T02:55:03.208353Z",
     "start_time": "2024-04-25T02:55:03.194248Z"
    }
   },
   "cell_type": "code",
   "source": "",
   "outputs": [],
   "execution_count": 186
  }
 ],
 "metadata": {
  "kernelspec": {
   "display_name": "Python 3",
   "language": "python",
   "name": "python3"
  },
  "language_info": {
   "codemirror_mode": {
    "name": "ipython",
    "version": 3
   },
   "file_extension": ".py",
   "mimetype": "text/x-python",
   "name": "python",
   "nbconvert_exporter": "python",
   "pygments_lexer": "ipython3",
   "version": "3.6.9"
  }
 },
 "nbformat": 4,
 "nbformat_minor": 2
}
