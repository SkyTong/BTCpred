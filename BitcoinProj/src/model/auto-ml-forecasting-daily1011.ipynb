{
  "cells": [
    {
      "cell_type": "markdown",
      "source": [
        "Copyright (c) Microsoft Corporation. All rights reserved.\n",
        "\n",
        "Licensed under the MIT License."
      ],
      "metadata": {}
    },
    {
      "cell_type": "markdown",
      "source": [
        "![Impressions](https://PixelServer20190423114238.azurewebsites.net/api/impressions/NotebookVM/how-to-use-azureml/automated-machine-learning/forecasting-energy-demand/auto-ml-forecasting-energy-demand.png)"
      ],
      "metadata": {}
    },
    {
      "cell_type": "markdown",
      "source": [
        "# Automated Machine Learning\n",
        "_**Forecasting using the Energy Demand Dataset**_\n",
        "\n",
        "## Contents\n",
        "1. [Introduction](#introduction)\n",
        "1. [Setup](#setup)\n",
        "1. [Data and Forecasting Configurations](#data)\n",
        "1. [Train](#train)\n",
        "1. [Generate and Evaluate the Forecast](#forecast)\n",
        "\n",
        "Advanced Forecasting\n",
        "1. [Advanced Training](#advanced_training)\n",
        "1. [Advanced Results](#advanced_results)"
      ],
      "metadata": {}
    },
    {
      "cell_type": "markdown",
      "source": [
        "# Setup<a id=\"setup\"></a>"
      ],
      "metadata": {}
    },
    {
      "cell_type": "code",
      "source": [
        "import json\n",
        "import logging\n",
        "\n",
        "from sklearn.metrics import mean_absolute_error, mean_squared_error, r2_score\n",
        "from matplotlib import pyplot as plt\n",
        "import pandas as pd\n",
        "import numpy as np\n",
        "import warnings\n",
        "import os\n",
        "\n",
        "# Squash warning messages for cleaner output in the notebook\n",
        "warnings.showwarning = lambda *args, **kwargs: None\n",
        "\n",
        "import azureml.core\n",
        "from azureml.core import Experiment, Workspace, Dataset\n",
        "from azureml.train.automl import AutoMLConfig\n",
        "from datetime import datetime"
      ],
      "outputs": [],
      "execution_count": 1,
      "metadata": {
        "gather": {
          "logged": 1714020641195
        }
      }
    },
    {
      "cell_type": "markdown",
      "source": [
        "This notebook is compatible with Azure ML SDK version 1.35.0 or later."
      ],
      "metadata": {}
    },
    {
      "cell_type": "code",
      "source": [
        "print(\"You are currently using version\", azureml.core.VERSION, \"of the Azure ML SDK\")"
      ],
      "outputs": [
        {
          "output_type": "stream",
          "name": "stdout",
          "text": "You are currently using version 1.51.0 of the Azure ML SDK\n"
        }
      ],
      "execution_count": 2,
      "metadata": {
        "gather": {
          "logged": 1714020641302
        }
      }
    },
    {
      "cell_type": "code",
      "source": [
        "ws = Workspace.from_config()\n",
        "\n",
        "# choose a name for the run history container in the workspace\n",
        "experiment_name = \"automl-forecasting-energydemand\"\n",
        "\n",
        "# # project folder\n",
        "# project_folder = './sample_projects/automl-forecasting-energy-demand'\n",
        "\n",
        "experiment = Experiment(ws, experiment_name)\n",
        "\n",
        "output = {}\n",
        "output[\"Subscription ID\"] = ws.subscription_id\n",
        "output[\"Workspace\"] = ws.name\n",
        "output[\"Resource Group\"] = ws.resource_group\n",
        "output[\"Location\"] = ws.location\n",
        "output[\"Run History Name\"] = experiment_name\n",
        "output[\"SDK Version\"] = azureml.core.VERSION\n",
        "pd.set_option(\"display.max_colwidth\", None)\n",
        "outputDf = pd.DataFrame(data=output, index=[\"\"])\n",
        "outputDf.T"
      ],
      "outputs": [
        {
          "output_type": "execute_result",
          "execution_count": 3,
          "data": {
            "text/plain": "                                                      \nSubscription ID   ffc51280-6a38-41ea-8f5a-872347615ba2\nWorkspace                                      440proj\nResource Group                              gpt5091-rg\nLocation                                       eastus2\nRun History Name       automl-forecasting-energydemand\nSDK Version                                     1.51.0",
            "text/html": "<div>\n<style scoped>\n    .dataframe tbody tr th:only-of-type {\n        vertical-align: middle;\n    }\n\n    .dataframe tbody tr th {\n        vertical-align: top;\n    }\n\n    .dataframe thead th {\n        text-align: right;\n    }\n</style>\n<table border=\"1\" class=\"dataframe\">\n  <thead>\n    <tr style=\"text-align: right;\">\n      <th></th>\n      <th></th>\n    </tr>\n  </thead>\n  <tbody>\n    <tr>\n      <th>Subscription ID</th>\n      <td>ffc51280-6a38-41ea-8f5a-872347615ba2</td>\n    </tr>\n    <tr>\n      <th>Workspace</th>\n      <td>440proj</td>\n    </tr>\n    <tr>\n      <th>Resource Group</th>\n      <td>gpt5091-rg</td>\n    </tr>\n    <tr>\n      <th>Location</th>\n      <td>eastus2</td>\n    </tr>\n    <tr>\n      <th>Run History Name</th>\n      <td>automl-forecasting-energydemand</td>\n    </tr>\n    <tr>\n      <th>SDK Version</th>\n      <td>1.51.0</td>\n    </tr>\n  </tbody>\n</table>\n</div>"
          },
          "metadata": {}
        }
      ],
      "execution_count": 3,
      "metadata": {
        "gather": {
          "logged": 1714020642450
        }
      }
    },
    {
      "cell_type": "markdown",
      "source": [
        "## Create or Attach existing AmlCompute\n"
      ],
      "metadata": {}
    },
    {
      "cell_type": "code",
      "source": [
        "from azureml.core.compute import ComputeTarget, AmlCompute\n",
        "from azureml.core.compute_target import ComputeTargetException\n",
        "\n",
        "# Choose a name for your cluster.\n",
        "amlcompute_cluster_name = \"energy-cluster\"\n",
        "\n",
        "# Verify that cluster does not exist already\n",
        "try:\n",
        "    compute_target = ComputeTarget(workspace=ws, name=amlcompute_cluster_name)\n",
        "    print(\"Found existing cluster, use it.\")\n",
        "except ComputeTargetException:\n",
        "    compute_config = AmlCompute.provisioning_configuration(\n",
        "        vm_size=\"STANDARD_DS12_V2\", max_nodes=6\n",
        "    )\n",
        "    compute_target = ComputeTarget.create(ws, amlcompute_cluster_name, compute_config)\n",
        "\n",
        "compute_target.wait_for_completion(show_output=True)"
      ],
      "outputs": [
        {
          "output_type": "stream",
          "name": "stdout",
          "text": "Found existing cluster, use it.\nSucceeded\nAmlCompute wait for completion finished\n\nMinimum number of nodes requested have been provisioned\n"
        }
      ],
      "execution_count": 4,
      "metadata": {
        "gather": {
          "logged": 1714020642879
        }
      }
    },
    {
      "cell_type": "markdown",
      "source": [
        "# Data<a id=\"data\"></a>\n",
        "\n"
      ],
      "metadata": {}
    },
    {
      "cell_type": "code",
      "source": [
        "target_column_name = \"Target\"\n",
        "time_column_name = \"Date\""
      ],
      "outputs": [],
      "execution_count": 5,
      "metadata": {
        "gather": {
          "logged": 1714020643082
        }
      }
    },
    {
      "cell_type": "markdown",
      "source": [
        "The NYC Energy dataset is missing energy demand values for all datetimes later than August 10th, 2017 5AM. Below, we trim the rows containing these missing values from the end of the dataset."
      ],
      "metadata": {}
    },
    {
      "cell_type": "code",
      "source": [
        "\n",
        "file_path = os.path.join(os.getcwd(), 'BTC-USD_data.csv')\n",
        "datastore = ws.get_default_datastore()\n",
        "datastore.upload_files(files=[file_path], target_path='dataset/', overwrite=True)\n",
        "dataset = Dataset.Tabular.from_delimited_files(path=(datastore, 'dataset/BTC-USD_data.csv'))\n",
        "dataset = dataset.with_timestamp_columns(fine_grain_timestamp=time_column_name)\n",
        "\n",
        "# Convert to pandas DataFrame for manipulation\n",
        "df = dataset.to_pandas_dataframe()\n",
        "df['Target'] = df['Close'].shift(-1)\n",
        "# Remove duplicates based on the timestamp column\n",
        "df.drop_duplicates(subset=[time_column_name], keep='first', inplace=True)\n",
        "\n",
        "# Option 1: Save the modified DataFrame to a CSV file, then upload and create a new dataset\n",
        "modified_file_path = 'modified_processed_data.csv'\n",
        "df.to_csv(modified_file_path, index=False)\n",
        "datastore.upload_files(files=[modified_file_path], target_path='dataset/', overwrite=True)\n",
        "dataset = Dataset.Tabular.from_delimited_files(path=(datastore, 'dataset/modified_processed_data.csv'))\n",
        "# Specify the timestamp column\n",
        "dataset = dataset.with_timestamp_columns(fine_grain_timestamp=time_column_name)"
      ],
      "outputs": [
        {
          "output_type": "stream",
          "name": "stderr",
          "text": "\"datastore.upload_files\" is deprecated after version 1.0.69. Please use \"FileDatasetFactory.upload_directory\" instead. See Dataset API change notice at https://aka.ms/dataset-deprecation.\n"
        },
        {
          "output_type": "stream",
          "name": "stdout",
          "text": "Uploading an estimated of 1 files\nUploading /mnt/batch/tasks/shared/LS_root/mounts/clusters/gpt50911/code/Users/gpt5091/BTCpred/src/model/forecasting-energy-demand/BTC-USD_data.csv\nUploaded /mnt/batch/tasks/shared/LS_root/mounts/clusters/gpt50911/code/Users/gpt5091/BTCpred/src/model/forecasting-energy-demand/BTC-USD_data.csv, 1 files out of an estimated total of 1\nUploaded 1 files\nUploading an estimated of 1 files\nUploading modified_processed_data.csv\nUploaded modified_processed_data.csv, 1 files out of an estimated total of 1\nUploaded 1 files\n"
        }
      ],
      "execution_count": 6,
      "metadata": {
        "gather": {
          "logged": 1714020649735
        }
      }
    },
    {
      "cell_type": "markdown",
      "source": [
        "## Split the data into train and test sets"
      ],
      "metadata": {}
    },
    {
      "cell_type": "markdown",
      "source": [
        "The first split we make is into train and test sets. Note that we are splitting on time. Data before and including August 8th, 2017 5AM will be used for training, and data after will be used for testing."
      ],
      "metadata": {}
    },
    {
      "cell_type": "code",
      "source": [
        "# split into train based on time\n",
        "train = (\n",
        "    dataset.time_before(datetime(2022, 5, 16), include_boundary=True)\n",
        "    .to_pandas_dataframe()\n",
        "    .reset_index(drop=True)\n",
        ")\n",
        "train.sort_values(time_column_name).tail(5)"
      ],
      "outputs": [
        {
          "output_type": "execute_result",
          "execution_count": 7,
          "data": {
            "text/plain": "           Date          Open          High           Low         Close  \\\n1592 2022-05-12  28936.734375  30032.439453  26350.490234  29047.751953   \n1593 2022-05-13  29030.910156  30924.802734  28782.330078  29283.103516   \n1594 2022-05-14  29285.642578  30192.802734  28702.910156  30101.265625   \n1595 2022-05-15  30098.585938  31308.191406  29527.740234  31305.113281   \n1596 2022-05-16  31304.375000  31305.341797  29251.884766  29862.917969   \n\n         Adj Close       Volume        Target  \n1592  29047.751953  66989173272  29283.103516  \n1593  29283.103516  42841124537  30101.265625  \n1594  30101.265625  28579868620  31305.113281  \n1595  31305.113281  25835372065  29862.917969  \n1596  29862.917969  32613897286  30425.857422  ",
            "text/html": "<div>\n<style scoped>\n    .dataframe tbody tr th:only-of-type {\n        vertical-align: middle;\n    }\n\n    .dataframe tbody tr th {\n        vertical-align: top;\n    }\n\n    .dataframe thead th {\n        text-align: right;\n    }\n</style>\n<table border=\"1\" class=\"dataframe\">\n  <thead>\n    <tr style=\"text-align: right;\">\n      <th></th>\n      <th>Date</th>\n      <th>Open</th>\n      <th>High</th>\n      <th>Low</th>\n      <th>Close</th>\n      <th>Adj Close</th>\n      <th>Volume</th>\n      <th>Target</th>\n    </tr>\n  </thead>\n  <tbody>\n    <tr>\n      <th>1592</th>\n      <td>2022-05-12</td>\n      <td>28936.734375</td>\n      <td>30032.439453</td>\n      <td>26350.490234</td>\n      <td>29047.751953</td>\n      <td>29047.751953</td>\n      <td>66989173272</td>\n      <td>29283.103516</td>\n    </tr>\n    <tr>\n      <th>1593</th>\n      <td>2022-05-13</td>\n      <td>29030.910156</td>\n      <td>30924.802734</td>\n      <td>28782.330078</td>\n      <td>29283.103516</td>\n      <td>29283.103516</td>\n      <td>42841124537</td>\n      <td>30101.265625</td>\n    </tr>\n    <tr>\n      <th>1594</th>\n      <td>2022-05-14</td>\n      <td>29285.642578</td>\n      <td>30192.802734</td>\n      <td>28702.910156</td>\n      <td>30101.265625</td>\n      <td>30101.265625</td>\n      <td>28579868620</td>\n      <td>31305.113281</td>\n    </tr>\n    <tr>\n      <th>1595</th>\n      <td>2022-05-15</td>\n      <td>30098.585938</td>\n      <td>31308.191406</td>\n      <td>29527.740234</td>\n      <td>31305.113281</td>\n      <td>31305.113281</td>\n      <td>25835372065</td>\n      <td>29862.917969</td>\n    </tr>\n    <tr>\n      <th>1596</th>\n      <td>2022-05-16</td>\n      <td>31304.375000</td>\n      <td>31305.341797</td>\n      <td>29251.884766</td>\n      <td>29862.917969</td>\n      <td>29862.917969</td>\n      <td>32613897286</td>\n      <td>30425.857422</td>\n    </tr>\n  </tbody>\n</table>\n</div>"
          },
          "metadata": {}
        }
      ],
      "execution_count": 7,
      "metadata": {
        "gather": {
          "logged": 1714020650267
        }
      }
    },
    {
      "cell_type": "code",
      "source": [
        "# split into test based on time\n",
        "test = (\n",
        "    dataset.time_between(datetime(2022, 5, 27), datetime(2023, 1, 1))\n",
        "    .to_pandas_dataframe()\n",
        "    .reset_index(drop=True)\n",
        ")\n",
        "test.head(5)"
      ],
      "outputs": [
        {
          "output_type": "execute_result",
          "execution_count": 8,
          "data": {
            "text/plain": "        Date          Open          High           Low         Close  \\\n0 2022-05-27  29251.140625  29346.943359  28326.613281  28627.574219   \n1 2022-05-28  28622.625000  28814.900391  28554.566406  28814.900391   \n2 2022-05-29  29019.867188  29498.009766  28841.107422  29445.957031   \n3 2022-05-30  29443.365234  31949.630859  29303.572266  31726.390625   \n4 2022-05-31  31723.865234  32249.863281  31286.154297  31792.310547   \n\n      Adj Close       Volume        Target  \n0  28627.574219  36582005748  28814.900391  \n1  28814.900391  35519577634  29445.957031  \n2  29445.957031  18093886409  31726.390625  \n3  31726.390625  39277993274  31792.310547  \n4  31792.310547  33538210634  29799.080078  ",
            "text/html": "<div>\n<style scoped>\n    .dataframe tbody tr th:only-of-type {\n        vertical-align: middle;\n    }\n\n    .dataframe tbody tr th {\n        vertical-align: top;\n    }\n\n    .dataframe thead th {\n        text-align: right;\n    }\n</style>\n<table border=\"1\" class=\"dataframe\">\n  <thead>\n    <tr style=\"text-align: right;\">\n      <th></th>\n      <th>Date</th>\n      <th>Open</th>\n      <th>High</th>\n      <th>Low</th>\n      <th>Close</th>\n      <th>Adj Close</th>\n      <th>Volume</th>\n      <th>Target</th>\n    </tr>\n  </thead>\n  <tbody>\n    <tr>\n      <th>0</th>\n      <td>2022-05-27</td>\n      <td>29251.140625</td>\n      <td>29346.943359</td>\n      <td>28326.613281</td>\n      <td>28627.574219</td>\n      <td>28627.574219</td>\n      <td>36582005748</td>\n      <td>28814.900391</td>\n    </tr>\n    <tr>\n      <th>1</th>\n      <td>2022-05-28</td>\n      <td>28622.625000</td>\n      <td>28814.900391</td>\n      <td>28554.566406</td>\n      <td>28814.900391</td>\n      <td>28814.900391</td>\n      <td>35519577634</td>\n      <td>29445.957031</td>\n    </tr>\n    <tr>\n      <th>2</th>\n      <td>2022-05-29</td>\n      <td>29019.867188</td>\n      <td>29498.009766</td>\n      <td>28841.107422</td>\n      <td>29445.957031</td>\n      <td>29445.957031</td>\n      <td>18093886409</td>\n      <td>31726.390625</td>\n    </tr>\n    <tr>\n      <th>3</th>\n      <td>2022-05-30</td>\n      <td>29443.365234</td>\n      <td>31949.630859</td>\n      <td>29303.572266</td>\n      <td>31726.390625</td>\n      <td>31726.390625</td>\n      <td>39277993274</td>\n      <td>31792.310547</td>\n    </tr>\n    <tr>\n      <th>4</th>\n      <td>2022-05-31</td>\n      <td>31723.865234</td>\n      <td>32249.863281</td>\n      <td>31286.154297</td>\n      <td>31792.310547</td>\n      <td>31792.310547</td>\n      <td>33538210634</td>\n      <td>29799.080078</td>\n    </tr>\n  </tbody>\n</table>\n</div>"
          },
          "metadata": {}
        }
      ],
      "execution_count": 8,
      "metadata": {
        "gather": {
          "logged": 1714020650493
        }
      }
    },
    {
      "cell_type": "code",
      "source": [
        "# register the splitted train and test data in workspace storage\n",
        "from azureml.data.dataset_factory import TabularDatasetFactory\n",
        "\n",
        "datastore = ws.get_default_datastore()\n",
        "train_dataset = TabularDatasetFactory.register_pandas_dataframe(\n",
        "    train, target=(datastore, \"dataset/\"), name=\"BTC_train\"\n",
        ")\n",
        "test_dataset = TabularDatasetFactory.register_pandas_dataframe(\n",
        "    test, target=(datastore, \"dataset/\"), name=\"BTC_test\"\n",
        ")"
      ],
      "outputs": [
        {
          "output_type": "stream",
          "name": "stdout",
          "text": "Validating arguments.\nArguments validated.\nSuccessfully obtained datastore reference and path.\nUploading file to dataset//c1f554e1-e96e-4a09-a4a9-c0ac87f19f81/\nSuccessfully uploaded file to datastore.\nCreating and registering a new dataset.\nSuccessfully created and registered a new dataset.\nValidating arguments.\nArguments validated.\nSuccessfully obtained datastore reference and path.\nUploading file to dataset//2c56bc49-11e9-4887-9621-b3d544d2b8e7/\nSuccessfully uploaded file to datastore.\nCreating and registering a new dataset.\nSuccessfully created and registered a new dataset.\n"
        }
      ],
      "execution_count": 9,
      "metadata": {
        "jupyter": {
          "source_hidden": false,
          "outputs_hidden": false
        },
        "nteract": {
          "transient": {
            "deleting": false
          }
        },
        "gather": {
          "logged": 1714020652509
        }
      }
    },
    {
      "cell_type": "code",
      "source": [
        "forecast_horizon = 48"
      ],
      "outputs": [],
      "execution_count": 10,
      "metadata": {
        "gather": {
          "logged": 1714020652627
        }
      }
    },
    {
      "cell_type": "markdown",
      "source": [
        "This notebook uses the blocked_models parameter to exclude some models that take a longer time to train on this dataset. You can choose to remove models from the blocked_models list but you may need to increase the experiment_timeout_hours parameter value to get results."
      ],
      "metadata": {}
    },
    {
      "cell_type": "code",
      "source": [
        "from azureml.automl.core.forecasting_parameters import ForecastingParameters\n",
        "\n",
        "forecasting_parameters = ForecastingParameters(\n",
        "    time_column_name=time_column_name,\n",
        "    forecast_horizon=forecast_horizon,\n",
        "    freq=\"D\",  # Set the forecast frequency to be hourly\n",
        "    cv_step_size=\"auto\",\n",
        ")\n",
        "\n",
        "automl_config = AutoMLConfig(\n",
        "    task=\"forecasting\",\n",
        "    primary_metric=\"normalized_root_mean_squared_error\",\n",
        "    blocked_models=[\"ExtremeRandomTrees\", \"AutoArima\", \"Prophet\"],\n",
        "    experiment_timeout_hours=0.3,\n",
        "    training_data=train_dataset,\n",
        "    label_column_name=target_column_name,\n",
        "    compute_target=compute_target,\n",
        "    enable_early_stopping=True,\n",
        "    n_cross_validations=\"auto\",  # Feel free to set to a small integer (>=2) if runtime is an issue.\n",
        "    verbosity=logging.INFO,\n",
        "    forecasting_parameters=forecasting_parameters,\n",
        ")"
      ],
      "outputs": [],
      "execution_count": 11,
      "metadata": {
        "gather": {
          "logged": 1714020652738
        }
      }
    },
    {
      "cell_type": "markdown",
      "source": [
        "Call the `submit` method on the experiment object and pass the run configuration. Depending on the data and the number of iterations this can run for a while.\n",
        "One may specify `show_output = True` to print currently running iterations to the console."
      ],
      "metadata": {}
    },
    {
      "cell_type": "code",
      "source": [
        "remote_run = experiment.submit(automl_config, show_output=False)"
      ],
      "outputs": [
        {
          "output_type": "stream",
          "name": "stdout",
          "text": "Submitting remote run.\n"
        },
        {
          "output_type": "display_data",
          "data": {
            "text/html": "<table style=\"width:100%\"><tr><th>Experiment</th><th>Id</th><th>Type</th><th>Status</th><th>Details Page</th><th>Docs Page</th></tr><tr><td>automl-forecasting-energydemand</td><td>AutoML_0eac0516-ca47-4af3-963d-bb649f060906</td><td>automl</td><td>NotStarted</td><td><a href=\"https://ml.azure.com/runs/AutoML_0eac0516-ca47-4af3-963d-bb649f060906?wsid=/subscriptions/ffc51280-6a38-41ea-8f5a-872347615ba2/resourcegroups/gpt5091-rg/workspaces/440proj&amp;tid=7cf48d45-3ddb-4389-a9c1-c115526eb52e\" target=\"_blank\" rel=\"noopener\">Link to Azure Machine Learning studio</a></td><td><a href=\"https://docs.microsoft.com/en-us/python/api/overview/azure/ml/intro?view=azure-ml-py\" target=\"_blank\" rel=\"noopener\">Link to Documentation</a></td></tr></table>"
          },
          "metadata": {}
        }
      ],
      "execution_count": 12,
      "metadata": {
        "gather": {
          "logged": 1714020656604
        }
      }
    },
    {
      "cell_type": "code",
      "source": [
        "remote_run.wait_for_completion()"
      ],
      "outputs": [
        {
          "output_type": "execute_result",
          "execution_count": 13,
          "data": {
            "text/plain": "{'runId': 'AutoML_0eac0516-ca47-4af3-963d-bb649f060906',\n 'target': 'energy-cluster',\n 'status': 'Completed',\n 'startTimeUtc': '2024-04-25T04:51:07.705912Z',\n 'endTimeUtc': '2024-04-25T05:15:54.108914Z',\n 'services': {},\n 'warnings': [{'source': 'JasmineService',\n   'message': 'Experiment timeout reached, hence experiment stopped. Current experiment timeout: 0 hour(s) 18 minute(s)'}],\n 'properties': {'num_iterations': '1000',\n  'training_type': 'TrainFull',\n  'acquisition_function': 'EI',\n  'primary_metric': 'normalized_root_mean_squared_error',\n  'train_split': '0',\n  'acquisition_parameter': '0',\n  'num_cross_validation': 'auto',\n  'target': 'energy-cluster',\n  'AMLSettingsJsonString': '{\"path\":null,\"name\":\"automl-forecasting-energydemand\",\"subscription_id\":\"ffc51280-6a38-41ea-8f5a-872347615ba2\",\"resource_group\":\"gpt5091-rg\",\"workspace_name\":\"440proj\",\"region\":\"eastus2\",\"compute_target\":\"energy-cluster\",\"spark_service\":null,\"azure_service\":\"remote\",\"many_models\":false,\"pipeline_fetch_max_batch_size\":1,\"enable_batch_run\":true,\"enable_parallel_run\":false,\"num_procs\":null,\"enable_run_restructure\":false,\"start_auxiliary_runs_before_parent_complete\":false,\"enable_code_generation\":true,\"iterations\":1000,\"primary_metric\":\"normalized_root_mean_squared_error\",\"task_type\":\"regression\",\"positive_label\":null,\"data_script\":null,\"test_size\":0.0,\"test_include_predictions_only\":false,\"validation_size\":0.0,\"n_cross_validations\":\"auto\",\"y_min\":null,\"y_max\":null,\"num_classes\":null,\"featurization\":\"auto\",\"_ignore_package_version_incompatibilities\":false,\"is_timeseries\":true,\"max_cores_per_iteration\":1,\"max_concurrent_iterations\":1,\"iteration_timeout_minutes\":null,\"mem_in_mb\":null,\"enforce_time_on_windows\":false,\"experiment_timeout_minutes\":18,\"experiment_exit_score\":null,\"partition_column_names\":null,\"whitelist_models\":null,\"blacklist_algos\":[\"ExtremeRandomTrees\",\"AutoArima\",\"Prophet\",\"TensorFlowDNN\",\"TensorFlowLinearRegressor\"],\"supported_models\":[\"AutoArima\",\"SGD\",\"RandomForest\",\"Prophet\",\"TensorFlowDNN\",\"LassoLars\",\"XGBoostRegressor\",\"SeasonalAverage\",\"TensorFlowLinearRegressor\",\"ElasticNet\",\"Average\",\"ExponentialSmoothing\",\"DecisionTree\",\"TabnetRegressor\",\"LightGBM\",\"ExtremeRandomTrees\",\"TCNForecaster\",\"Naive\",\"GradientBoosting\",\"SeasonalNaive\",\"Arimax\",\"KNN\"],\"private_models\":[],\"auto_blacklist\":true,\"blacklist_samples_reached\":false,\"exclude_nan_labels\":true,\"verbosity\":20,\"_debug_log\":\"azureml_automl.log\",\"show_warnings\":false,\"model_explainability\":true,\"service_url\":null,\"sdk_url\":null,\"sdk_packages\":null,\"enable_onnx_compatible_models\":false,\"enable_split_onnx_featurizer_estimator_models\":false,\"vm_type\":\"STANDARD_DS12_V2\",\"telemetry_verbosity\":20,\"send_telemetry\":true,\"enable_dnn\":false,\"scenario\":\"AutoML\",\"environment_label\":null,\"save_mlflow\":false,\"enable_categorical_indicators\":false,\"force_text_dnn\":false,\"enable_feature_sweeping\":false,\"time_column_name\":\"Date\",\"grain_column_names\":null,\"drop_column_names\":[],\"max_horizon\":48,\"dropna\":false,\"overwrite_columns\":true,\"transform_dictionary\":{\"min\":\"_automl_target_col\",\"max\":\"_automl_target_col\",\"mean\":\"_automl_target_col\"},\"window_size\":null,\"country_or_region\":null,\"lags\":null,\"feature_lags\":null,\"seasonality\":\"auto\",\"use_stl\":null,\"short_series_handling\":true,\"freq\":\"D\",\"short_series_handling_configuration\":\"auto\",\"target_aggregation_function\":null,\"cv_step_size\":\"auto\",\"has_multiple_series\":true,\"enable_early_stopping\":true,\"early_stopping_n_iters\":10,\"arguments\":null,\"dataset_id\":\"bba95e87-2a6e-432c-8265-67ecad9a1a7f\",\"hyperdrive_config\":null,\"validation_dataset_id\":null,\"run_source\":null,\"metrics\":null,\"enable_metric_confidence\":false,\"enable_ensembling\":true,\"enable_stack_ensembling\":false,\"ensemble_iterations\":15,\"enable_tf\":false,\"enable_subsampling\":false,\"subsample_seed\":null,\"enable_nimbusml\":false,\"enable_streaming\":false,\"force_streaming\":false,\"track_child_runs\":true,\"n_best_runs\":1,\"allowed_private_models\":[],\"label_column_name\":\"Target\",\"weight_column_name\":null,\"cv_split_column_names\":null,\"enable_local_managed\":false,\"_local_managed_run_id\":null,\"cost_mode\":1,\"lag_length\":0,\"metric_operation\":\"minimize\",\"preprocess\":true}',\n  'DataPrepJsonString': '{\\\\\"training_data\\\\\": {\\\\\"datasetId\\\\\": \\\\\"bba95e87-2a6e-432c-8265-67ecad9a1a7f\\\\\"}, \\\\\"datasets\\\\\": 0}',\n  'EnableSubsampling': 'False',\n  'runTemplate': 'AutoML',\n  'azureml.runsource': 'automl',\n  'display_task_type': 'forecasting',\n  'dependencies_versions': '{\"azureml-dataprep-native\": \"38.0.0\", \"azureml-dataprep\": \"4.10.8\", \"azureml-dataprep-rslex\": \"2.17.12\", \"azureml-train-automl-runtime\": \"1.51.0.post2\", \"azureml-train-automl-client\": \"1.51.0.post1\", \"azureml-training-tabular\": \"1.51.0.post1\", \"azureml-automl-runtime\": \"1.51.0.post1\", \"azureml-automl-core\": \"1.51.0.post1\", \"azureml-mlflow\": \"1.51.0\", \"azureml-datadrift\": \"1.51.0\", \"azureml-pipeline\": \"1.51.0\", \"azureml-contrib-dataset\": \"1.51.0\", \"azureml-contrib-notebook\": \"1.51.0\", \"azureml-accel-models\": \"1.51.0\", \"azureml-automl-dnn-nlp\": \"1.51.0\", \"azureml-pipeline-core\": \"1.51.0\", \"azureml-responsibleai\": \"1.51.0\", \"azureml-contrib-automl-pipeline-steps\": \"1.51.0\", \"azureml-pipeline-steps\": \"1.51.0\", \"azureml-core\": \"1.51.0\", \"azureml-contrib-reinforcementlearning\": \"1.51.0\", \"azureml-contrib-server\": \"1.51.0\", \"azureml-opendatasets\": \"1.51.0\", \"azureml-contrib-services\": \"1.51.0\", \"azureml-telemetry\": \"1.51.0\", \"azureml-train-restclients-hyperdrive\": \"1.51.0\", \"azureml-interpret\": \"1.51.0\", \"azureml-train-core\": \"1.51.0\", \"azureml-tensorboard\": \"1.51.0\", \"azureml-train\": \"1.51.0\", \"azureml-contrib-pipeline-steps\": \"1.51.0\", \"azureml-explain-model\": \"1.51.0\", \"azureml-cli-common\": \"1.51.0\", \"azureml-widgets\": \"1.51.0\", \"azureml-train-automl\": \"1.51.0\", \"azureml-defaults\": \"1.51.0\", \"azureml-contrib-fairness\": \"1.51.0\", \"azureml-sdk\": \"1.51.0\", \"azureml-dataset-runtime\": \"1.51.0\", \"azureml-inference-server-http\": \"0.8.4\"}',\n  '_aml_system_scenario_identification': 'Remote.Parent',\n  'ClientType': 'SDK',\n  'PlatformVersion': 'DPV1',\n  'environment_cpu_name': 'AzureML-AutoML',\n  'environment_cpu_label': 'scikit-upgrade2',\n  'environment_gpu_name': 'AzureML-AutoML-GPU',\n  'environment_gpu_label': 'scikit-upgrade2',\n  'root_attribution': 'automl',\n  'attribution': 'AutoML',\n  'Orchestrator': 'AutoML',\n  'CancelUri': 'https://eastus2.api.azureml.ms/jasmine/v1.0/subscriptions/ffc51280-6a38-41ea-8f5a-872347615ba2/resourceGroups/gpt5091-rg/providers/Microsoft.MachineLearningServices/workspaces/440proj/experimentids/079a19f0-017b-4c9a-81c7-1226bc1e7b20/cancel/AutoML_0eac0516-ca47-4af3-963d-bb649f060906',\n  'ClientSdkVersion': None,\n  'snapshotId': '00000000-0000-0000-0000-000000000000',\n  'SetupRunId': 'AutoML_0eac0516-ca47-4af3-963d-bb649f060906_setup',\n  'SetupRunContainerId': 'dcid.AutoML_0eac0516-ca47-4af3-963d-bb649f060906_setup',\n  'forecasting_target_lags': '[0]',\n  'forecasting_target_rolling_window_size': '0',\n  'forecasting_max_horizon': '48',\n  'forecasting_freq': 'D',\n  'ProblemInfoJsonString': '{\"dataset_num_categorical\": 0, \"is_sparse\": false, \"subsampling\": false, \"has_extra_col\": true, \"dataset_classes\": 1596, \"dataset_features\": 21, \"dataset_samples\": 1597, \"single_frequency_class_detected\": false, \"series_column_count\": 1, \"series_count\": 1, \"series_len_min\": 1597, \"series_len_max\": 1597, \"series_len_avg\": 1597.0, \"series_len_perc_25\": 1597.0, \"series_len_perc_50\": 1597.0, \"series_len_perc_75\": 1597.0}',\n  'ModelExplainRunId': 'AutoML_0eac0516-ca47-4af3-963d-bb649f060906_ModelExplain'},\n 'inputDatasets': [{'dataset': {'id': 'bba95e87-2a6e-432c-8265-67ecad9a1a7f'}, 'consumptionDetails': {'type': 'RunInput', 'inputName': 'training_data', 'mechanism': 'Direct'}}],\n 'outputDatasets': [{'identifier': {'savedId': '571a6dcc-650b-4d0e-b0a3-e991f057d164'},\n   'outputType': 'RunOutput',\n   'outputDetails': {'outputName': 'full_training_dataset'},\n   'dataset': {\n     \"source\": [\n       \"('workspaceartifactstore', 'ExperimentRun/dcid.AutoML_0eac0516-ca47-4af3-963d-bb649f060906/outputs/featurization/data/full_training_dataset.df.parquet')\"\n     ],\n     \"definition\": [\n       \"GetDatastoreFiles\",\n       \"ReadParquetFile\",\n       \"DropColumns\"\n     ],\n     \"registration\": {\n       \"id\": \"571a6dcc-650b-4d0e-b0a3-e991f057d164\",\n       \"name\": null,\n       \"version\": null,\n       \"workspace\": \"Workspace.create(name='440proj', subscription_id='ffc51280-6a38-41ea-8f5a-872347615ba2', resource_group='gpt5091-rg')\"\n     }\n   }}],\n 'logFiles': {},\n 'submittedBy': 'Gelin Tong'}"
          },
          "metadata": {}
        }
      ],
      "execution_count": 13,
      "metadata": {
        "gather": {
          "logged": 1714022159397
        }
      }
    },
    {
      "cell_type": "markdown",
      "source": [
        "## Retrieve the Best Run details\n",
        "Below we retrieve the best Run object from among all the runs in the experiment."
      ],
      "metadata": {}
    },
    {
      "cell_type": "code",
      "source": [
        "best_run = remote_run.get_best_child()\n",
        "best_run"
      ],
      "outputs": [
        {
          "output_type": "execute_result",
          "execution_count": 14,
          "data": {
            "text/plain": "Run(Experiment: automl-forecasting-energydemand,\nId: AutoML_0eac0516-ca47-4af3-963d-bb649f060906_5,\nType: None,\nStatus: Completed)",
            "text/html": "<table style=\"width:100%\"><tr><th>Experiment</th><th>Id</th><th>Type</th><th>Status</th><th>Details Page</th><th>Docs Page</th></tr><tr><td>automl-forecasting-energydemand</td><td>AutoML_0eac0516-ca47-4af3-963d-bb649f060906_5</td><td></td><td>Completed</td><td><a href=\"https://ml.azure.com/runs/AutoML_0eac0516-ca47-4af3-963d-bb649f060906_5?wsid=/subscriptions/ffc51280-6a38-41ea-8f5a-872347615ba2/resourcegroups/gpt5091-rg/workspaces/440proj&amp;tid=7cf48d45-3ddb-4389-a9c1-c115526eb52e\" target=\"_blank\" rel=\"noopener\">Link to Azure Machine Learning studio</a></td><td><a href=\"https://docs.microsoft.com/en-us/python/api/azureml-core/azureml.core.run.Run?view=azure-ml-py\" target=\"_blank\" rel=\"noopener\">Link to Documentation</a></td></tr></table>"
          },
          "metadata": {}
        }
      ],
      "execution_count": 14,
      "metadata": {
        "gather": {
          "logged": 1714022159576
        }
      }
    },
    {
      "cell_type": "markdown",
      "source": [
        "## Featurization\n",
        "We can look at the engineered feature names generated in time-series featurization via. the JSON file named 'engineered_feature_names.json' under the run outputs."
      ],
      "metadata": {}
    },
    {
      "cell_type": "code",
      "source": [
        "# Download the JSON file locally\n",
        "best_run.download_file(\n",
        "    \"outputs/engineered_feature_names.json\", \"engineered_feature_names.json\"\n",
        ")\n",
        "with open(\"engineered_feature_names.json\", \"r\") as f:\n",
        "    records = json.load(f)\n",
        "\n",
        "records"
      ],
      "outputs": [
        {
          "output_type": "execute_result",
          "execution_count": 15,
          "data": {
            "text/plain": "['Open',\n 'High',\n 'Low',\n 'Close',\n 'Adj Close',\n 'Volume',\n '_automl_target_col_WASNULL',\n 'Open_WASNULL',\n 'High_WASNULL',\n 'Low_WASNULL',\n 'Close_WASNULL',\n 'Adj Close_WASNULL',\n 'Volume_WASNULL',\n '_automl_year',\n '_automl_half',\n '_automl_quarter',\n '_automl_month',\n '_automl_day',\n '_automl_wday',\n '_automl_qday',\n '_automl_week']"
          },
          "metadata": {}
        }
      ],
      "execution_count": 15,
      "metadata": {
        "gather": {
          "logged": 1714022159815
        }
      }
    },
    {
      "cell_type": "markdown",
      "source": [
        "### View featurization summary\n",
        "You can also see what featurization steps were performed on different raw features in the user data. For each raw feature in the user data, the following information is displayed:\n",
        "\n",
        "+ Raw feature name\n",
        "+ Number of engineered features formed out of this raw feature\n",
        "+ Type detected\n",
        "+ If feature was dropped\n",
        "+ List of feature transformations for the raw feature"
      ],
      "metadata": {}
    },
    {
      "cell_type": "code",
      "source": [
        "# Download the featurization summary JSON file locally\n",
        "best_run.download_file(\n",
        "    \"outputs/featurization_summary.json\", \"featurization_summary.json\"\n",
        ")\n",
        "\n",
        "# Render the JSON as a pandas DataFrame\n",
        "with open(\"featurization_summary.json\", \"r\") as f:\n",
        "    records = json.load(f)\n",
        "fs = pd.DataFrame.from_records(records)\n",
        "\n",
        "# View a summary of the featurization\n",
        "fs[\n",
        "    [\n",
        "        \"RawFeatureName\",\n",
        "        \"TypeDetected\",\n",
        "        \"Dropped\",\n",
        "        \"EngineeredFeatureCount\",\n",
        "        \"Transformations\",\n",
        "    ]\n",
        "]"
      ],
      "outputs": [
        {
          "output_type": "execute_result",
          "execution_count": 16,
          "data": {
            "text/plain": "       RawFeatureName TypeDetected Dropped  EngineeredFeatureCount  \\\n0                Open      Numeric      No                       2   \n1                High      Numeric      No                       2   \n2                 Low      Numeric      No                       2   \n3               Close      Numeric      No                       2   \n4           Adj Close      Numeric      No                       2   \n5              Volume      Numeric      No                       2   \n6  _automl_target_col      Numeric      No                       1   \n7                Date     DateTime      No                       8   \n\n                     Transformations  \n0  [MedianImputer, ImputationMarker]  \n1  [MedianImputer, ImputationMarker]  \n2  [MedianImputer, ImputationMarker]  \n3  [MedianImputer, ImputationMarker]  \n4  [MedianImputer, ImputationMarker]  \n5  [MedianImputer, ImputationMarker]  \n6                 [ImputationMarker]  \n7              [DateTimeTransformer]  ",
            "text/html": "<div>\n<style scoped>\n    .dataframe tbody tr th:only-of-type {\n        vertical-align: middle;\n    }\n\n    .dataframe tbody tr th {\n        vertical-align: top;\n    }\n\n    .dataframe thead th {\n        text-align: right;\n    }\n</style>\n<table border=\"1\" class=\"dataframe\">\n  <thead>\n    <tr style=\"text-align: right;\">\n      <th></th>\n      <th>RawFeatureName</th>\n      <th>TypeDetected</th>\n      <th>Dropped</th>\n      <th>EngineeredFeatureCount</th>\n      <th>Transformations</th>\n    </tr>\n  </thead>\n  <tbody>\n    <tr>\n      <th>0</th>\n      <td>Open</td>\n      <td>Numeric</td>\n      <td>No</td>\n      <td>2</td>\n      <td>[MedianImputer, ImputationMarker]</td>\n    </tr>\n    <tr>\n      <th>1</th>\n      <td>High</td>\n      <td>Numeric</td>\n      <td>No</td>\n      <td>2</td>\n      <td>[MedianImputer, ImputationMarker]</td>\n    </tr>\n    <tr>\n      <th>2</th>\n      <td>Low</td>\n      <td>Numeric</td>\n      <td>No</td>\n      <td>2</td>\n      <td>[MedianImputer, ImputationMarker]</td>\n    </tr>\n    <tr>\n      <th>3</th>\n      <td>Close</td>\n      <td>Numeric</td>\n      <td>No</td>\n      <td>2</td>\n      <td>[MedianImputer, ImputationMarker]</td>\n    </tr>\n    <tr>\n      <th>4</th>\n      <td>Adj Close</td>\n      <td>Numeric</td>\n      <td>No</td>\n      <td>2</td>\n      <td>[MedianImputer, ImputationMarker]</td>\n    </tr>\n    <tr>\n      <th>5</th>\n      <td>Volume</td>\n      <td>Numeric</td>\n      <td>No</td>\n      <td>2</td>\n      <td>[MedianImputer, ImputationMarker]</td>\n    </tr>\n    <tr>\n      <th>6</th>\n      <td>_automl_target_col</td>\n      <td>Numeric</td>\n      <td>No</td>\n      <td>1</td>\n      <td>[ImputationMarker]</td>\n    </tr>\n    <tr>\n      <th>7</th>\n      <td>Date</td>\n      <td>DateTime</td>\n      <td>No</td>\n      <td>8</td>\n      <td>[DateTimeTransformer]</td>\n    </tr>\n  </tbody>\n</table>\n</div>"
          },
          "metadata": {}
        }
      ],
      "execution_count": 16,
      "metadata": {
        "gather": {
          "logged": 1714022160031
        }
      }
    },
    {
      "cell_type": "markdown",
      "source": [
        "# Forecasting<a id=\"forecast\"></a>\n",
        "\n",
        "Now that we have retrieved the best pipeline/model, it can be used to make predictions on test data. We will do batch scoring on the test dataset which should have the same schema as training dataset.\n",
        "\n",
        "The inference will run on a remote compute. In this example, it will re-use the training compute."
      ],
      "metadata": {}
    },
    {
      "cell_type": "code",
      "source": [
        "test_experiment = Experiment(ws, experiment_name + \"_inference\")"
      ],
      "outputs": [],
      "execution_count": 17,
      "metadata": {
        "gather": {
          "logged": 1714022160275
        }
      }
    },
    {
      "cell_type": "markdown",
      "source": [
        "### Retrieving forecasts from the model\n",
        "We have created a function called `run_forecast` that submits the test data to the best model determined during the training run and retrieves forecasts. This function uses a helper script `forecasting_script` which is uploaded and expecuted on the remote compute."
      ],
      "metadata": {}
    },
    {
      "cell_type": "code",
      "source": [
        "from run_forecast import run_remote_inference\n",
        "\n",
        "remote_run_infer = run_remote_inference(\n",
        "    test_experiment=test_experiment,\n",
        "    compute_target=compute_target,\n",
        "    train_run=best_run,\n",
        "    test_dataset=test_dataset,\n",
        "    target_column_name=target_column_name,\n",
        ")\n",
        "remote_run_infer.wait_for_completion(show_output=False)\n",
        "\n",
        "# download the inference output file to the local machine\n",
        "remote_run_infer.download_file(\"outputs/predictions.csv\", \"predictions.csv\")"
      ],
      "outputs": [],
      "execution_count": 18,
      "metadata": {
        "gather": {
          "logged": 1714022303688
        }
      }
    },
    {
      "cell_type": "markdown",
      "source": [
        "### Evaluate\n",
        "To evaluate the accuracy of the forecast, we'll compare against the actual sales quantities for some select metrics, included the mean absolute percentage error (MAPE). For more metrics that can be used for evaluation after training, please see [supported metrics](https://docs.microsoft.com/en-us/azure/machine-learning/how-to-understand-automated-ml#regressionforecasting-metrics), and [how to calculate residuals](https://docs.microsoft.com/en-us/azure/machine-learning/how-to-understand-automated-ml#residuals)."
      ],
      "metadata": {}
    },
    {
      "cell_type": "code",
      "source": [
        "# load forecast data frame\n",
        "fcst_df = pd.read_csv(\"predictions.csv\", parse_dates=[time_column_name])\n",
        "fcst_df.head()"
      ],
      "outputs": [
        {
          "output_type": "execute_result",
          "execution_count": 19,
          "data": {
            "text/plain": "        Date          Open          High           Low         Close  \\\n0 2022-05-27  29251.140625  29346.943359  28326.613281  28627.574219   \n1 2022-05-28  28622.625000  28814.900391  28554.566406  28814.900391   \n2 2022-05-29  29019.867188  29498.009766  28841.107422  29445.957031   \n3 2022-05-30  29443.365234  31949.630859  29303.572266  31726.390625   \n4 2022-05-31  31723.865234  32249.863281  31286.154297  31792.310547   \n\n      Adj Close       Volume        Target  \\\n0  28627.574219  36582005748  28814.900391   \n1  28814.900391  35519577634  29445.957031   \n2  29445.957031  18093886409  31726.390625   \n3  31726.390625  39277993274  31792.310547   \n4  31792.310547  33538210634  29799.080078   \n\n                       prediction_interval     predicted  \n0  [25527.01488769559, 31808.866511518412]  28667.940700  \n1  [24383.44002832713, 33267.319791552814]  28825.379910  \n2   [23973.2097700972, 34853.695948167384]  29413.452859  \n3  [25377.554238458266, 37941.25748610391]  31659.405862  \n4    [24755.5320395377, 38802.17929497297]  31778.855667  ",
            "text/html": "<div>\n<style scoped>\n    .dataframe tbody tr th:only-of-type {\n        vertical-align: middle;\n    }\n\n    .dataframe tbody tr th {\n        vertical-align: top;\n    }\n\n    .dataframe thead th {\n        text-align: right;\n    }\n</style>\n<table border=\"1\" class=\"dataframe\">\n  <thead>\n    <tr style=\"text-align: right;\">\n      <th></th>\n      <th>Date</th>\n      <th>Open</th>\n      <th>High</th>\n      <th>Low</th>\n      <th>Close</th>\n      <th>Adj Close</th>\n      <th>Volume</th>\n      <th>Target</th>\n      <th>prediction_interval</th>\n      <th>predicted</th>\n    </tr>\n  </thead>\n  <tbody>\n    <tr>\n      <th>0</th>\n      <td>2022-05-27</td>\n      <td>29251.140625</td>\n      <td>29346.943359</td>\n      <td>28326.613281</td>\n      <td>28627.574219</td>\n      <td>28627.574219</td>\n      <td>36582005748</td>\n      <td>28814.900391</td>\n      <td>[25527.01488769559, 31808.866511518412]</td>\n      <td>28667.940700</td>\n    </tr>\n    <tr>\n      <th>1</th>\n      <td>2022-05-28</td>\n      <td>28622.625000</td>\n      <td>28814.900391</td>\n      <td>28554.566406</td>\n      <td>28814.900391</td>\n      <td>28814.900391</td>\n      <td>35519577634</td>\n      <td>29445.957031</td>\n      <td>[24383.44002832713, 33267.319791552814]</td>\n      <td>28825.379910</td>\n    </tr>\n    <tr>\n      <th>2</th>\n      <td>2022-05-29</td>\n      <td>29019.867188</td>\n      <td>29498.009766</td>\n      <td>28841.107422</td>\n      <td>29445.957031</td>\n      <td>29445.957031</td>\n      <td>18093886409</td>\n      <td>31726.390625</td>\n      <td>[23973.2097700972, 34853.695948167384]</td>\n      <td>29413.452859</td>\n    </tr>\n    <tr>\n      <th>3</th>\n      <td>2022-05-30</td>\n      <td>29443.365234</td>\n      <td>31949.630859</td>\n      <td>29303.572266</td>\n      <td>31726.390625</td>\n      <td>31726.390625</td>\n      <td>39277993274</td>\n      <td>31792.310547</td>\n      <td>[25377.554238458266, 37941.25748610391]</td>\n      <td>31659.405862</td>\n    </tr>\n    <tr>\n      <th>4</th>\n      <td>2022-05-31</td>\n      <td>31723.865234</td>\n      <td>32249.863281</td>\n      <td>31286.154297</td>\n      <td>31792.310547</td>\n      <td>31792.310547</td>\n      <td>33538210634</td>\n      <td>29799.080078</td>\n      <td>[24755.5320395377, 38802.17929497297]</td>\n      <td>31778.855667</td>\n    </tr>\n  </tbody>\n</table>\n</div>"
          },
          "metadata": {}
        }
      ],
      "execution_count": 19,
      "metadata": {
        "gather": {
          "logged": 1714022303886
        }
      }
    },
    {
      "cell_type": "code",
      "source": [
        "from azureml.automl.core.shared import constants\n",
        "from azureml.automl.runtime.shared.score import scoring\n",
        "from matplotlib import pyplot as plt\n",
        "\n",
        "# use automl metrics module\n",
        "scores = scoring.score_regression(\n",
        "    y_test=fcst_df[target_column_name],\n",
        "    y_pred=fcst_df[\"predicted\"],\n",
        "    metrics=list(constants.Metric.SCALAR_REGRESSION_SET),\n",
        ")\n",
        "\n",
        "print(\"[Test data scores]\\n\")\n",
        "for key, value in scores.items():\n",
        "    print(\"{}:   {:.3f}\".format(key, value))\n",
        "\n",
        "# Plot outputs\n",
        "%matplotlib inline\n",
        "test_pred = plt.scatter(fcst_df[target_column_name], fcst_df[\"predicted\"], color=\"b\")\n",
        "test_test = plt.scatter(\n",
        "    fcst_df[target_column_name], fcst_df[target_column_name], color=\"g\"\n",
        ")\n",
        "plt.legend(\n",
        "    (test_pred, test_test), (\"prediction\", \"truth\"), loc=\"upper left\", fontsize=8\n",
        ")\n",
        "plt.show()"
      ],
      "outputs": [
        {
          "output_type": "stream",
          "name": "stdout",
          "text": "[Test data scores]\n\nroot_mean_squared_log_error:   0.033\nnormalized_mean_absolute_error:   0.028\nnormalized_root_mean_squared_log_error:   0.048\nmean_absolute_percentage_error:   2.122\nmedian_absolute_error:   232.229\nroot_mean_squared_error:   719.830\nexplained_variance:   0.956\nnormalized_root_mean_squared_error:   0.045\nr2_score:   0.956\nmean_absolute_error:   442.064\nspearman_correlation:   0.955\nnormalized_median_absolute_error:   0.015\n"
        },
        {
          "output_type": "display_data",
          "data": {
            "text/plain": "<Figure size 640x480 with 1 Axes>",
            "image/png": "[encoded data removed]"
          },
          "metadata": {}
        }
      ],
      "execution_count": 20,
      "metadata": {
        "gather": {
          "logged": 1714022305412
        }
      }
    },
    {
      "cell_type": "markdown",
      "source": [
        "# Advanced Training <a id=\"advanced_training\"></a>\n",
        "We did not use lags in the previous model specification. In effect, the prediction was the result of a simple regression on date, time series identifier columns and any additional features. This is often a very good prediction as common time series patterns like seasonality and trends can be captured in this manner. Such simple regression is horizon-less: it doesn't matter how far into the future we are predicting, because we are not using past data. In the previous example, the horizon was only used to split the data for cross-validation."
      ],
      "metadata": {}
    },
    {
      "cell_type": "markdown",
      "source": [
        "### Using lags and rolling window features\n",
        "Now we will configure the target lags, that is the previous values of the target variables, meaning the prediction is no longer horizon-less. We therefore must still specify the `forecast_horizon` that the model will learn to forecast. The `target_lags` keyword specifies how far back we will construct the lags of the target variable, and the `target_rolling_window_size` specifies the size of the rolling window over which we will generate the `max`, `min` and `sum` features.\n",
        "\n",
        "This notebook uses the blocked_models parameter to exclude some models that take a longer time to train on this dataset.  You can choose to remove models from the blocked_models list but you may need to increase the iteration_timeout_minutes parameter value to get results."
      ],
      "metadata": {}
    },
    {
      "cell_type": "code",
      "source": [
        "from azureml.automl.core.forecasting_parameters import ForecastingParameters\n",
        "\n",
        "advanced_forecasting_parameters = ForecastingParameters(\n",
        "    time_column_name=time_column_name,\n",
        "    forecast_horizon=forecast_horizon,\n",
        "    target_lags=12,\n",
        "    target_rolling_window_size=4,\n",
        "    cv_step_size=\"auto\",\n",
        ")\n",
        "\n",
        "automl_config = AutoMLConfig(\n",
        "    task=\"forecasting\",\n",
        "    primary_metric=\"normalized_root_mean_squared_error\",\n",
        "    blocked_models=[\n",
        "        \"ElasticNet\",\n",
        "        \"ExtremeRandomTrees\",\n",
        "        \"GradientBoosting\",\n",
        "        \"XGBoostRegressor\",\n",
        "        \"ExtremeRandomTrees\",\n",
        "        \"AutoArima\",\n",
        "        \"Prophet\",\n",
        "    ],  # These models are blocked for tutorial purposes, remove this for real use cases.\n",
        "    experiment_timeout_hours=0.3,\n",
        "    training_data=train_dataset,\n",
        "    label_column_name=target_column_name,\n",
        "    compute_target=compute_target,\n",
        "    enable_early_stopping=True,\n",
        "    n_cross_validations=\"auto\",  # Feel free to set to a small integer (>=2) if runtime is an issue.\n",
        "    verbosity=logging.INFO,\n",
        "    forecasting_parameters=advanced_forecasting_parameters,\n",
        ")"
      ],
      "outputs": [],
      "execution_count": 21,
      "metadata": {
        "gather": {
          "logged": 1713281559479
        }
      }
    },
    {
      "cell_type": "markdown",
      "source": [
        "We now start a new remote run, this time with lag and rolling window featurization. AutoML applies featurizations in the setup stage, prior to iterating over ML models. The full training set is featurized first, followed by featurization of each of the CV splits. Lag and rolling window features introduce additional complexity, so the run will take longer than in the previous example that lacked these featurizations."
      ],
      "metadata": {}
    },
    {
      "cell_type": "code",
      "source": [
        "advanced_remote_run = experiment.submit(automl_config, show_output=False)"
      ],
      "outputs": [
        {
          "output_type": "stream",
          "name": "stdout",
          "text": "Submitting remote run.\n"
        },
        {
          "output_type": "display_data",
          "data": {
            "text/html": "<table style=\"width:100%\"><tr><th>Experiment</th><th>Id</th><th>Type</th><th>Status</th><th>Details Page</th><th>Docs Page</th></tr><tr><td>automl-forecasting-energydemand</td><td>AutoML_64861d04-f762-4a18-b219-563780a84f46</td><td>automl</td><td>NotStarted</td><td><a href=\"https://ml.azure.com/runs/AutoML_64861d04-f762-4a18-b219-563780a84f46?wsid=/subscriptions/ffc51280-6a38-41ea-8f5a-872347615ba2/resourcegroups/gpt5091-rg/workspaces/440proj&amp;tid=7cf48d45-3ddb-4389-a9c1-c115526eb52e\" target=\"_blank\" rel=\"noopener\">Link to Azure Machine Learning studio</a></td><td><a href=\"https://docs.microsoft.com/en-us/python/api/overview/azure/ml/intro?view=azure-ml-py\" target=\"_blank\" rel=\"noopener\">Link to Documentation</a></td></tr></table>"
          },
          "metadata": {}
        }
      ],
      "execution_count": 22,
      "metadata": {
        "gather": {
          "logged": 1713281561016
        }
      }
    },
    {
      "cell_type": "code",
      "source": [
        "advanced_remote_run.wait_for_completion()"
      ],
      "outputs": [
        {
          "output_type": "execute_result",
          "execution_count": 23,
          "data": {
            "text/plain": "{'runId': 'AutoML_64861d04-f762-4a18-b219-563780a84f46',\n 'target': 'energy-cluster',\n 'status': 'Completed',\n 'startTimeUtc': '2024-04-16T15:32:54.45054Z',\n 'endTimeUtc': '2024-04-16T15:54:15.215884Z',\n 'services': {},\n 'warnings': [{'source': 'JasmineService',\n   'message': 'Experiment timeout reached, hence experiment stopped. Current experiment timeout: 0 hour(s) 18 minute(s)'}],\n 'properties': {'num_iterations': '1000',\n  'training_type': 'TrainFull',\n  'acquisition_function': 'EI',\n  'primary_metric': 'normalized_root_mean_squared_error',\n  'train_split': '0',\n  'acquisition_parameter': '0',\n  'num_cross_validation': 'auto',\n  'target': 'energy-cluster',\n  'AMLSettingsJsonString': '{\"path\":null,\"name\":\"automl-forecasting-energydemand\",\"subscription_id\":\"ffc51280-6a38-41ea-8f5a-872347615ba2\",\"resource_group\":\"gpt5091-rg\",\"workspace_name\":\"440proj\",\"region\":\"eastus2\",\"compute_target\":\"energy-cluster\",\"spark_service\":null,\"azure_service\":\"remote\",\"many_models\":false,\"pipeline_fetch_max_batch_size\":1,\"enable_batch_run\":true,\"enable_parallel_run\":false,\"num_procs\":null,\"enable_run_restructure\":false,\"start_auxiliary_runs_before_parent_complete\":false,\"enable_code_generation\":true,\"iterations\":1000,\"primary_metric\":\"normalized_root_mean_squared_error\",\"task_type\":\"regression\",\"positive_label\":null,\"data_script\":null,\"test_size\":0.0,\"test_include_predictions_only\":false,\"validation_size\":0.0,\"n_cross_validations\":\"auto\",\"y_min\":null,\"y_max\":null,\"num_classes\":null,\"featurization\":\"auto\",\"_ignore_package_version_incompatibilities\":false,\"is_timeseries\":true,\"max_cores_per_iteration\":1,\"max_concurrent_iterations\":1,\"iteration_timeout_minutes\":null,\"mem_in_mb\":null,\"enforce_time_on_windows\":false,\"experiment_timeout_minutes\":18,\"experiment_exit_score\":null,\"partition_column_names\":null,\"whitelist_models\":null,\"blacklist_algos\":[\"ElasticNet\",\"ExtremeRandomTrees\",\"GradientBoosting\",\"XGBoostRegressor\",\"ExtremeRandomTrees\",\"AutoArima\",\"Prophet\",\"TensorFlowDNN\",\"TensorFlowLinearRegressor\"],\"supported_models\":[\"AutoArima\",\"SGD\",\"ExponentialSmoothing\",\"SeasonalNaive\",\"Prophet\",\"LassoLars\",\"SeasonalAverage\",\"ElasticNet\",\"TensorFlowLinearRegressor\",\"GradientBoosting\",\"XGBoostRegressor\",\"LightGBM\",\"TCNForecaster\",\"TensorFlowDNN\",\"TabnetRegressor\",\"RandomForest\",\"Arimax\",\"Average\",\"DecisionTree\",\"KNN\",\"Naive\",\"ExtremeRandomTrees\"],\"private_models\":[],\"auto_blacklist\":true,\"blacklist_samples_reached\":false,\"exclude_nan_labels\":true,\"verbosity\":20,\"_debug_log\":\"azureml_automl.log\",\"show_warnings\":false,\"model_explainability\":true,\"service_url\":null,\"sdk_url\":null,\"sdk_packages\":null,\"enable_onnx_compatible_models\":false,\"enable_split_onnx_featurizer_estimator_models\":false,\"vm_type\":\"STANDARD_DS12_V2\",\"telemetry_verbosity\":20,\"send_telemetry\":true,\"enable_dnn\":false,\"scenario\":\"AutoML\",\"environment_label\":null,\"save_mlflow\":false,\"enable_categorical_indicators\":false,\"force_text_dnn\":false,\"enable_feature_sweeping\":false,\"time_column_name\":\"Date\",\"grain_column_names\":null,\"drop_column_names\":[],\"max_horizon\":48,\"dropna\":false,\"overwrite_columns\":true,\"transform_dictionary\":{\"min\":\"_automl_target_col\",\"max\":\"_automl_target_col\",\"mean\":\"_automl_target_col\"},\"window_size\":4,\"country_or_region\":null,\"lags\":{\"_automl_target_col\":[12]},\"feature_lags\":null,\"seasonality\":\"auto\",\"use_stl\":null,\"short_series_handling\":true,\"freq\":null,\"short_series_handling_configuration\":\"auto\",\"target_aggregation_function\":null,\"cv_step_size\":\"auto\",\"has_multiple_series\":true,\"enable_early_stopping\":true,\"early_stopping_n_iters\":10,\"arguments\":null,\"dataset_id\":\"37788c8b-f2e7-497c-8770-61bae7e08acd\",\"hyperdrive_config\":null,\"validation_dataset_id\":null,\"run_source\":null,\"metrics\":null,\"enable_metric_confidence\":false,\"enable_ensembling\":true,\"enable_stack_ensembling\":false,\"ensemble_iterations\":15,\"enable_tf\":false,\"enable_subsampling\":false,\"subsample_seed\":null,\"enable_nimbusml\":false,\"enable_streaming\":false,\"force_streaming\":false,\"track_child_runs\":true,\"n_best_runs\":1,\"allowed_private_models\":[],\"label_column_name\":\"Target\",\"weight_column_name\":null,\"cv_split_column_names\":null,\"enable_local_managed\":false,\"_local_managed_run_id\":null,\"cost_mode\":1,\"lag_length\":0,\"metric_operation\":\"minimize\",\"preprocess\":true}',\n  'DataPrepJsonString': '{\\\\\"training_data\\\\\": {\\\\\"datasetId\\\\\": \\\\\"37788c8b-f2e7-497c-8770-61bae7e08acd\\\\\"}, \\\\\"datasets\\\\\": 0}',\n  'EnableSubsampling': 'False',\n  'runTemplate': 'AutoML',\n  'azureml.runsource': 'automl',\n  'display_task_type': 'forecasting',\n  'dependencies_versions': '{\"azureml-dataprep-native\": \"38.0.0\", \"azureml-dataprep\": \"4.10.8\", \"azureml-dataprep-rslex\": \"2.17.12\", \"azureml-train-automl-runtime\": \"1.51.0.post2\", \"azureml-train-automl-client\": \"1.51.0.post1\", \"azureml-training-tabular\": \"1.51.0.post1\", \"azureml-automl-runtime\": \"1.51.0.post1\", \"azureml-automl-core\": \"1.51.0.post1\", \"azureml-mlflow\": \"1.51.0\", \"azureml-datadrift\": \"1.51.0\", \"azureml-pipeline\": \"1.51.0\", \"azureml-contrib-dataset\": \"1.51.0\", \"azureml-contrib-notebook\": \"1.51.0\", \"azureml-accel-models\": \"1.51.0\", \"azureml-automl-dnn-nlp\": \"1.51.0\", \"azureml-pipeline-core\": \"1.51.0\", \"azureml-responsibleai\": \"1.51.0\", \"azureml-contrib-automl-pipeline-steps\": \"1.51.0\", \"azureml-pipeline-steps\": \"1.51.0\", \"azureml-core\": \"1.51.0\", \"azureml-contrib-reinforcementlearning\": \"1.51.0\", \"azureml-contrib-server\": \"1.51.0\", \"azureml-opendatasets\": \"1.51.0\", \"azureml-contrib-services\": \"1.51.0\", \"azureml-telemetry\": \"1.51.0\", \"azureml-train-restclients-hyperdrive\": \"1.51.0\", \"azureml-interpret\": \"1.51.0\", \"azureml-train-core\": \"1.51.0\", \"azureml-tensorboard\": \"1.51.0\", \"azureml-train\": \"1.51.0\", \"azureml-contrib-pipeline-steps\": \"1.51.0\", \"azureml-explain-model\": \"1.51.0\", \"azureml-cli-common\": \"1.51.0\", \"azureml-widgets\": \"1.51.0\", \"azureml-train-automl\": \"1.51.0\", \"azureml-defaults\": \"1.51.0\", \"azureml-contrib-fairness\": \"1.51.0\", \"azureml-sdk\": \"1.51.0\", \"azureml-dataset-runtime\": \"1.51.0\", \"azureml-inference-server-http\": \"0.8.4\"}',\n  '_aml_system_scenario_identification': 'Remote.Parent',\n  'ClientType': 'SDK',\n  'PlatformVersion': 'DPV1',\n  'environment_cpu_name': 'AzureML-AutoML',\n  'environment_cpu_label': 'scikit-upgrade2',\n  'environment_gpu_name': 'AzureML-AutoML-GPU',\n  'environment_gpu_label': 'scikit-upgrade2',\n  'root_attribution': 'automl',\n  'attribution': 'AutoML',\n  'Orchestrator': 'AutoML',\n  'CancelUri': 'https://eastus2.api.azureml.ms/jasmine/v1.0/subscriptions/ffc51280-6a38-41ea-8f5a-872347615ba2/resourceGroups/gpt5091-rg/providers/Microsoft.MachineLearningServices/workspaces/440proj/experimentids/079a19f0-017b-4c9a-81c7-1226bc1e7b20/cancel/AutoML_64861d04-f762-4a18-b219-563780a84f46',\n  'ClientSdkVersion': None,\n  'snapshotId': '00000000-0000-0000-0000-000000000000',\n  'SetupRunId': 'AutoML_64861d04-f762-4a18-b219-563780a84f46_setup',\n  'SetupRunContainerId': 'dcid.AutoML_64861d04-f762-4a18-b219-563780a84f46_setup',\n  'forecasting_target_lags': '[12]',\n  'forecasting_target_rolling_window_size': '4',\n  'forecasting_max_horizon': '48',\n  'forecasting_freq': 'D',\n  'ProblemInfoJsonString': '{\"dataset_num_categorical\": 0, \"is_sparse\": false, \"subsampling\": false, \"has_extra_col\": true, \"dataset_classes\": 1460, \"dataset_features\": 26, \"dataset_samples\": 70128, \"single_frequency_class_detected\": false, \"series_column_count\": 1, \"series_count\": 1, \"series_len_min\": 1461, \"series_len_max\": 1461, \"series_len_avg\": 1461.0, \"series_len_perc_25\": 1461.0, \"series_len_perc_50\": 1461.0, \"series_len_perc_75\": 1461.0}',\n  'ModelExplainRunId': 'AutoML_64861d04-f762-4a18-b219-563780a84f46_ModelExplain'},\n 'inputDatasets': [{'dataset': {'id': '37788c8b-f2e7-497c-8770-61bae7e08acd'}, 'consumptionDetails': {'type': 'RunInput', 'inputName': 'training_data', 'mechanism': 'Direct'}}],\n 'outputDatasets': [{'identifier': {'savedId': '62f4ba00-8926-451b-87d2-4f62b20a871a'},\n   'outputType': 'RunOutput',\n   'outputDetails': {'outputName': 'full_training_dataset'},\n   'dataset': {\n     \"source\": [\n       \"('workspaceartifactstore', 'ExperimentRun/dcid.AutoML_64861d04-f762-4a18-b219-563780a84f46/outputs/featurization/data/full_training_dataset.df.parquet')\"\n     ],\n     \"definition\": [\n       \"GetDatastoreFiles\",\n       \"ReadParquetFile\",\n       \"DropColumns\"\n     ],\n     \"registration\": {\n       \"id\": \"62f4ba00-8926-451b-87d2-4f62b20a871a\",\n       \"name\": null,\n       \"version\": null,\n       \"workspace\": \"Workspace.create(name='440proj', subscription_id='ffc51280-6a38-41ea-8f5a-872347615ba2', resource_group='gpt5091-rg')\"\n     }\n   }}],\n 'logFiles': {},\n 'submittedBy': 'Gelin Tong'}"
          },
          "metadata": {}
        }
      ],
      "execution_count": 23,
      "metadata": {
        "gather": {
          "logged": 1713282859373
        }
      }
    },
    {
      "cell_type": "markdown",
      "source": [
        "### Retrieve the Best Run details"
      ],
      "metadata": {}
    },
    {
      "cell_type": "code",
      "source": [
        "best_run_lags = advanced_remote_run.get_best_child()\n",
        "best_run_lags"
      ],
      "outputs": [
        {
          "output_type": "execute_result",
          "execution_count": 24,
          "data": {
            "text/plain": "Run(Experiment: automl-forecasting-energydemand,\nId: AutoML_64861d04-f762-4a18-b219-563780a84f46_20,\nType: azureml.scriptrun,\nStatus: Completed)",
            "text/html": "<table style=\"width:100%\"><tr><th>Experiment</th><th>Id</th><th>Type</th><th>Status</th><th>Details Page</th><th>Docs Page</th></tr><tr><td>automl-forecasting-energydemand</td><td>AutoML_64861d04-f762-4a18-b219-563780a84f46_20</td><td>azureml.scriptrun</td><td>Completed</td><td><a href=\"https://ml.azure.com/runs/AutoML_64861d04-f762-4a18-b219-563780a84f46_20?wsid=/subscriptions/ffc51280-6a38-41ea-8f5a-872347615ba2/resourcegroups/gpt5091-rg/workspaces/440proj&amp;tid=7cf48d45-3ddb-4389-a9c1-c115526eb52e\" target=\"_blank\" rel=\"noopener\">Link to Azure Machine Learning studio</a></td><td><a href=\"https://docs.microsoft.com/en-us/python/api/azureml-core/azureml.core.run.Run?view=azure-ml-py\" target=\"_blank\" rel=\"noopener\">Link to Documentation</a></td></tr></table>"
          },
          "metadata": {}
        }
      ],
      "execution_count": 24,
      "metadata": {
        "gather": {
          "logged": 1713282859597
        }
      }
    },
    {
      "cell_type": "code",
      "source": [
        "from run_forecast import run_remote_inference\n",
        "test_experiment_advanced = Experiment(ws, experiment_name + \"_inference_advanced\")\n",
        "advanced_remote_run_infer = run_remote_inference(\n",
        "    test_experiment=test_experiment_advanced,\n",
        "    compute_target=compute_target,\n",
        "    train_run=best_run_lags,\n",
        "    test_dataset=test_dataset,\n",
        "    target_column_name=target_column_name,\n",
        "    inference_folder=\"./forecast_advanced\",\n",
        ")\n",
        "advanced_remote_run_infer.wait_for_completion(show_output=False)\n",
        "\n",
        "# download the inference output file to the local machine\n",
        "advanced_remote_run_infer.download_file(\n",
        "    \"outputs/predictions.csv\", \"predictions_advanced.csv\"\n",
        ")"
      ],
      "outputs": [],
      "execution_count": 25,
      "metadata": {
        "gather": {
          "logged": 1713283003946
        }
      }
    },
    {
      "cell_type": "code",
      "source": [
        "fcst_adv_df = pd.read_csv(\"predictions_advanced.csv\", parse_dates=[time_column_name])\n",
        "fcst_adv_df.head()"
      ],
      "outputs": [
        {
          "output_type": "execute_result",
          "execution_count": 26,
          "data": {
            "text/plain": "        Date          Open          High           Low         Close  \\\n0 2022-01-01  46311.746094  47827.312500  46288.484375  47686.812500   \n1 2022-01-02  47680.925781  47881.406250  46856.937500  47345.218750   \n2 2022-01-03  47343.542969  47510.726562  45835.964844  46458.117188   \n3 2022-01-04  46458.851562  47406.546875  45752.464844  45897.574219   \n4 2022-01-05  45899.359375  46929.046875  42798.222656  43569.003906   \n\n      Adj Close       Volume        Target  \\\n0  47686.812500  24582667004  47345.218750   \n1  47345.218750  27951569547  46458.117188   \n2  46458.117188  33071628362  45897.574219   \n3  45897.574219  42494677905  43569.003906   \n4  43569.003906  36851084859  43160.929688   \n\n                       prediction_interval     predicted  \n0  [45482.65610923982, 49596.611337662616]  47539.633723  \n1  [45258.023651365445, 49371.97887978824]  47315.001266  \n2   [44465.61515600211, 48579.57038442491]  46522.592770  \n3  [43848.788978731944, 47962.74420715474]  45905.766593  \n4  [41742.295322175254, 45856.25055059805]  43799.272936  ",
            "text/html": "<div>\n<style scoped>\n    .dataframe tbody tr th:only-of-type {\n        vertical-align: middle;\n    }\n\n    .dataframe tbody tr th {\n        vertical-align: top;\n    }\n\n    .dataframe thead th {\n        text-align: right;\n    }\n</style>\n<table border=\"1\" class=\"dataframe\">\n  <thead>\n    <tr style=\"text-align: right;\">\n      <th></th>\n      <th>Date</th>\n      <th>Open</th>\n      <th>High</th>\n      <th>Low</th>\n      <th>Close</th>\n      <th>Adj Close</th>\n      <th>Volume</th>\n      <th>Target</th>\n      <th>prediction_interval</th>\n      <th>predicted</th>\n    </tr>\n  </thead>\n  <tbody>\n    <tr>\n      <th>0</th>\n      <td>2022-01-01</td>\n      <td>46311.746094</td>\n      <td>47827.312500</td>\n      <td>46288.484375</td>\n      <td>47686.812500</td>\n      <td>47686.812500</td>\n      <td>24582667004</td>\n      <td>47345.218750</td>\n      <td>[45482.65610923982, 49596.611337662616]</td>\n      <td>47539.633723</td>\n    </tr>\n    <tr>\n      <th>1</th>\n      <td>2022-01-02</td>\n      <td>47680.925781</td>\n      <td>47881.406250</td>\n      <td>46856.937500</td>\n      <td>47345.218750</td>\n      <td>47345.218750</td>\n      <td>27951569547</td>\n      <td>46458.117188</td>\n      <td>[45258.023651365445, 49371.97887978824]</td>\n      <td>47315.001266</td>\n    </tr>\n    <tr>\n      <th>2</th>\n      <td>2022-01-03</td>\n      <td>47343.542969</td>\n      <td>47510.726562</td>\n      <td>45835.964844</td>\n      <td>46458.117188</td>\n      <td>46458.117188</td>\n      <td>33071628362</td>\n      <td>45897.574219</td>\n      <td>[44465.61515600211, 48579.57038442491]</td>\n      <td>46522.592770</td>\n    </tr>\n    <tr>\n      <th>3</th>\n      <td>2022-01-04</td>\n      <td>46458.851562</td>\n      <td>47406.546875</td>\n      <td>45752.464844</td>\n      <td>45897.574219</td>\n      <td>45897.574219</td>\n      <td>42494677905</td>\n      <td>43569.003906</td>\n      <td>[43848.788978731944, 47962.74420715474]</td>\n      <td>45905.766593</td>\n    </tr>\n    <tr>\n      <th>4</th>\n      <td>2022-01-05</td>\n      <td>45899.359375</td>\n      <td>46929.046875</td>\n      <td>42798.222656</td>\n      <td>43569.003906</td>\n      <td>43569.003906</td>\n      <td>36851084859</td>\n      <td>43160.929688</td>\n      <td>[41742.295322175254, 45856.25055059805]</td>\n      <td>43799.272936</td>\n    </tr>\n  </tbody>\n</table>\n</div>"
          },
          "metadata": {}
        }
      ],
      "execution_count": 26,
      "metadata": {
        "gather": {
          "logged": 1713283004096
        }
      }
    },
    {
      "cell_type": "code",
      "source": [
        "from azureml.automl.core.shared import constants\n",
        "from azureml.automl.runtime.shared.score import scoring\n",
        "from matplotlib import pyplot as plt\n",
        "\n",
        "# use automl metrics module\n",
        "scores = scoring.score_regression(\n",
        "    y_test=fcst_adv_df[target_column_name],\n",
        "    y_pred=fcst_adv_df[\"predicted\"],\n",
        "    metrics=list(constants.Metric.SCALAR_REGRESSION_SET),\n",
        ")\n",
        "\n",
        "print(\"[Test data scores]\\n\")\n",
        "for key, value in scores.items():\n",
        "    print(\"{}:   {:.3f}\".format(key, value))\n",
        "\n",
        "# Plot outputs\n",
        "%matplotlib inline\n",
        "test_pred = plt.scatter(\n",
        "    fcst_adv_df[target_column_name], fcst_adv_df[\"predicted\"], color=\"b\"\n",
        ")\n",
        "test_test = plt.scatter(\n",
        "    fcst_adv_df[target_column_name], fcst_adv_df[target_column_name], color=\"g\"\n",
        ")\n",
        "plt.legend(\n",
        "    (test_pred, test_test), (\"prediction\", \"truth\"), loc=\"upper left\", fontsize=8\n",
        ")\n",
        "plt.show()"
      ],
      "outputs": [
        {
          "output_type": "stream",
          "name": "stdout",
          "text": "[Test data scores]\n\nroot_mean_squared_error:   1018.703\nmean_absolute_error:   661.438\nnormalized_mean_absolute_error:   0.021\nr2_score:   0.990\nmedian_absolute_error:   371.737\nspearman_correlation:   0.985\nnormalized_median_absolute_error:   0.012\nnormalized_root_mean_squared_error:   0.032\nmean_absolute_percentage_error:   2.314\nnormalized_root_mean_squared_log_error:   0.031\nexplained_variance:   0.990\nroot_mean_squared_log_error:   0.034\n"
        },
        {
          "output_type": "display_data",
          "data": {
            "text/plain": "<Figure size 640x480 with 1 Axes>",
            "image/png": "[encoded data removed]"
          },
          "metadata": {}
        }
      ],
      "execution_count": 27,
      "metadata": {
        "gather": {
          "logged": 1713283004273
        }
      }
    }
  ],
  "metadata": {
    "authors": [
      {
        "name": "jialiu"
      }
    ],
    "vscode": {
      "interpreter": {
        "hash": "6bd77c88278e012ef31757c15997a7bea8c943977c43d6909403c00ae11d43ca"
      }
    },
    "microsoft": {
      "ms_spell_check": {
        "ms_spell_check_language": "en"
      },
      "host": {
        "AzureML": {
          "notebookHasBeenCompleted": true
        }
      }
    },
    "kernel_info": {
      "name": "python38-azureml"
    },
    "language_info": {
      "name": "python",
      "version": "3.8.5",
      "mimetype": "text/x-python",
      "codemirror_mode": {
        "name": "ipython",
        "version": 3
      },
      "pygments_lexer": "ipython3",
      "nbconvert_exporter": "python",
      "file_extension": ".py"
    },
    "kernelspec": {
      "name": "python38-azureml",
      "language": "python",
      "display_name": "Python 3.8 - AzureML"
    },
    "categories": [
      "how-to-use-azureml",
      "automated-machine-learning"
    ],
    "nteract": {
      "version": "nteract-front-end@1.0.0"
    }
  },
  "nbformat": 4,
  "nbformat_minor": 2
}