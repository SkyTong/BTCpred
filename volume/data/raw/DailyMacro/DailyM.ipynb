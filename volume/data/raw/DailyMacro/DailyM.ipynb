{
 "cells": [
  {
   "cell_type": "code",
   "execution_count": 16,
   "id": "initial_id",
   "metadata": {
    "collapsed": true,
    "ExecuteTime": {
     "end_time": "2024-04-02T15:43:39.021870Z",
     "start_time": "2024-04-02T15:43:39.014866Z"
    }
   },
   "outputs": [],
   "source": [
    "import yfinance as yf\n",
    "import pandas as pd\n",
    "import os"
   ]
  },
  {
   "cell_type": "code",
   "outputs": [],
   "source": [
    "tickers = {\n",
    "    \"SP500\": \"^GSPC\",\n",
    "    \"DOW30\": \"^DJI\",\n",
    "    \"EuroStoxx50\": \"^STOXX50E\",\n",
    "    \"NASDAQ\": \"^IXIC\",\n",
    "    \"CrudeOil\": \"CL=F\",  # Futures contract for Crude Oil\n",
    "    \"SSE\": \"000001.SS\",  # Shanghai Composite Index\n",
    "    \"Gold\": \"GC=F\",  # Futures contract for Gold\n",
    "    \"VIX\": \"^VIX\",\n",
    "    \"Nikkei225\": \"^N225\",\n",
    "    \"FTSE100\": \"^FTSE\",\n",
    "    \"EURUSD\": \"EURUSD=X\",\n",
    "    \"CNYUSD\": \"CNYUSD=X\",\n",
    "    \"GBPUSD\": \"GBPUSD=X\",\n",
    "    \"JPYUSD\": \"JPYUSD=X\",\n",
    "    \"CHFUSD\": \"CHFUSD=X\",\n",
    "    \"BTC\": \"BTC-USD\"\n",
    "}"
   ],
   "metadata": {
    "collapsed": false,
    "ExecuteTime": {
     "end_time": "2024-04-02T15:43:39.036995Z",
     "start_time": "2024-04-02T15:43:39.030987Z"
    }
   },
   "id": "199de5fbfb70bb73",
   "execution_count": 17
  },
  {
   "cell_type": "code",
   "outputs": [
    {
     "name": "stderr",
     "output_type": "stream",
     "text": [
      "E:\\DS440proj\\BTCpred\\.venv\\lib\\site-packages\\yfinance\\utils.py:775: FutureWarning: The 'unit' keyword in TimedeltaIndex construction is deprecated and will be removed in a future version. Use pd.to_timedelta instead.\n",
      "  df.index += _pd.TimedeltaIndex(dst_error_hours, 'h')\n",
      "[*********************100%%**********************]  1 of 1 completed\n",
      "E:\\DS440proj\\BTCpred\\.venv\\lib\\site-packages\\yfinance\\utils.py:775: FutureWarning: The 'unit' keyword in TimedeltaIndex construction is deprecated and will be removed in a future version. Use pd.to_timedelta instead.\n",
      "  df.index += _pd.TimedeltaIndex(dst_error_hours, 'h')\n",
      "[*********************100%%**********************]  1 of 1 completed\n",
      "E:\\DS440proj\\BTCpred\\.venv\\lib\\site-packages\\yfinance\\utils.py:775: FutureWarning: The 'unit' keyword in TimedeltaIndex construction is deprecated and will be removed in a future version. Use pd.to_timedelta instead.\n",
      "  df.index += _pd.TimedeltaIndex(dst_error_hours, 'h')\n",
      "[*********************100%%**********************]  1 of 1 completed\n",
      "E:\\DS440proj\\BTCpred\\.venv\\lib\\site-packages\\yfinance\\utils.py:775: FutureWarning: The 'unit' keyword in TimedeltaIndex construction is deprecated and will be removed in a future version. Use pd.to_timedelta instead.\n",
      "  df.index += _pd.TimedeltaIndex(dst_error_hours, 'h')\n",
      "[*********************100%%**********************]  1 of 1 completed\n",
      "E:\\DS440proj\\BTCpred\\.venv\\lib\\site-packages\\yfinance\\utils.py:775: FutureWarning: The 'unit' keyword in TimedeltaIndex construction is deprecated and will be removed in a future version. Use pd.to_timedelta instead.\n",
      "  df.index += _pd.TimedeltaIndex(dst_error_hours, 'h')\n",
      "[*********************100%%**********************]  1 of 1 completed\n",
      "E:\\DS440proj\\BTCpred\\.venv\\lib\\site-packages\\yfinance\\utils.py:775: FutureWarning: The 'unit' keyword in TimedeltaIndex construction is deprecated and will be removed in a future version. Use pd.to_timedelta instead.\n",
      "  df.index += _pd.TimedeltaIndex(dst_error_hours, 'h')\n",
      "[*********************100%%**********************]  1 of 1 completed\n",
      "E:\\DS440proj\\BTCpred\\.venv\\lib\\site-packages\\yfinance\\utils.py:775: FutureWarning: The 'unit' keyword in TimedeltaIndex construction is deprecated and will be removed in a future version. Use pd.to_timedelta instead.\n",
      "  df.index += _pd.TimedeltaIndex(dst_error_hours, 'h')\n",
      "[*********************100%%**********************]  1 of 1 completed\n",
      "E:\\DS440proj\\BTCpred\\.venv\\lib\\site-packages\\yfinance\\utils.py:775: FutureWarning: The 'unit' keyword in TimedeltaIndex construction is deprecated and will be removed in a future version. Use pd.to_timedelta instead.\n",
      "  df.index += _pd.TimedeltaIndex(dst_error_hours, 'h')\n",
      "[*********************100%%**********************]  1 of 1 completed\n",
      "E:\\DS440proj\\BTCpred\\.venv\\lib\\site-packages\\yfinance\\utils.py:775: FutureWarning: The 'unit' keyword in TimedeltaIndex construction is deprecated and will be removed in a future version. Use pd.to_timedelta instead.\n",
      "  df.index += _pd.TimedeltaIndex(dst_error_hours, 'h')\n",
      "[*********************100%%**********************]  1 of 1 completed\n",
      "E:\\DS440proj\\BTCpred\\.venv\\lib\\site-packages\\yfinance\\utils.py:775: FutureWarning: The 'unit' keyword in TimedeltaIndex construction is deprecated and will be removed in a future version. Use pd.to_timedelta instead.\n",
      "  df.index += _pd.TimedeltaIndex(dst_error_hours, 'h')\n",
      "[*********************100%%**********************]  1 of 1 completed"
     ]
    },
    {
     "name": "stdout",
     "output_type": "stream",
     "text": [
      "Downloading SP500 data...\n",
      "SP500 data saved to SP500_data.csv\n",
      "Downloading DOW30 data...\n",
      "DOW30 data saved to DOW30_data.csv\n",
      "Downloading EuroStoxx50 data...\n",
      "EuroStoxx50 data saved to EuroStoxx50_data.csv\n",
      "Downloading NASDAQ data...\n",
      "NASDAQ data saved to NASDAQ_data.csv\n",
      "Downloading CrudeOil data...\n",
      "CrudeOil data saved to CrudeOil_data.csv\n",
      "Downloading SSE data...\n",
      "SSE data saved to SSE_data.csv\n",
      "Downloading Gold data...\n",
      "Gold data saved to Gold_data.csv\n",
      "Downloading VIX data...\n",
      "VIX data saved to VIX_data.csv\n",
      "Downloading Nikkei225 data...\n",
      "Nikkei225 data saved to Nikkei225_data.csv\n",
      "Downloading FTSE100 data...\n"
     ]
    },
    {
     "name": "stderr",
     "output_type": "stream",
     "text": [
      "\n",
      "E:\\DS440proj\\BTCpred\\.venv\\lib\\site-packages\\yfinance\\utils.py:775: FutureWarning: The 'unit' keyword in TimedeltaIndex construction is deprecated and will be removed in a future version. Use pd.to_timedelta instead.\n",
      "  df.index += _pd.TimedeltaIndex(dst_error_hours, 'h')\n",
      "[*********************100%%**********************]  1 of 1 completed\n",
      "E:\\DS440proj\\BTCpred\\.venv\\lib\\site-packages\\yfinance\\utils.py:775: FutureWarning: The 'unit' keyword in TimedeltaIndex construction is deprecated and will be removed in a future version. Use pd.to_timedelta instead.\n",
      "  df.index += _pd.TimedeltaIndex(dst_error_hours, 'h')\n",
      "[*********************100%%**********************]  1 of 1 completed\n",
      "E:\\DS440proj\\BTCpred\\.venv\\lib\\site-packages\\yfinance\\utils.py:775: FutureWarning: The 'unit' keyword in TimedeltaIndex construction is deprecated and will be removed in a future version. Use pd.to_timedelta instead.\n",
      "  df.index += _pd.TimedeltaIndex(dst_error_hours, 'h')\n",
      "[*********************100%%**********************]  1 of 1 completed\n",
      "E:\\DS440proj\\BTCpred\\.venv\\lib\\site-packages\\yfinance\\utils.py:775: FutureWarning: The 'unit' keyword in TimedeltaIndex construction is deprecated and will be removed in a future version. Use pd.to_timedelta instead.\n",
      "  df.index += _pd.TimedeltaIndex(dst_error_hours, 'h')\n",
      "[*********************100%%**********************]  1 of 1 completed\n",
      "E:\\DS440proj\\BTCpred\\.venv\\lib\\site-packages\\yfinance\\utils.py:775: FutureWarning: The 'unit' keyword in TimedeltaIndex construction is deprecated and will be removed in a future version. Use pd.to_timedelta instead.\n",
      "  df.index += _pd.TimedeltaIndex(dst_error_hours, 'h')\n",
      "[*********************100%%**********************]  1 of 1 completed\n"
     ]
    },
    {
     "name": "stdout",
     "output_type": "stream",
     "text": [
      "FTSE100 data saved to FTSE100_data.csv\n",
      "Downloading EURUSD data...\n",
      "EURUSD data saved to EURUSD_data.csv\n",
      "Downloading CNYUSD data...\n",
      "CNYUSD data saved to CNYUSD_data.csv\n",
      "Downloading GBPUSD data...\n",
      "GBPUSD data saved to GBPUSD_data.csv\n",
      "Downloading JPYUSD data...\n",
      "JPYUSD data saved to JPYUSD_data.csv\n",
      "Downloading CHFUSD data...\n",
      "CHFUSD data saved to CHFUSD_data.csv\n",
      "Downloading BTC data...\n"
     ]
    },
    {
     "name": "stderr",
     "output_type": "stream",
     "text": [
      "E:\\DS440proj\\BTCpred\\.venv\\lib\\site-packages\\yfinance\\utils.py:775: FutureWarning: The 'unit' keyword in TimedeltaIndex construction is deprecated and will be removed in a future version. Use pd.to_timedelta instead.\n",
      "  df.index += _pd.TimedeltaIndex(dst_error_hours, 'h')\n",
      "[*********************100%%**********************]  1 of 1 completed"
     ]
    },
    {
     "name": "stdout",
     "output_type": "stream",
     "text": [
      "BTC data saved to BTC_data.csv\n"
     ]
    },
    {
     "name": "stderr",
     "output_type": "stream",
     "text": [
      "\n"
     ]
    }
   ],
   "source": [
    "for name, ticker in tickers.items():\n",
    "    print(f\"Downloading {name} data...\")\n",
    "    data = yf.download(ticker, start=\"2022-01-31\", end=\"2024-02-20\", interval=\"1d\")\n",
    "    filename = f\"{name}_data.csv\"\n",
    "    data.to_csv(filename)\n",
    "    print(f\"{name} data saved to {filename}\")"
   ],
   "metadata": {
    "collapsed": false,
    "ExecuteTime": {
     "end_time": "2024-04-02T15:43:39.529567Z",
     "start_time": "2024-04-02T15:43:39.039Z"
    }
   },
   "id": "9f459dc7ad65576",
   "execution_count": 18
  },
  {
   "cell_type": "code",
   "outputs": [
    {
     "name": "stdout",
     "output_type": "stream",
     "text": [
      "SP500 dataset contains 515 rows.\n",
      "DOW30 dataset contains 515 rows.\n",
      "EuroStoxx50 dataset contains 519 rows.\n",
      "NASDAQ dataset contains 515 rows.\n",
      "CrudeOil dataset contains 516 rows.\n",
      "SSE dataset contains 494 rows.\n",
      "Gold dataset contains 516 rows.\n",
      "VIX dataset contains 515 rows.\n",
      "Nikkei225 dataset contains 503 rows.\n",
      "FTSE100 dataset contains 517 rows.\n",
      "EURUSD dataset contains 536 rows.\n",
      "CNYUSD dataset contains 536 rows.\n",
      "File GBPUSDJPYUSD_data.csv not found. Please ensure the data is downloaded and saved correctly.\n",
      "CHFUSD dataset contains 536 rows.\n",
      "BTC dataset contains 750 rows.\n"
     ]
    }
   ],
   "source": [
    "datasets = [\n",
    "    \"SP500\",\n",
    "    \"DOW30\",\n",
    "    \"EuroStoxx50\",\n",
    "    \"NASDAQ\",\n",
    "    \"CrudeOil\",\n",
    "    \"SSE\",\n",
    "    \"Gold\",\n",
    "    \"VIX\",\n",
    "    \"Nikkei225\",\n",
    "    \"FTSE100\",\n",
    "    \"EURUSD\",\n",
    "    \"CNYUSD\",\n",
    "    \"GBPUSD\"\n",
    "    \"JPYUSD\",\n",
    "    \"CHFUSD\",\n",
    "    \"BTC\"\n",
    "]\n",
    "\n",
    "for name in datasets:\n",
    "    filename = f\"{name}_data.csv\"\n",
    "    try:\n",
    "        data = pd.read_csv(filename)\n",
    "        print(f\"{name} dataset contains {len(data)} rows.\")\n",
    "    except FileNotFoundError:\n",
    "        print(f\"File {filename} not found. Please ensure the data is downloaded and saved correctly.\")"
   ],
   "metadata": {
    "collapsed": false,
    "ExecuteTime": {
     "end_time": "2024-04-02T15:43:39.575672Z",
     "start_time": "2024-04-02T15:43:39.530824Z"
    }
   },
   "id": "f9345c7df251b4c5",
   "execution_count": 19
  },
  {
   "cell_type": "code",
   "outputs": [
    {
     "data": {
      "text/plain": "           Date         Open         High          Low        Close  \\\n0    2022-01-31  4431.790039  4516.890137  4414.020020  4515.549805   \n1    2022-02-01  4519.569824  4550.490234  4483.529785  4546.540039   \n2    2022-02-02  4566.390137  4595.310059  4544.319824  4589.379883   \n3    2022-02-03  4535.410156  4542.879883  4470.390137  4477.439941   \n4    2022-02-04  4482.790039  4539.660156  4451.500000  4500.529785   \n..          ...          ...          ...          ...          ...   \n510  2024-02-12  5026.830078  5048.390137  5016.830078  5021.839844   \n511  2024-02-13  4967.939941  4971.299805  4920.310059  4953.169922   \n512  2024-02-14  4976.439941  5002.520020  4956.450195  5000.620117   \n513  2024-02-15  5003.140137  5032.720215  4999.439941  5029.729980   \n514  2024-02-16  5031.129883  5038.700195  4999.520020  5005.569824   \n\n       Adj Close      Volume  \n0    4515.549805  5098610000  \n1    4546.540039  4816830000  \n2    4589.379883  4481580000  \n3    4477.439941  4401970000  \n4    4500.529785  4706290000  \n..           ...         ...  \n510  5021.839844  3805740000  \n511  4953.169922  4302190000  \n512  5000.620117  3845600000  \n513  5029.729980  4137970000  \n514  5005.569824  3833270000  \n\n[515 rows x 7 columns]",
      "text/html": "<div>\n<style scoped>\n    .dataframe tbody tr th:only-of-type {\n        vertical-align: middle;\n    }\n\n    .dataframe tbody tr th {\n        vertical-align: top;\n    }\n\n    .dataframe thead th {\n        text-align: right;\n    }\n</style>\n<table border=\"1\" class=\"dataframe\">\n  <thead>\n    <tr style=\"text-align: right;\">\n      <th></th>\n      <th>Date</th>\n      <th>Open</th>\n      <th>High</th>\n      <th>Low</th>\n      <th>Close</th>\n      <th>Adj Close</th>\n      <th>Volume</th>\n    </tr>\n  </thead>\n  <tbody>\n    <tr>\n      <th>0</th>\n      <td>2022-01-31</td>\n      <td>4431.790039</td>\n      <td>4516.890137</td>\n      <td>4414.020020</td>\n      <td>4515.549805</td>\n      <td>4515.549805</td>\n      <td>5098610000</td>\n    </tr>\n    <tr>\n      <th>1</th>\n      <td>2022-02-01</td>\n      <td>4519.569824</td>\n      <td>4550.490234</td>\n      <td>4483.529785</td>\n      <td>4546.540039</td>\n      <td>4546.540039</td>\n      <td>4816830000</td>\n    </tr>\n    <tr>\n      <th>2</th>\n      <td>2022-02-02</td>\n      <td>4566.390137</td>\n      <td>4595.310059</td>\n      <td>4544.319824</td>\n      <td>4589.379883</td>\n      <td>4589.379883</td>\n      <td>4481580000</td>\n    </tr>\n    <tr>\n      <th>3</th>\n      <td>2022-02-03</td>\n      <td>4535.410156</td>\n      <td>4542.879883</td>\n      <td>4470.390137</td>\n      <td>4477.439941</td>\n      <td>4477.439941</td>\n      <td>4401970000</td>\n    </tr>\n    <tr>\n      <th>4</th>\n      <td>2022-02-04</td>\n      <td>4482.790039</td>\n      <td>4539.660156</td>\n      <td>4451.500000</td>\n      <td>4500.529785</td>\n      <td>4500.529785</td>\n      <td>4706290000</td>\n    </tr>\n    <tr>\n      <th>...</th>\n      <td>...</td>\n      <td>...</td>\n      <td>...</td>\n      <td>...</td>\n      <td>...</td>\n      <td>...</td>\n      <td>...</td>\n    </tr>\n    <tr>\n      <th>510</th>\n      <td>2024-02-12</td>\n      <td>5026.830078</td>\n      <td>5048.390137</td>\n      <td>5016.830078</td>\n      <td>5021.839844</td>\n      <td>5021.839844</td>\n      <td>3805740000</td>\n    </tr>\n    <tr>\n      <th>511</th>\n      <td>2024-02-13</td>\n      <td>4967.939941</td>\n      <td>4971.299805</td>\n      <td>4920.310059</td>\n      <td>4953.169922</td>\n      <td>4953.169922</td>\n      <td>4302190000</td>\n    </tr>\n    <tr>\n      <th>512</th>\n      <td>2024-02-14</td>\n      <td>4976.439941</td>\n      <td>5002.520020</td>\n      <td>4956.450195</td>\n      <td>5000.620117</td>\n      <td>5000.620117</td>\n      <td>3845600000</td>\n    </tr>\n    <tr>\n      <th>513</th>\n      <td>2024-02-15</td>\n      <td>5003.140137</td>\n      <td>5032.720215</td>\n      <td>4999.439941</td>\n      <td>5029.729980</td>\n      <td>5029.729980</td>\n      <td>4137970000</td>\n    </tr>\n    <tr>\n      <th>514</th>\n      <td>2024-02-16</td>\n      <td>5031.129883</td>\n      <td>5038.700195</td>\n      <td>4999.520020</td>\n      <td>5005.569824</td>\n      <td>5005.569824</td>\n      <td>3833270000</td>\n    </tr>\n  </tbody>\n</table>\n<p>515 rows × 7 columns</p>\n</div>"
     },
     "execution_count": 20,
     "metadata": {},
     "output_type": "execute_result"
    }
   ],
   "source": [
    "SP500_data = pd.read_csv(\"SP500_data.csv\")\n",
    "SP500_data"
   ],
   "metadata": {
    "collapsed": false,
    "ExecuteTime": {
     "end_time": "2024-04-02T15:43:39.591172Z",
     "start_time": "2024-04-02T15:43:39.577172Z"
    }
   },
   "id": "38f427fd8393bfd9",
   "execution_count": 20
  },
  {
   "cell_type": "code",
   "outputs": [],
   "source": [
    "datasets = [\n",
    "    \"SP500\",\n",
    "    \"DOW30\",\n",
    "    \"EuroStoxx50\",\n",
    "    \"NASDAQ\",\n",
    "    \"CrudeOil\",\n",
    "    \"SSE\",\n",
    "    \"Gold\",\n",
    "    \"VIX\",\n",
    "    \"Nikkei225\",\n",
    "    \"FTSE100\",\n",
    "    \"EURUSD\",\n",
    "    \"CNYUSD\",\n",
    "    \"GBPUSD\",\n",
    "    \"JPYUSD\",\n",
    "    \"CHFUSD\",\n",
    "    \"BTC\"\n",
    "]\n",
    "\n",
    "dataframes = []  # List to store each dataframe\n",
    "\n",
    "for name in datasets:\n",
    "    filename = f\"{name}_data.csv\"\n",
    "    try:\n",
    "        # Load the dataset\n",
    "        df = pd.read_csv(filename, index_col='Date', parse_dates=True)\n",
    "        # Keep only the 'Close' column and rename it to the dataset name\n",
    "        df = df[['Close']].rename(columns={'Close': name})\n",
    "        dataframes.append(df)\n",
    "    except FileNotFoundError:\n",
    "        print(f\"File {filename} not found. Please ensure the data is downloaded and saved correctly.\")"
   ],
   "metadata": {
    "collapsed": false,
    "ExecuteTime": {
     "end_time": "2024-04-02T15:43:39.653227Z",
     "start_time": "2024-04-02T15:43:39.592673Z"
    }
   },
   "id": "b8b27e840f8baea1",
   "execution_count": 21
  },
  {
   "cell_type": "code",
   "outputs": [],
   "source": [
    "# Use the functools.reduce function to iteratively merge dataframes on the index\n",
    "from functools import reduce\n",
    "\n",
    "# Merge all dataframes on the datetime index\n",
    "merged_df = reduce(lambda left, right: pd.merge(left, right, left_index=True, right_index=True, how='outer'), dataframes)\n",
    "\n",
    "# Sort the dataframe by datetime index just in case\n",
    "merged_df.sort_index(inplace=True)"
   ],
   "metadata": {
    "collapsed": false,
    "ExecuteTime": {
     "end_time": "2024-04-02T15:43:39.668728Z",
     "start_time": "2024-04-02T15:43:39.655227Z"
    }
   },
   "id": "a99d2ca1c9c66b0a",
   "execution_count": 22
  },
  {
   "cell_type": "code",
   "outputs": [],
   "source": [
    "merged_df.to_csv('raw_daily_data.csv')"
   ],
   "metadata": {
    "collapsed": false,
    "ExecuteTime": {
     "end_time": "2024-04-02T15:43:39.684227Z",
     "start_time": "2024-04-02T15:43:39.670227Z"
    }
   },
   "id": "eabd64758f24ba9f",
   "execution_count": 23
  },
  {
   "cell_type": "code",
   "outputs": [],
   "source": [],
   "metadata": {
    "collapsed": false,
    "ExecuteTime": {
     "end_time": "2024-04-02T15:43:39.700042Z",
     "start_time": "2024-04-02T15:43:39.686087Z"
    }
   },
   "id": "243761c60477cd49",
   "execution_count": 23
  }
 ],
 "metadata": {
  "kernelspec": {
   "display_name": "Python 3",
   "language": "python",
   "name": "python3"
  },
  "language_info": {
   "codemirror_mode": {
    "name": "ipython",
    "version": 2
   },
   "file_extension": ".py",
   "mimetype": "text/x-python",
   "name": "python",
   "nbconvert_exporter": "python",
   "pygments_lexer": "ipython2",
   "version": "2.7.6"
  }
 },
 "nbformat": 4,
 "nbformat_minor": 5
}
